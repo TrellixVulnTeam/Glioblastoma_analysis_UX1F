{
 "cells": [
  {
   "cell_type": "code",
   "execution_count": 5,
   "metadata": {
    "pycharm": {
     "name": "#%%\n"
    }
   },
   "outputs": [
    {
     "name": "stdout",
     "output_type": "stream",
     "text": [
      "PhysicalDevice(name='/physical_device:GPU:0', device_type='GPU')\n"
     ]
    }
   ],
   "source": [
    "import tensorflow as tf\n",
    "\n",
    "gpus = tf.config.list_physical_devices('GPU')\n",
    "print(gpus[0])\n",
    "\n",
    "# Assume that you have 12GB of GPU memory and want to allocate ~4GB:\n",
    "gpu_options = tf.config.experimental.set_memory_growth(gpus[0], True)\n",
    "\n"
   ]
  },
  {
   "cell_type": "code",
   "execution_count": 2,
   "metadata": {
    "pycharm": {
     "name": "#%%\n"
    }
   },
   "outputs": [
    {
     "name": "stdout",
     "output_type": "stream",
     "text": [
      "on 0: (1510, 1805, 3)\n",
      "on 1: (1510, 1805, 3)\n",
      "on 2: (1510, 1805, 3)\n",
      "on 3: (1510, 1805, 3)\n",
      "on 4: (1510, 1805, 3)\n",
      "on 5: (1510, 1805, 3)\n",
      "on 6: (1510, 1805, 3)\n",
      "on 7: (1510, 1805, 3)\n",
      "on 8: (1510, 1805, 3)\n",
      "on 9: (1510, 1805, 3)\n",
      "on 10: (1510, 1805, 3)\n",
      "on 11: (1510, 1805, 3)\n",
      "on 12: (1510, 1805, 3)\n",
      "on 13: (1510, 1805, 3)\n",
      "on 14: (1510, 1805, 3)\n",
      "on 15: (1510, 1805, 3)\n",
      "on 16: (1510, 1805, 3)\n",
      "on 17: (1510, 1805, 3)\n",
      "on 18: (1510, 1805, 3)\n",
      "on 19: (1510, 1805, 3)\n",
      "on 20: (1510, 1805, 3)\n",
      "on 21: (1510, 1805, 3)\n",
      "on 22: (1510, 1805, 3)\n",
      "on 23: (1510, 1805, 3)\n",
      "on 24: (1510, 1805, 3)\n",
      "on 25: (1510, 1805, 3)\n",
      "on 26: (1510, 1805, 3)\n",
      "on 27: (1510, 1805, 3)\n",
      "on 28: (1510, 1805, 3)\n",
      "on 29: (1510, 1805, 3)\n",
      "on 30: (1510, 1805, 3)\n",
      "on 31: (1510, 1805, 3)\n",
      "on 32: (1510, 1805, 3)\n",
      "on 33: (1510, 1805, 3)\n",
      "on 34: (1510, 1805, 3)\n",
      "on 35: (1510, 1805, 3)\n",
      "on 36: (1510, 1805, 3)\n",
      "on 37: (1510, 1805, 3)\n",
      "on 38: (1510, 1805, 3)\n",
      "on 39: (1510, 1805, 3)\n",
      "on 40: (1510, 1805, 3)\n",
      "on 41: (1510, 1805, 3)\n",
      "on 42: (1510, 1805, 3)\n",
      "on 43: (1510, 1805, 3)\n",
      "on 44: (1510, 1805, 3)\n",
      "on 45: (1510, 1805, 3)\n",
      "on 46: (1510, 1805, 3)\n",
      "on 47: (1510, 1805, 3)\n",
      "on 48: (1510, 1805, 3)\n",
      "on 49: (1510, 1805, 3)\n",
      "generating label/image batches |████████████████████████████████████████████████████████████████████████████████████████████████████✗︎ (!) 50/25 [200%] in 48.6s (1.03/s) \n"
     ]
    },
    {
     "ename": "NameError",
     "evalue": "name 'tf' is not defined",
     "output_type": "error",
     "traceback": [
      "\u001B[1;31m---------------------------------------------------------------------------\u001B[0m",
      "\u001B[1;31mNameError\u001B[0m                                 Traceback (most recent call last)",
      "Input \u001B[1;32mIn [2]\u001B[0m, in \u001B[0;36m<cell line: 61>\u001B[1;34m()\u001B[0m\n\u001B[0;32m     57\u001B[0m         \u001B[38;5;28mprint\u001B[39m(new_data\u001B[38;5;241m.\u001B[39mshape)\n\u001B[0;32m     58\u001B[0m         bar()\n\u001B[1;32m---> 61\u001B[0m \u001B[43mtf\u001B[49m\u001B[38;5;241m.\u001B[39mconfig\u001B[38;5;241m.\u001B[39mexperimental\u001B[38;5;241m.\u001B[39mlist_physical_devices()\n",
      "\u001B[1;31mNameError\u001B[0m: name 'tf' is not defined"
     ]
    }
   ],
   "source": [
    "\n",
    "import os\n",
    "import json\n",
    "import shutil\n",
    "\n",
    "import numpy as np\n",
    "from PIL import Image\n",
    "from alive_progress import alive_bar\n",
    "from keras.callbacks import ModelCheckpoint, EarlyStopping, TensorBoard\n",
    "from matplotlib import pyplot as plt\n",
    "\n",
    "from keras.models import Sequential, load_model\n",
    "from sklearn.model_selection import train_test_split\n",
    "from keras.layers import Conv2D, Flatten, Dense, Activation, MaxPooling2D, Dropout, Input, BatchNormalization\n",
    "\n",
    "\n",
    "import os\n",
    "import json\n",
    "import numpy as np\n",
    "from PIL import Image\n",
    "from sklearn.model_selection import train_test_split\n",
    "\n",
    "\n",
    "# tensorboard --logdir logs/\n",
    "\n",
    "\n",
    "Image.MAX_IMAGE_PIXELS = None\n",
    "directory = 'data/gba_data'\n",
    "# with alive_bar(25*3, title=\"generating label/image batches\", length=100, spinner=\"arrow\") as bar:\n",
    "#     for image in os.listdir(directory):\n",
    "#         for i in range(3): #change here to get to lowest number that fits on GPU memory\n",
    "#\n",
    "#             f = os.path.join(directory, image)\n",
    "#             img = Image.open(f)\n",
    "#             data = np.asarray(img)\n",
    "#\n",
    "#             new_img = img.resize((round(data.shape[0]/2), round(data.shape[1]/2)))\n",
    "#             bar()\n",
    "#\n",
    "#         print(data.shape)\n",
    "#         img.save('data/training data/resized/'+ new_img)\n",
    "#         # print(image)\n",
    "\n",
    "# img.thumbnail((round(data.shape[0]/2), round(data.shape[1]/2)))\n",
    "# img.save('image_12.jpg')\n",
    "#\n",
    "# data = np.asarray(img)\n",
    "\n",
    "with alive_bar(25, title=\"generating label/image batches\", length=100, spinner=\"arrow\") as bar:\n",
    "    for image in os.listdir(directory):\n",
    "        f = os.path.join(directory, image)\n",
    "        img = Image.open(f)\n",
    "        data = np.asarray(img)\n",
    "        # new_img = img.resize((round(data.shape[0]/10), round(data.shape[1]/10)))\n",
    "        new_img = img.resize((1805, 1510))\n",
    "        new_img.save('data/resized/' + image)\n",
    "        new_data = np.asarray(new_img)\n",
    "        print(new_data.shape)\n",
    "        bar()\n",
    "\n",
    "\n",
    "tf.config.experimental.list_physical_devices()"
   ]
  },
  {
   "cell_type": "code",
   "execution_count": 3,
   "metadata": {
    "pycharm": {
     "name": "#%%\n"
    }
   },
   "outputs": [
    {
     "name": "stdout",
     "output_type": "stream",
     "text": [
      "(1510, 1805, 3)\n"
     ]
    },
    {
     "ename": "NameError",
     "evalue": "name 'tf' is not defined",
     "output_type": "error",
     "traceback": [
      "\u001B[1;31m---------------------------------------------------------------------------\u001B[0m",
      "\u001B[1;31mNameError\u001B[0m                                 Traceback (most recent call last)",
      "Input \u001B[1;32mIn [3]\u001B[0m, in \u001B[0;36m<cell line: 16>\u001B[1;34m()\u001B[0m\n\u001B[0;32m     13\u001B[0m    \u001B[38;5;28;01mexcept\u001B[39;00m \u001B[38;5;167;01mException\u001B[39;00m \u001B[38;5;28;01mas\u001B[39;00m e:\n\u001B[0;32m     14\u001B[0m        \u001B[38;5;28mprint\u001B[39m(\u001B[38;5;124m'\u001B[39m\u001B[38;5;124mFailed to delete \u001B[39m\u001B[38;5;132;01m%s\u001B[39;00m\u001B[38;5;124m. Reason: \u001B[39m\u001B[38;5;132;01m%s\u001B[39;00m\u001B[38;5;124m'\u001B[39m \u001B[38;5;241m%\u001B[39m (file_path, e))\n\u001B[1;32m---> 16\u001B[0m \u001B[38;5;28;01mwith\u001B[39;00m \u001B[43mtf\u001B[49m\u001B[38;5;241m.\u001B[39mdevice(\u001B[38;5;124m'\u001B[39m\u001B[38;5;124m/GPU:0\u001B[39m\u001B[38;5;124m'\u001B[39m):\n\u001B[0;32m     17\u001B[0m    model \u001B[38;5;241m=\u001B[39m Sequential()\n\u001B[0;32m     19\u001B[0m    model\u001B[38;5;241m.\u001B[39madd(Conv2D(\u001B[38;5;241m50\u001B[39m, kernel_size\u001B[38;5;241m=\u001B[39m\u001B[38;5;241m5\u001B[39m, padding\u001B[38;5;241m=\u001B[39m\u001B[38;5;124m'\u001B[39m\u001B[38;5;124msame\u001B[39m\u001B[38;5;124m'\u001B[39m, strides\u001B[38;5;241m=\u001B[39m\u001B[38;5;241m2\u001B[39m, activation\u001B[38;5;241m=\u001B[39m\u001B[38;5;124m'\u001B[39m\u001B[38;5;124mrelu\u001B[39m\u001B[38;5;124m'\u001B[39m, input_shape\u001B[38;5;241m=\u001B[39mnew_data\u001B[38;5;241m.\u001B[39mshape))\n",
      "\u001B[1;31mNameError\u001B[0m: name 'tf' is not defined"
     ]
    }
   ],
   "source": [
    " # %reset -f\n",
    "\n",
    "\n",
    "print(new_data.shape)\n",
    "folder = 'logs/'\n",
    "for filename in os.listdir(folder):\n",
    "    file_path = os.path.join(folder, filename)\n",
    "    try:\n",
    "        if os.path.isfile(file_path) or os.path.islink(file_path):\n",
    "            os.unlink(file_path)\n",
    "        elif os.path.isdir(file_path):\n",
    "            shutil.rmtree(file_path)\n",
    "    except Exception as e:\n",
    "        print('Failed to delete %s. Reason: %s' % (file_path, e))\n",
    "\n",
    "with tf.device('/GPU:0'):\n",
    "    model = Sequential()\n",
    "\n",
    "    model.add(Conv2D(50, kernel_size=5, padding='same', strides=2, activation='relu', input_shape=new_data.shape))\n",
    "    model.add(Dropout(0.3))\n",
    "\n",
    "    model.add(Conv2D(100, padding='same', kernel_size=3, strides=1, activation='relu'))\n",
    "    model.add(MaxPooling2D(pool_size=(2, 2), strides=2))\n",
    "\n",
    "    model.add(Conv2D(150, kernel_size=3, strides=2, activation='relu'))\n",
    "    model.add(Dropout(0.3))\n",
    "\n",
    "    model.add(Conv2D(200, kernel_size=3, strides=2, activation='relu'))\n",
    "    model.add(Dropout(0.3))\n",
    "\n",
    "    model.add(Conv2D(200, kernel_size=3, strides=2, activation='relu'))\n",
    "    model.add(Dropout(0.3))\n",
    "\n",
    "    model.add(Flatten())\n",
    "\n",
    "    model.add(Dense(100, activation='relu'))\n",
    "    model.add(Dropout(0.4))\n",
    "    model.add(Dense(200, activation='relu'))\n",
    "    model.add(Dropout(0.4))\n",
    "    model.add(Dense(2, activation='linear'))\n",
    "\n",
    "    model.compile(loss='mse',optimizer='adam', metrics=['mae'])\n",
    "\n",
    "    checkpoint = ModelCheckpoint(\"rotnet_reg_model\", monitor='mae', verbose=1, save_best_only=True, save_weights_only=False, mode='auto', save_freq=1)\n",
    "    early = EarlyStopping(monitor='mae', min_delta=0.001, patience=20, verbose=2, mode='auto')\n",
    "\n",
    "    tensorboard = TensorBoard()\n",
    "\n",
    "    model.summary()\n",
    "    # model.fit(x, y, shuffle=True, workers=1, max_queue_size=1, use_multiprocessing=True, batch_size=64, epochs=50, validation_data=(x_val, y_val), callbacks=[checkpoint, early, tensorboard])\n",
    "\n"
   ]
  }
 ],
 "metadata": {
  "kernelspec": {
   "display_name": "Python 3 (ipykernel)",
   "language": "python",
   "name": "python3"
  },
  "language_info": {
   "codemirror_mode": {
    "name": "ipython",
    "version": 3
   },
   "file_extension": ".py",
   "mimetype": "text/x-python",
   "name": "python",
   "nbconvert_exporter": "python",
   "pygments_lexer": "ipython3",
   "version": "3.9.6"
  }
 },
 "nbformat": 4,
 "nbformat_minor": 1
}