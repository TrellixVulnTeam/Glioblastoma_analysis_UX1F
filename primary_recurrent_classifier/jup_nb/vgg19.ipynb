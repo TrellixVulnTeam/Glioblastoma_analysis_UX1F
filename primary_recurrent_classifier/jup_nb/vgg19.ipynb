{
 "cells": [
  {
   "cell_type": "code",
   "execution_count": 22,
   "outputs": [],
   "source": [
    "from tensorflow.keras.layers import Input, Lambda, Dense, Flatten,Dropout\n",
    "from tensorflow.keras.models import Model\n",
    "from tensorflow.keras.applications.vgg19 import VGG19\n",
    "from tensorflow.keras.applications.vgg19 import preprocess_input\n",
    "from tensorflow.keras.preprocessing import image\n",
    "from tensorflow.keras.preprocessing.image import ImageDataGenerator\n",
    "from tensorflow.keras.models import Sequential\n",
    "import numpy as np\n",
    "import pandas as pd\n",
    "import os\n",
    "import cv2\n",
    "import matplotlib.pyplot as plt\n"
   ],
   "metadata": {
    "collapsed": false,
    "pycharm": {
     "name": "#%%\n"
    }
   }
  },
  {
   "cell_type": "code",
   "execution_count": 23,
   "outputs": [],
   "source": [
    "train_path=\"data/uab_data/train\"\n",
    "# test_path=\"data/uab_data/Images\"\n",
    "val_path=\"data/uab_data/val\""
   ],
   "metadata": {
    "collapsed": false,
    "pycharm": {
     "name": "#%%\n"
    }
   }
  },
  {
   "cell_type": "code",
   "execution_count": 24,
   "outputs": [],
   "source": [
    "x_train=[]\n",
    "\n",
    "for folder in os.listdir(train_path):\n",
    "\n",
    "    sub_path=train_path+\"/\"+folder\n",
    "\n",
    "    for img in os.listdir(sub_path):\n",
    "\n",
    "        image_path=sub_path+\"/\"+img\n",
    "\n",
    "        img_arr=cv2.imread(image_path)\n",
    "\n",
    "        img_arr=cv2.resize(img_arr,(224,224))\n",
    "\n",
    "        x_train.append(img_arr)\n",
    "\n",
    "# x_test=[]\n",
    "#\n",
    "# for folder in os.listdir(test_path):\n",
    "#\n",
    "#     sub_path=test_path+\"/\"+folder\n",
    "#\n",
    "#     for img in os.listdir(sub_path):\n",
    "#\n",
    "#         image_path=sub_path+\"/\"+img\n",
    "#\n",
    "#         img_arr=cv2.imread(image_path)\n",
    "#\n",
    "#         img_arr=cv2.resize(img_arr,(224,224))\n",
    "#\n",
    "#         x_test.append(img_arr)\n",
    "#\n",
    "x_val=[]\n",
    "\n",
    "for folder in os.listdir(val_path):\n",
    "\n",
    "    sub_path=val_path+\"/\"+folder\n",
    "\n",
    "    for img in os.listdir(sub_path):\n",
    "\n",
    "        image_path=sub_path+\"/\"+img\n",
    "\n",
    "        img_arr=cv2.imread(image_path)\n",
    "\n",
    "        img_arr=cv2.resize(img_arr,(224,224))\n",
    "\n",
    "        x_val.append(img_arr)"
   ],
   "metadata": {
    "collapsed": false,
    "pycharm": {
     "name": "#%%\n"
    }
   }
  },
  {
   "cell_type": "code",
   "execution_count": 25,
   "outputs": [],
   "source": [
    "train_x=np.array(x_train)\n",
    "# test_x=np.array(x_test)\n",
    "val_x=np.array(x_val)"
   ],
   "metadata": {
    "collapsed": false,
    "pycharm": {
     "name": "#%%\n"
    }
   }
  },
  {
   "cell_type": "code",
   "execution_count": 26,
   "outputs": [],
   "source": [
    "train_x=train_x/255.0\n",
    "# test_x=test_x/255.0\n",
    "val_x=val_x/255.0"
   ],
   "metadata": {
    "collapsed": false,
    "pycharm": {
     "name": "#%%\n"
    }
   }
  },
  {
   "cell_type": "code",
   "execution_count": 27,
   "outputs": [],
   "source": [
    "train_datagen = ImageDataGenerator(rescale = 1./255)\n",
    "# test_datagen = ImageDataGenerator(rescale = 1./255)\n",
    "val_datagen = ImageDataGenerator(rescale = 1./255)"
   ],
   "metadata": {
    "collapsed": false,
    "pycharm": {
     "name": "#%%\n"
    }
   }
  },
  {
   "cell_type": "code",
   "execution_count": 28,
   "outputs": [
    {
     "name": "stdout",
     "output_type": "stream",
     "text": [
      "Found 77 images belonging to 2 classes.\n",
      "Found 20 images belonging to 2 classes.\n"
     ]
    }
   ],
   "source": [
    "training_set = train_datagen.flow_from_directory(train_path,\n",
    "                                                 target_size = (224, 224),\n",
    "                                                 batch_size = 10,\n",
    "                                                 class_mode = 'sparse')\n",
    "# test_set = test_datagen.flow_from_directory(test_path,\n",
    "#                                             target_size = (224, 224),\n",
    "#                                             batch_size = 10,\n",
    "#                                             class_mode = 'sparse')\n",
    "val_set = val_datagen.flow_from_directory(val_path,\n",
    "                                            target_size = (224, 224),\n",
    "                                            batch_size = 10,\n",
    "                                            class_mode = 'sparse')"
   ],
   "metadata": {
    "collapsed": false,
    "pycharm": {
     "name": "#%%\n"
    }
   }
  },
  {
   "cell_type": "code",
   "execution_count": 29,
   "outputs": [],
   "source": [
    "train_y=training_set.classes\n",
    "# test_y=test_set.classes\n",
    "val_y=val_set.classes"
   ],
   "metadata": {
    "collapsed": false,
    "pycharm": {
     "name": "#%%\n"
    }
   }
  },
  {
   "cell_type": "code",
   "execution_count": 30,
   "outputs": [
    {
     "data": {
      "text/plain": "{'train_primary': 0, 'train_recurrent': 1}"
     },
     "execution_count": 30,
     "metadata": {},
     "output_type": "execute_result"
    }
   ],
   "source": [
    "training_set.class_indices"
   ],
   "metadata": {
    "collapsed": false,
    "pycharm": {
     "name": "#%%\n"
    }
   }
  },
  {
   "cell_type": "code",
   "execution_count": 31,
   "outputs": [
    {
     "ename": "AttributeError",
     "evalue": "'tuple' object has no attribute 'shape'",
     "output_type": "error",
     "traceback": [
      "\u001B[1;31m---------------------------------------------------------------------------\u001B[0m",
      "\u001B[1;31mAttributeError\u001B[0m                            Traceback (most recent call last)",
      "Input \u001B[1;32mIn [31]\u001B[0m, in \u001B[0;36m<cell line: 2>\u001B[1;34m()\u001B[0m\n\u001B[0;32m      1\u001B[0m \u001B[38;5;66;03m# train_y.shape,test_y.shape,val_y.shape\u001B[39;00m\n\u001B[1;32m----> 2\u001B[0m \u001B[43mtrain_y\u001B[49m\u001B[38;5;241;43m.\u001B[39;49m\u001B[43mshape\u001B[49m\u001B[38;5;241;43m.\u001B[39;49m\u001B[43mshape\u001B[49m,val_y\u001B[38;5;241m.\u001B[39mshape\n",
      "\u001B[1;31mAttributeError\u001B[0m: 'tuple' object has no attribute 'shape'"
     ]
    }
   ],
   "source": [
    "# train_y.shape,test_y.shape,val_y.shape\n",
    "train_y.shape.shape,val_y.shape\n",
    "\n"
   ],
   "metadata": {
    "collapsed": false,
    "pycharm": {
     "name": "#%%\n"
    }
   }
  },
  {
   "cell_type": "code",
   "execution_count": 33,
   "outputs": [
    {
     "name": "stdout",
     "output_type": "stream",
     "text": [
      "Downloading data from https://storage.googleapis.com/tensorflow/keras-applications/vgg19/vgg19_weights_tf_dim_ordering_tf_kernels_notop.h5\n",
      "80134624/80134624 [==============================] - 11s 0us/step\b\b\b\b\b\b\b\b\b\b\b\b\b\b\b\b\b\b\b\b\b\b\b\b\b\b\b\b\b\b\b\b\b\b\b\b\b\b\b\b\b\b\b\b\b\b\b\b\b\b\b\b\b\b\b\b\b\b\b\b\b\b\b\b\b\b\b\b\b\b\b\b\b\b\b\b\b\b\b\b\b\b\b\b\b\b\b\b\b\b\b\b\b\b\b\b\b\b\b\b\b\b\b\b\b\b\b\b\b\b\b\b\b\b\b\b\b\b\b\b\b\b\b\b\b\b\b\b\b\b\b\b\b\b\b\b\b\b\b\b\b\b\b\b\b\b\b\b\b\b\b\b\b\b\b\b\b\b\b\b\b\b\b\b\b\b\b\b\b\b\b\b\b\b\b\b\b\b\b\b\b\b\b\b\b\b\b\b\b\b\b\b\b\b\b\b\b\b\b\b\b\b\b\b\b\b\b\b\b\b\b\b\b\b\b\b\b\b\b\b\b\b\b\b\b\b\b\b\b\b\b\b\b\b\b\b\b\b\b\b\b\b\b\b\b\b\b\b\b\b\b\b\b\b\b\b\b\b\b\b\b\b\b\b\b\b\b\b\b\b\b\b\b\b\b\b\b\b\b\b\b\b\b\b\b\b\b\b\b\b\b\b\b\b\b\b\b\b\b\b\b\b\b\b\b\b\b\b\b\b\b\b\b\b\b\b\b\b\b\b\b\b\b\b\b\b\b\b\b\b\b\b\b\b\b\b\b\b\b\b\b\b\b\b\b\b\b\b\b\b\b\b\b\b\b\b\b\b\b\b\b\b\b\b\b\b\b\b\b\b\b\b\b\b\b\b\b\b\b\b\b\b\b\b\b\b\b\b\b\b\b\b\b\b\b\b\b\b\b\b\b\b\b\b\b\b\b\b\b\b\b\b\b\b\b\b\b\b\b\b\b\b\b\b\b\b\b\b\b\b\b\b\b\b\b\b\b\b\b\b\b\b\b\b\b\b\b\b\b\b\b\b\b\b\b\b\b\b\b\b\b\b\b\b\b\b\b\b\b\b\b\b\b\b\b\b\b\b\b\b\b\b\b\b\b\b\b\b\b\b\b\b\b\b\b\b\b\b\b\b\b\b\b\b\b\b\b\b\b\b\b\b\b\b\b\b\b\b\b\b\b\b\b\b\b\b\b\b\b\b\b\b\b\b\b\b\b\b\b\b\b\b\b\b\b\b\b\b\b\b\b\b\b\b\b\b\b\b\b\b\b\b\b\b\b\b\b\b\b\b\b\b\b\b\b\b\b\b\b\b\b\b\b\b\b\b\b\b\b\b\b\b\b\b\b\b\b\b\b\b\b\b\b\b\b\b\b\b\b\b\b\b\b\b\b\b\b\b\b\b\b\b\b\b\b\b\b\b\b\b\b\b\b\b\b\b\b\b\b\b\b\b\b\b\b\b\b\b\b\b\b\b\b\b\b\b\b\b\b\b\b\b\b\b\b\b\b\b\b\b\b\b\b\b\b\b\b\b\b\b\b\b\b\b\b\b\b\b\b\b\b\b\b\b\b\b\b\b\b\b\b\b\b\b\b\b\b\b\b\b\b\b\b\b\b\b\b\b\b\b\b\b\b\b\b\b\b\b\b\b\b\b\b\b\b\b\b\b\b\b\b\b\b\b\b\b\b\b\b\b\b\b\b\b\b\b\b\b\b\b\b\b\b\b\b\b\b\b\b\b\b\b\b\b\b\b\b\b\b\b\b\b\b\b\b\b\b\b\b\b\b\b\b\b\b\b\b\b\b\b\b\b\b\b\b\b\b\b\b\b\b\b\b\b\b\b\b\b\b\b\b\b\b\b\b\b\b\b\b\b\b\b\b\b\b\b\b\b\b\b\b\b\b\b\b\b\b\b\b\b\b\b\b\b\b\b\b\b\b\b\b\b\b\b\b\b\b\b\b\b\b\b\b\b\b\b\b\b\b\b\b\b\b\b\b\b\b\b\b\b\b\b\b\b\b\b\b\b\b\b\b\b\b\b\b\b\b\b\b\b\b\b\b\b\b\b\b\b\b\b\b\b\b\b\b\b\b\b\b\b\b\b\b\b\b\b\b\b\b\b\b\b\b\b\b\b\b\b\b\b\b\b\b\b\b\b\b\b\b\b\b\b\b\b\b\b\b\b\b\b\b\b\b\b\b\b\b\b\b\b\b\b\b\b\b\b\b\b\b\b\b\b\b\b\b\b\b\b\b\b\b\b\b\b\b\b\b\b\b\b\b\b\b\b\b\b\b\b\b\b\b\b\b\b\b\b\b\b\b\b\b\b\b\b\b\b\b\b\b\b\b\b\b\b\b\b\b\b\b\b\b\b\b\b\b\b\b\b\b\b\b\b\b\b\b\b\b\b\b\b\b\b\b\b\b\b\b\b\b\b\b\b\b\b\b\b\b\b\b\b\b\b\b\b\b\b\b\b\b\b\b\b\b\b\b\b\b\b\b\b\b\b\b\b\b\b\b\b\b\b\b\b\b\b\b\b\b\b\b\b\b\b\b\b\b\b\b\b\b\b\b\b\b\b\b\b\b\b\b\b\b\b\b\b\b\b\b\b\b\b\b\b\b\b\b\b\b\b\b\b\b\b\b\b\b\b\b\b\b\b\b\b\b\b\b\b\b\b\b\b\b\b\b\b\b\b\b\b\b\b\b\b\b\b\b\b\b\b\b\b\b\b\b\b\b\b\b\b\b\b\b\b\b\b\b\b\b\b\b\b\b\b\b\b\b\b\b\b\b\b\b\b\b\b\b\b\b\b\b\b\b\b\b\b\b\b\b\b\b\b\b\b\b\b\b\b\b\b\b\b\b\b\b\b\b\b\b\b\b\b\b\b\b\b\b\b\b\b\b\b\b\b\b\b\b\b\b\b\b\b\b\b\b\b\b\b\b\b\b\b\b\b\b\b\b\b\b\b\b\b\b\b\b\b\b\b\b\b\b\b\b\b\b\b\b\b\b\b\b\b\b\b\b\b\b\b\b\b\b\b\b\b\b\b\b\b\b\b\b\b\b\b\b\b\b\b\b\b\b\b\b\b\b\b\b\b\b\b\b\b\b\b\b\b\b\b\b\b\b\b\b\b\b\b\b\b\b\b\b\b\b\b\b\b\b\b\b\b\b\b\b\b\b\b\b\b\b\b\b\b\b\b\b\b\b\b\b\b\b\b\b\b\b\b\b\b\b\b\b\b\b\b\b\b\b\b\b\b\b\b\b\b\b\b\b\b\b\b\b\b\b\b\b\b\b\b\b\b\b\b\b\b\b\b\b\b\b\b\b\b\b\b\b\b\b\b\b\b\b\b\b\b\b\b\b\b\b\b\b\b\b\b\b\b\b\b\b\b\b\b\b\b\b\b\b\b\b\b\b\b\b\b\b\b\b\b\b\b\b\b\b\b\b\b\b\b\b\b\b\b\b\b\b\b\b\b\b\b\b\b\b\b\b\b\b\b\b\b\b\b\b\b\b\b\b\b\b\b\b\b\b\b\b\b\b\b\b\b\b\b\b\b\b\b\b\b\b\b\b\b\b\b\b\b\b\b\b\b\b\b\b\b\b\b\b\b\b\b\b\b\b\b\b\b\b\b\b\b\b\b\b\b\b\b\b\b\b\b\b\b\b\b\b\b\b\b\b\b\b\b\b\b\b\b\b\b\b\b\b\b\b\b\b\b\b\b\b\b\b\b\b\b\b\b\b\b\b\b\b\b\b\b\b\b\b\b\b\b\b\b\b\b\b\b\b\b\b\b\b\b\b\b\b\b\b\b\b\b\b\b\b\b\b\b\b\b\b\b\b\b\b\b\b\b\b\b\b\b\b\b\b\b\b\b\b\b\b\b\b\b\b\b\b\b\b\b\b\b\b\b\b\b\b\b\b\b\b\b\b\b\b\b\b\b\b\b\b\b\b\b\b\b\b\b\b\b\b\b\b\b\b\b\b\b\b\b\b\b\b\b\b\b\b\b\b\b\b\b\b\b\b\b\b\b\b\b\b\b\b\b\b\b\b\b\b\b\b\b\b\b\b\b\b\b\b\b\b\b\b\b\b\b\b\b\b\b\b\b\b\b\b\b\b\b\b\b\b\b\b\b\b\b\b\b\b\b\b\b\b\b\b\b\b\b\b\b\b\b\b\b\b\b\b\b\b\b\b\b\b\b\b\b\b\b\b\b\b\b\b\b\b\b\b\b\b\b\b\b\b\b\b\b\b\b\b\b\b\b\b\b\b\b\b\b\b\b\b\b\b\b\b\b\b\b\b\b\b\b\b\b\b\b\b\b\b\b\b\b\b\b\b\b\b\b\b\b\b\b\b\b\b\b\b\b\b\b\b\b\b\b\b\b\b\b\b\b\b\b\b\b\b\b\b\b\b\b\b\b\b\b\b\b\b\b\b\b\b\b\b\b\b\b\b\b\b\b\b\b\b\b\b\b\b\b\b\b\b\b\b\b\b\b\b\b\b\b\b\b\b\b\b\b\b\b\b\b\b\b\b\b\b\b\b\b\b\b\b\b\b\b\b\b\b\b\b\b\b\b\b\b\b\b\b\b\b\b\b\b\b\b\b\b\b\b\b\b\b\b\b\b\b\b\b\b\b\b\b\b\b\b\b\b\b\b\b\b\b\b\b\b\b\b\b\b\b\b\b\b\b\b\b\b\b\b\b\b\b\b\b\b\b\b\b\b\b\b\b\b\b\b\b\b\b\b\b\b\b\b\b\b\b\b\b\b\b\b\b\b\b\b\b\b\b\b\b\b\b\b\b\b\b\b\b\b\b\b\b\b\b\b\b\b\b\b\b\b\b\b\b\b\b\b\b\b\b\b\b\b\b\b\b\b\b\b\b\b\b\b\b\b\b\b\b\b\b\b\b\b\b\b\b\b\b\b\b\b\b\b\b\b\b\b\b\b\b\b\b\b\b\b\b\b\b\b\b\b\b\b\b\b\b\b\b\b\b\b\b\b\b\b\b\b\b\b\b\b\b\b\b\b\b\b\b\b\b\b\b\b\b\b\b\b\b\b\b\b\b\b\b\b\b\b\b\b\b\b\b\b\b\b\b\b\b\b\b\b\b\b\b\b\b\b\b\b\b\b\b\b\b\b\b\b\b\b\b\b\b\b\b\b\b\b\b\b\b\b\b\b\b\b\b\b\b\b\b\b\b\b\b\b\b\b\b\b\b\b\b\b\b\b\b\b\b\b\b\b\b\b\b\b\b\b\b\b\b\b\b\b\b\b\b\b\b\b\b\b\b\b\b\b\b\b\b\b\b\b\b\b\b\b\b\b\b\b\b\b\b\b\b\b\b\b\b\b\b\b\b\b\b\b\b\b\b\b\b\b\b\b\b\b\b\b\b\b\b\b\b\b\b\b\b\b\b\b\b\b\b\b\b\b\b\b\b\b\b\b\b\b\b\b\b\b\b\b\b\b\b\b\b\b\b\b\b\b\b\b\b\b\b\b\b\b\b\b\b\b\b\b\b\b\b\b\b\b\b\b\b\b\b\b\b\b\b\b\b\b\b\b\b\b\b\b\b\b\b\b\b\b\b\b\b\b\b\b\b\b\b\b\b\b\b\b\b\b\b\b\b\b\b\b\b\b\b\b\b\b\b\b\b\b\b\b\b\b\b\b\b\b\b\b\b\b\b\b\b\b\b\b\b\b\b\b\b\b\b\b\b\b\b\b\b\b\b\b\b\b\b\b\b\b\b\b\b\b\b\b\b\b\b\b\b\b\b\b\b\b\b\b\b\b\b\b\b\b\b\b\b\b\b\b\b\b\b\b\b\b\b\b\b\b\b\b\b\b\b\b\b\b\b\b\b\b\b\b\b\b\b\b\b\b\b\b\b\b\b\b\b\b\b\b\b\b\b\b\b\b\b\b\b\b\b\b\b\b\b\b\b\b\b\b\b\b\b\b\b\b\b\b\b\b\b\b\b\b\b\b\b\b\b\b\b\b\b\b\b\b\b\b\b\b\b\b\b\b\b\b\b\b\b\b\b\b\b\b\b\b\b\b\b\b\b\b\b\b\b\b\b\b\b\b\b\b\b\b\b\b\b\b\b\b\b\b\b\b\b\b\b\b\b\b\b\b\b\b\b\b\b\b\b\b\b\b\b\b\b\b\b\b\b\b\b\b\b\b\b\b\b\b\b\b\b\b\b\b\b\b\b\b\b\b\b\b\b\b\b\b\b\b\b\b\b\b\b\b\b\b\b\b\b\b\b\b\b\b\b\b\b\b\b\b\b\b\b\b\b\b\b\b\b\b\b\b\b\b\b\b\b\b\b\b\b\b\b\b\b\b\b\b\b\b\b\b\b\b\b\b\b\b\b\b\b\b\b\b\b\b\b\b\b\b\b\b\b\b\b\b\b\b\b\b\b\b\b\b\b\b\b\b\b\b\b\b\b\b\b\b\b\b\b\b\b\b\b\b\b\b\b\b\b\b\b\b\b\b\b\b\b\b\b\b\b\b\b\b\b\b\b\b\b\b\b\b\b\b\b\b\b\b\b\b\b\b\b\b\b\b\b\b\b\b\b\b\b\b\b\b\b\b\b\b\b\b\b\b\b\b\b\b\b\b\b\b\b\b\b\b\b\b\b\b\b\b\b\b\b\b\b\b\b\b\b\b\b\b\b\b\b\b\b\b\b\b\b\b\b\b\b\b\b\b\b\b\b\b\b\b\b\b\b\b\b\b\b\b\b\b\b\b\b\b\b\b\b\b\b\b\b\b\b\b\b\b\b\b\b\b\b\b\b\b\b\b\b\b\b\b\b\b\b\b\b\b\b\b\b\b\b\b\b\b\b\b\b\b\b\b\b\b\b\b\b\b\b\b\b\b\b\b\b\b\b\b\b\b\b\b\b\b\b\b\b\b\b\b\b\b\b\b\b\b\b\b\b\b\b\b\b\b\b\b\b\b\b\b\b\b\b\b\b\b\b\b\b\b\b\b\b\b\b\b\b\b\b\b\b\b\b\b\b\b\b\b\b\b\b\b\b\b\b\b\b\b\b\b\b\b\b\b\b\b\b\b\b\b\b\b\b\b\b\b\b\b\b\b\b\b\b\b\b\b\b\b\b\b\b\b\b\b\b\b\b\b\b\b\b\b\b\b\b\b\b\b\b\b\b\b\b\b\b\b\b\b\b\b\b\b\b\b\b\b\b\b\b\b\b\b\b\b\b\b\b\b\b\b\b\b\b\b\b\b\b\b\b\b\b\b\b\b\b\b\b\b\b\b\b\b\b\b\b\b\b\b\b\b\b\b\b\b\b\b\b\b\b\b\b\b\b\b\b\b\b\b\b\b\b\b\b\b\b\b\b\b\b\b\b\b\b\b\b\b\b\b\b\b\b\b\b\b\b\b\b\b\b\b\b\b\b\b\b\b\b\b\b\b\b\b\b\b\b\b\b\b\b\b\b\b\b\b\b\b\b\b\b\b\b\b\b\b\b\b\b\b\b\b\b\b\b\b\b\b\b\b\b\b\b\b\b\b\b\b\b\b\b\b\b\b\b\b\b\b\b\b\b\b\b\b\b\b\b\b\b\b\b\b\b\b\b\b\b\b\b\b\b\b\b\b\b\b\b\b\b\b\b\b\b\b\b\b\b\b\b\b\b\b\b\b\b\b\b\b\b\b\b\b\b\b\b\b\b\b\b\b\b\b\b\b\b\b\b\b\b\b\b\b\b\b\b\b\b\b\b\b\b\b\b\b\b\b\b\b\b\b\b\b\b\b\b\b\b\b\b\b\b\b\b\b\b\b\b\b\b\b\b\b\b\b\b\b\b\b\b\b\b\b\b\b\b\b\b\b\b\b\b\b\b\b\b\b\b\b\b\b\b\b\b\b\b\b\b\b\b\b\b\b\b\b\b\b\b\b\b\b\b\b\b\b\b\b\b\b\b\b\b\b\b\b\b\b\b\b\b\b\b\b\b\b\b\b\b\b\b\b\b\b\b\b\b\b\b\b\b\b\b\b\b\b\b\b\b\b\b\b\b\b\b\b\b\b\b\b\b\b\b\b\b\b\b\b\b\b\b\b\b\b\b\b\b\b\b\b\b\b\b\b\b\b\b\b\b\b\b\b\b\b\b\b\b\b\b\b\b\b\b\b\b\b\b\b\b\b\b\b\b\b\b\b\b\b\b\b\b\b\b\b\b\b\b\b\b\b\b\b\b\b\b\b\b\b\b\b\b\b\b\b\b\b\b\b\b\b\b\b\b\b\b\b\b\b\b\b\b\b\b\b\b\b\b\b\b\b\b\b\b\b\b\b\b\b\b\b\b\b\b\b\b\b\b\b\b\b\b\b\b\b\b\b\b\b\b\b\b\b\b\b\b\b\b\b\b\b\b\b\b\b\b\b\b\b\b\b\b\b\b\b\b\b\b\b\b\b\b\b\b\b\b\b\b\b\b\b\b\b\b\b\b\b\b\b\b\b\b\b\b\b\b\b\b\b\b\b\b\b\b\b\b\b\b\b\b\b\b\b\b\b\b\b\b\b\b\b\b\b\b\b\b\b\b\b\b\b\b\b\b\b\b\b\b\b\b\b\b\b\b\b\b\b\b\b\b\b\b\b\b\b\b\b\b\b\b\b\b\b\b\b\b\b\b\b\b\b\b\b\b\b\b\b\b\b\b\b\b\b\b\b\b\b\b\b\b\b\b\b\b\b\b\b\b\b\b\b\b\b\b\b\b\b\b\b\b\b\b\b\b\b\b\b\b\b\b\b\b\b\b\b\b\b\b\b\b\b\b\b\b\b\b\b\b\b\b\b\b\b\b\b\b\b\b\b\b\b\b\b\b\b\b\b\b\b\b\b\b\b\b\b\b\b\b\b\b\b\b\b\b\b\b\b\b\b\b\b\b\b\b\b\b\b\b\b\b\b\b\b\b\b\b\b\b\b\b\b\b\b\b\b\b\b\b\b\b\b\b\b\b\b\b\b\b\b\b\b\b\b\b\b\b\b\b\b\b\b\b\b\b\b\b\b\b\b\b\b\b\b\b\b\b\b\b\b\b\b\b\b\b\b\b\b\b\b\b\b\b\b\b\b\b\b\b\b\b\b\b\b\b\b\b\b\b\b\b\b\b\b\b\b\b\b\b\b\b\b\b\b\b\b\b\b\b\b\b\b\b\b\b\b\b\b\b\b\b\b\b\b\b\b\b\b\b\b\b\b\b\b\b\b\b\b\b\b\b\b\b\b\b\b\b\b\b\b\b\b\b\b\b\b\b\b\b\b\b\b\b\b\b\b\b\b\b\b\b\b\b\b\b\b\b\b\b\b\b\b\b\b\b\b\b\b\b\b\b\b\b\b\b\b\b\b\b\b\b\b\b\b\b\b\b\b\b\b\b\b\b\b\b\b\b\b\b\b\b\b\b\b\b\b\b\b\b\b\b\b\b\b\b\b\b\b\b\b\b\b\b\b\b\b\b\b\b\b\b\b\b\b\b\b\b\b\b\b\b\b\b\b\b\b\b\b\b\b\b\b\b\b\b\b\b\b\b\b\b\b\b\b\b\b\b\b\b\b\b\b\b\b\b\b\b\b\b\b\b\b\b\b\b\b\b\b\b\b\b\b\b\b\b\b\b\b\b\b\b\b\b\b\b\b\b\b\b\b\b\b\b\b\b\b\b\b\b\b\b\b\b\b\b\b\b\b\b\b\b\b\b\b\b\b\b\b\b\b\b\b\b\b\b\b\b\b\b\b\b\b\b\b\b\b\b\b\b\b\b\b\b\b\b\b\b\b\b\b\b\b\b\b\b\b\b\b\b\b\b\b\b\b\b\b\b\b\b\b\b\b\b\b\b\b\b\b\b\b\b\b\b\b\b\b\b\b\b\b\b\b\b\b\b\b\b\b\b\b\b\b\b\b\b\b\b\b\b\b\b\b\b\b\b\b\b\b\b\b\b\b\b\b\b\b\b\b\b\b\b\b\b\b\b\b\b\b\b\b\b\b\b\b\b\b\b\b\b\b\b\b\b\b\b\b\b\b\b\b\b\b\b\b\b\b\b\b\b\b\b\b\b\b\b\b\b\b\b\b\b\b\b\b\b\b\b\b\b\b\b\b\b\b\b\b\b\b\b\b\b\b\b\b\b\b\b\b\b\b\b\b\b\b\b\b\b\b\b\b\b\b\b\b\b\b\b\b\b\b\b\b\b\b\b\b\b\b\b\b\b\b\b\b\b\b\b\b\b\b\b\b\b\b\b\b\b\b\b\b\b\b\b\b\b\b\b\b\b\b\b\b\b\b\b\b\b\b\b\b\b\b\b\b\b\b\b\b\b\b\b\b\b\b\b\b\b\b\b\b\b\b\b\b\b\b\b\b\b\b\b\b\b\b\b\b\b\b\b\b\b\b\b\b\b\b\b\b\b\b\b\b\b\b\b\b\b\b\b\b\b\b\b\b\b\b\b\b\b\b\b\b\b\b\b\b\b\b\b\b\b\b\b\b\b\b\b\b\b\b\b\b\b\b\b\b\b\b\b\b\b\b\b\b\b\b\b\b\b\b\b\b\b\b\b\b\b\b\b\b\b\b\b\b\b\b\b\b\b\b\b\b\b\b\b\b\b\b\b\b\b\b\b\b\b\b\b\b\b\b\b\b\b\b\b\b\b\b\b\b\b\b\b\b\b\b\b\b\b\b\b\b\b\b\b\b\b\b\b\b\b\b\b\b\b\b\b\b\b\b\b\b\b\b\b\b\b\b\b\b\b\b\b\b\b\b\b\b\b\b\b\b\b\b\b\b\b\b\b\b\b\b\b\b\b\b\b\b\b\b\b\b\b\b\b\b\b\b\b\b\b\b\b\b\b\b\b\b\b\b\b\b\b\b\b\b\b\b\b\b\b\b\b\b\b\b\b\b\b\b\b\b\b\b\b\b\b\b\b\b\b\b\b\b\b\b\b\b\b\b\b\b\b\b\b\b\b\b\b\b\b\b\b\b\b\b\b\b\b\b\b\b\b\b\b\b\b\b\b\b\b\b\b\b\b\b\b\b\b\b\b\b\b\b\b\b\b\b\b\b\b\b\b\b\b\b\b\b\b\b\b\b\b\b\b\b\b\b\b\b\b\b\b\b\b\b\b\b\b\b\b\b\b\b\b\b\b\b\b\b\b\b\b\b\b\b\b\b\b\b\b\b\b\b\b\b\b\b\b\b\b\b\b\b\b\b\b\b\b\b\b\b\b\b\b\b\b\b\b\b\b\b\b\b\b\b\b\b\b\b\b\b\b\b\b\b\b\b\b\b\b\b\b\b\b\b\b\b\b\b\b\b\b\b\b\b\b\b\b\b\b\b\b\b\b\b\b\b\b\b\b\b\b\b\b\b\b\b\b\b\b\b\b\b\b\b\b\b\b\b\b\b\b\b\b\b\b\b\b\b\b\b\b\b\b\b\b\b\b\b\b\b\b\b\b\b\b\b\b\b\b\b\b\b\b\b\b\b\b\b\b\b\b\b\b\b\b\b\b\b\b\b\b\b\b\b\b\b\b\b\b\b\b\b\b\b\b\b\b\b\b\b\b\b\b\b\b\b\b\b\b\b\b\b\b\b\b\b\b\b\b\b\b\b\b\b\b\b\b\b\b\b\b\b\b\b\b\b\b\b\b\b\b\b\b\b\b\b\b\b\b\b\b\b\b\b\b\b\b\b\b\b\b\b\b\b\b\b\b\b\b\b\b\b\b\b\b\b\b\b\b\b\b\b\b\b\b\b\b\b\b\b\b\b\b\b\b\b\b\b\b\b\b\b\b\b\b\b\b\b\b\b\b\b\b\b\b\b\b\b\b\b\b\b\b\b\b\b\b\b\b\b\b\b\b\b\b\b\b\b\b\b\b\b\b\b\b\b\b\b\b\b\b\b\b\b\b\b\b\b\b\b\b\b\b\b\b\b\b\b\b\b\b\b\b\b\b\b\b\b\b\b\b\b\b\b\b\b\b\b\b\b\b\b\b\b\b\b\b\b\b\b\b\b\b\b\b\b\b\b\b\b\b\b\b\b\b\b\b\b\b\b\b\b\b\b\b\b\b\b\b\b\b\b\b\b\b\b\b\b\b\b\b\b\b\b\b\b\b\b\b\b\b\b\b\b\b\b\b\b\b\b\b\b\b\b\b\b\b\b\b\b\b\b\b\b\b\b\b\b\b\b\b\b\b\b\b\b\b\b\b\b\b\b\b\b\b\b\b\b\b\b\b\b\b\b\b\b\b\b\b\b\b\b\b\b\b\b\b\b\b\b\b\b\b\b\b\b\b\b\b\b\b\b\b\b\b\b\b\b\b\b\b\b\b\b\b\b\b\b\b\b\b\b\b\b\b\b\b\b\b\b\b\b\b\b\b\b\b\b\b\b\b\b\b\b\b\b\b\b\b\b\b\b\b\b\b\b\b\b\b\b\b\b\b\b\b\b\b\b\b\b\b\b\b\b\b\b\b\b\b\b\b\b\b\b\b\b\b\b\b\b\b\b\b\b\b\b\b\b\b\b\b\b\b\b\b\b\b\b\b\b\b\b\b\b\b\b\b\b\b\b\b\b\b\b\b\b\b\b\b\b\b\b\b\b\b\b\b\b\b\b\b\b\b\b\b\b\b\b\b\b\b\b\b\b\b\b\b\b\b\b\b\b\b\b\b\b\b\b\b\b\b\b\b\b\b\b\b\b\b\b\b\b\b\b\b\b\b\b\b\b\b\b\b\b\b\b\b\b\b\b\b\b\b\b\b\b\b\b\b\b\b\b\b\b\b\b\b\b\b\b\b\b\b\b\b\b\b\b\b\b\b\b\b\b\b\b\b\b\b\b\b\b\b\b\b\b\b\b\b\b\b\b\b\b\b\b\b\b\b\b\b\b\b\b\b\b\b\b\b\b\b\b\b\b\b\b\b\b\b\b\b\b\b\b\b\b\b\b\b\b\b\b\b\b\b\b\b\b\b\b\b\b\b\b\b\b\b\b\b\b\b\b\b\b\b\b\b\b\b\b\b\b\b\b\b\b\b\b\b\b\b\b\b\b\b\b\b\b\b\b\b\b\b\b\b\b\b\b\b\b\b\b\b\b\b\b\b\b\b\b\b\b\b\b\b\b\b\b\b\b\b\b\b\b\b\b\b\b\b\b\b\b\b\b\b\b\b\b\b\b\b\b\b\b\b\b\b\b\b\b\b\b\b\b\b\b\b\b\b\b\b\b\b\b\b\b\b\b\b\b\b\b\b\b\b\b\b\b\b\b\b\b\b\b\b\b\b\b\b\b\b\b\b\b\b\b\b\b\b\b\b\b\b\b\b\b\b\b\b\b\b\b\b\b\b\b\b\b\b\b\b\b\b\b\b\b\b\b\b\b\b\b\b\b\b\b\b\b\b\b\b\b\b\b\b\b\b\b\b\b\b\b\b\b\b\b\b\b\b\b\b\b\b\b\b\b\b\b\b\b\b\b\b\b\b\b\b\b\b\b\b\b\b\b\b\b\b\b\b\b\b\b\b\b\b\b\b\b\b\b\b\b\b\b\b\b\b\b\b\b\b\b\b\b\b\b\b\b\b\b\b\b\b\b\b\b\b\b\b\b\b\b\b\b\b\b\b\b\b\b\b\b\b\b\b\b\b\b\b\b\b\b\b\b\b\b\b\b\b\b\b\b\b\b\b\b\b\b\b\b\b\b\b\b\b\b\b\b\b\b\b\b\b\b\b\b\b\b\b\b\b\b\b\b\b\b\b\b\b\b\b\b\b\b\b\b\b\b\b\b\b\b\b\b\b\b\b\b\b\b\b\b\b\b\b\b\b\b\b\b\b\b\b\b\b\b\b\b\b\b\b\b\b\b\b\b\b\b\b\b\b\b\b\b\b\b\b\b\b\b\b\b\b\b\b\b\b\b\b\b\b\b\b\b\b\b\b\b\b\b\b\b\b\b\b\b\b\b\b\b\b\b\b\b\b\b\b\b\b\b\b\b\b\b\b\b\b\b\b\b\b\b\b\b\b\b\b\b\b\b\b\b\b\b\b\b\b\b\b\b\b\b\b\b\b\b\b\b\b\b\b\b\b\b\b\b\b\b\b\b\b\b\b\b\b\b\b\b\b\b\b\b\b\b\b\b\b\b\b\b\b\b\b\b\b\b\b\b\b\b\b\b\b\b\b\b\b\b\b\b\b\b\b\b\b\b\b\b\b\b\b\b\b\b\b\b\b\b\b\b\b\b\b\b\b\b\b\b\b\b\b\b\b\b\b\b\b\b\b\b\b\b\b\b\b\b\b\b\b\b\b\b\b\b\b\b\b\b\b\b\b\b\b\b\b\b\b\b\b\b\b\b\b\b\b\b\b\b\b\b\b\b\b\b\b\b\b\b\b\b\b\b\b\b\b\b\b\b\b\b\b\b\b\b\b\b\b\b\b\b\b\b\b\b\b\b\b\b\b\b\b\b\b\b\b\b\b\b\b\b\b\b\b\b\b\b\b\b\b\b\b\b\b\b\b\b\b\b\b\b\b\b\b\b\b\b\b\b\b\b\b\b\b\b\b\b\b\b\b\b\b\b\b\b\b\b\b\b\b\b\b\b\b\b\b\b\b\b\b\b\b\b\b\b\b\b\b\b\b\b\b\b\b\b\b\b\b\b\b\b\b\b\b\b\b\b\b\b\b\b\b\b\b\b\b\b\b\b\b\b\b\b\b\b\b\b\b\b\b\b\b\b\b\b\b\b\b\b\b\b\b\b\b\b\b\b\b\b\b\b\b\b\b\b\b\b\b\b\b\b\b\b\b\b\b\b\b\b\b\b\b\b\b\b\b\b\b\b\b\b\b\b\b\b\b\b\b\b\b\b\b\b\b\b\b\b\b\b\b\b\b\b\b\b\b\b\b\b\b\b\b\b\b\b\b\b\b\b\b\b\b\b\b\b\b\b\b\b\b\b\b\b\b\b\b\b\b\b\b\b\b\b\b\b\b\b\b\b\b\b\b\b\b\b\b\b\b\b\b\b\b\b\b\b\b\b\b\b\b\b\b\b\b\b\b\b\b\b\b\b\b\b\b\b\b\b\b\b\b\b\b\b\b\b\b\b\b\b\b\b\b\b\b\b\b\b\b\b\b\b\b\b\b\b\b\b\b\b\b\b\b\b\b\b\b\b\b\b\b\b\b\b\b\b\b\b\b\b\b\b\b\b\b\b\b\b\b\b\b\b\b\b\b\b\b\b\b\b\b\b\b\b\b\b\b\b\b\b\b\b\b\b\b\b\b\b\b\b\b\b\b\b\b\b\b\b\b\b\b\b\b\b\b\b\b\b\b\b\b\b\b\b\b\b\b\b\b\b\b\b\b\b\b\b\b\b\b\b\b\b\b\b\b\b\b\b\b\b\b\b\b\b\b\b\b\b\b\b\b\b\b\b\b\b\b\b\b\b\b\b\b\b\b\b\b\b\b\b\b\b\b\b\b\b\b\b\b\b\b\b\b\b\b\b\b\b\b\b\b\b\b\b\b\b\b\b\b\b\b\b\b\b\b\b\b\b\b\b\b\b\b\b\b\b\b\b\b\b\b\b\b\b\b\b\b\b\b\b\b\b\b\b\b\b\b\b\b\b\b\b\b\b\b\b\b\b\b\b\b\b\b\b\b\b\b\b\b\b\b\b\b\b\b\b\b\b\b\b\b\b\b\b\b\b\b\b\b\b\b\b\b\b\b\b\b\b\b\b\b\b\b\b\b\b\b\b\b\b\b\b\b\b\b\b\b\b\b\b\b\b\b\b\b\b\b\b\b\b\b\b\b\b\b\b\b\b\b\b\b\b\b\b\b\b\b\b\b\b\b\b\b\b\b\b\b\b\b\b\b\b\b\b\b\b\b\b\b\b\b\b\b\b\b\b\b\b\b\b\b\b\b\b\b\b\b\b\b\b\b\b\b\b\b\b\b\b\b\b\b\b\b\b\b\b\b\b\b\b\b\b\b\b\b\b\b\b\b\b\b\b\b\b\b\b\b\b\b\b\b\b\b\b\b\b\b\b\b\b\b\b\b\b\b\b\b\b\b\b\b\b\b\b\b\b\b\b\b\b\b\b\b\b\b\b\b\b\b\b\b\b\b\b\b\b\b\b\b\b\b\b\b\b\b\b\b\b\b\b\b\b\b\b\b\b\b\b\b\b\b\b\b\b\b\b\b\b\b\b\b\b\b\b\b\b\b\b\b\b\b\b\b\b\b\b\b\b\b\b\b\b\b\b\b\b\b\b\b\b\b\b\b\b\b\b\b\b\b\b\b\b\b\b\b\b\b\b\b\b\b\b\b\b\b\b\b\b\b\b\b\b\b\b\b\b\b\b\b\b\b\b\b\b\b\b\b\b\b\b\b\b\b\b\b\b\b\b\b\b\b\b\b\b\b\b\b\b\b\b\b\b\b\b\b\b\b\b\b\b\b\b\b\b\b\b\b\b\b\b\b\b\b\b\b\b\b\b\b\b\b\b\b\b\b\b\b\b\b\b\b\b\b\b\b\b\b\b\b\b\b\b\b\b\b\b\b\b\b\b\b\b\b\b\b\b\b\b\b\b\b\b\b\b\b\b\b\b\b\b\b\b\b\b\b\b\b\b\b\b\b\b\b\b\b\b\b\b\b\b\b\b\b\b\b\b\b\b\b\b\b\b\b\b\b\b\b\b\b\b\b\b\b\b\b\b\b\b\b\b\b\b\b\b\b\b\b\b\b\b\b\b\b\b\b\b\b\b\b\b\b\b\b\b\b\b\b\b\b\b\b\b\b\b\b\b\b\b\b\b\b\b\b\b\b\b\b\b\b\b\b\b\b\b\b\b\b\b\b\b\b\b\b\b\b\b\b\b\b\b\b\b\b\b\b\b\b\b\b\b\b\b\b\b\b\b\b\b\b\b\b\b\b\b\b\b\b\b\b\b\b\b\b\b\b\b\b\b\b\b\b\b\b\b\b\b\b\b\b\b\b\b\b\b\b\b\b\b\b\b\b\b\b\b\b\b\b\b\b\b\b\b\b\b\b\b\b\b\b\b\b\b\b\b\b\b\b\b\b\b\b\b\b\b\b\b\b\b\b\b\b\b\b\b\b\b\b\b\b\b\b\b\b\b\b\b\b\b\b\b\b\b\b\b\b\b\b\b\b\b\b\b\b\b\b\b\b\b\b\b\b\b\b\b\b\b\b\b\b\b\b\b\b\b\b\b\b\b\b\b\b\b\b\b\b\b\b\b\b\b\b\b\b\b\b\b\b\b\b\b\b\b\b\b\b\b\b\b\b\b\b\b\b\b\b\b\b\b\b\b\b\b\b\b\b\b\b\b\b\b\b\b\b\b\b\b\b\b\b\b\b\b\b\b\b\b\b\b\b\b\b\b\b\b\b\b\b\b\b\b\b\b\b\b\b\b\b\b\b\b\b\b\b\b\b\b\b\b\b\b\b\b\b\b\b\b\b\b\b\b\b\b\b\b\b\b\b\b\b\b\b\b\b\b\b\b\b\b\b\b\b\b\b\b\b\b\b\b\b\b\b\b\b\b\b\b\b\b\b\b\b\b\b\b\b\b\b\b\b\b\b\b\b\b\b\b\b\b\b\b\b\b\b\b\b\b\b\b\b\b\b\b\b\b\b\b\b\b\b\b\b\b\b\b\b\b\b\b\b\b\b\b\b\b\b\b\b\b\b\b\b\b\b\b\b\b\b\b\b\b\b\b\b\b\b\b\b\b\b\b\b\b\b\b\b\b\b\b\b\b\b\b\b\b\b\b\b\b\b\b\b\b\b\b\b\b\b\b\b\b\b\b\b\b\b\b\b\b\b\b\b\b\b\b\b\b\b\b\b\b\b\b\b\b\b\b\b\b\b\b\b\b\b\b\b\b\b\b\b\b\b\b\b\b\b\b\b\b\b\b\b\b\b\b\b\b\b\b\b\b\b\b\b\b\b\b\b\b\b\b\b\b\b\b\b\b\b\b\b\b\b\b\b\b\b\b\b\b\b\b\b\b\b\b\b\b\b\b\b\b\b\b\b\b\b\b\b\b\b\b\b\b\b\b\b\b\b\b\b\b\b\b\b\b\b\b\b\b\b\b\b\b\b\b\b\b\b\b\b\b\b\b\b\b\b\b\b\b\b\b\b\b\b\b\b\b\b\b\b\b\b\b\b\b\b\b\b\b\b\b\b\b\b\b\b\b\b\b\b\b\b\b\b\b\b\b\b\b\b\b\b\b\b\b\b\b\b\b\b\b\b\b\b\b\b\b\b\b\b\b\b\b\b\b\b\b\b\b\b\b\b\b\b\b\b\b\b\b\b\b\b\b\b\b\b\b\b\b\b\b\b\b\b\b\b\b\b\b\b\b\b\b\b\b\b\b\b\b\b\b\b\b\b\b\b\b\b\b\b\b\b\b\b\b\b\b\b\b\b\b\b\b\b\b\b\b\b\b\b\b\b\b\b\b\b\b\b\b\b\b\b\b\b\b\b\b\b\b\b\b\b\b\b\b\b\b\b\b\b\b\b\b\b\b\b\b\b\b\b\b\b\b\b\b\b\b\b\b\b\b\b\b\b\b\b\b\b\b\b\b\b\b\b\b\b\b\b\b\b\b\b\b\b\b\b\b\b\b\b\b\b\b\b\b\b\b\b\b\b\b\b\b\b\b\b\b\b\b\b\b\b\b\b\b\b\b\b\b\b\b\b\b\b\b\b\b\b\b\b\b\b\b\b\b\b\b\b\b\b\b\b\b\b\b\b\b\b\b\b\b\b\b\b\b\b\b\b\b\b\b\b\b\b\b\b\b\b\b\b\b\b\b\b\b\b\b\b\b\b\b\b\b\b\b\b\b\b\b\b\b\b\b\b\b\b\b\b\b\b\b\b\b\b\b\b\b\b\b\b\b\b\b\b\b\b\b\b\b\b\b\b\b\b\b\b\b\b\b\b\b\b\b\b\b\b\b\b\b\b\b\b\b\b\b\b\b\b\b\b\b\b\b\b\b\b\b\b\b\b\b\b\b\b\b\b\b\b\b\b\b\b\b\b\b\b\b\b\b\b\b\b\b\b\b\b\b\b\b\b\b\b\b\b\b\b\b\b\b\b\b\b\b\b\b\b\b\b\b\b\b\b\b\b\b\b\b\b\b\b\b\b\b\b\b\b\b\b\b\b\b\b\b\b\b\b\b\b\b\b\b\b\b\b\b\b\b\b\b\b\b\b\b\b\b\b\b\b\b\b\b\b\b\b\b\b\b\b\b\b\b\b\b\b\b\b\b\b\b\b\b\b\b\b\b\b\b\b\b\b\b\b\b\b\b\b\b\b\b\b\b\b\b\b\b\b\b\b\b\b\b\b\b\b\b\b\b\b\b\b\b\b\b\b\b\b\b\b\b\b\b\b\b\b\b\b\b\b\b\b\b\b\b\b\b\b\b\b\b\b\b\b\b\b\b\b\b\b\b\b\b\b\b\b\b\b\b\b\b\b\b\b\b\b\b\b\b\b\b\b\b\b\b\b\b\b\b\b\b\b\b\b\b\b\b\b\b\b\b\b\b\b\b\b\b\b\b\b\b\b\b\b\b\b\b\b\b\b\b\b\b\b\b\b\b\b\b\b\b\b\b\b\b\b\b\b\b\b\b\b\b\b\b\b\b\b\b\b\b\b\b\b\b\b\b\b\b\b\b\b\b\b\b\b\b\b\b\b\b\b\b\b\b\b\b\b\b\b\b\b\b\b\b\b\b\b\b\b\b\b\b\b\b\b\b\b\b\b\b\b\b\b\b\b\b\b\b\b\b\b\b\b\b\b\b\b\b\b\b\b\b\b\b\b\b\b\b\b\b\b\b\b\b\b\b\b\b\b\b\b\b\b\b\b\b\b\b\b\b\b\b\b\b\b\b\b\b\b\b\b\b\b\b\b\b\b\b\b\b\b\b\b\b\b\b\b\b\b\b\b\b\b\b\b\b\b\b\b\b\b\b\b\b\b\b\b\b\b\b\b\b\b\b\b\b\b\b\b\b\b\b\b\b\b\b\b\b\b\b\b\b\b\b\b\b\b\b\b\b\b\b\b\b\b\b\b\b\b\b\b\b\b\b\b\b\b\b\b\b\b\b\b\b\b\b\b\b\b\b\b\b\b\b\b\b\b\b\b\b\b\b\b\b\b\b\b\b\b\b\b\b\b\b\b\b\b\b\b\b\b\b\b\b\b\b\b\b\b\b\b\b\b\b\b\b\b\b\b\b\b\b\b\b\b\b\b\b\b\b\b\b\b\b\b\b\b\b\b\b\b\b\b\b\b\b\b\b\b\b\b\b\b\b\b\b\b\b\b\b\b\b\b\b\b\b\b\b\b\b\b\b\b\b\b\b\b\b\b\b\b\b\b\b\b\b\b\b\b\b\b\b\b\b\b\b\b\b\b\b\b\b\b\b\b\b\b\b\b\b\b\b\b\b\b\b\b\b\b\b\b\b\b\b\b\b\b\b\b\b\b\b\b\b\b\b\b\b\b\b\b\b\b\b\b\b\b\b\b\b\b\b\b\b\b\b\b\b\b\b\b\b\b\b\b\b\b\b\b\b\b\b\b\b\b\b\b\b\b\b\b\b\b\b\b\b\b\b\b\b\b\b\b\b\b\b\b\b\b\b\b\b\b\b\b\b\b\b\b\b\b\b\b\b\b\b\b\b\b\b\b\b\b\b\b\b\b\b\b\b\b\b\b\b\b\b\b\b\b\b\b\b\b\b\b\b\b\b\b\b\b\b\b\b\b\b\b\b\b\b\b\b\b\b\b\b\b\b\b\b\b\b\b\b\b\b\b\b\b\b\b\b\b\b\b\b\b\b\b\b\b\b\b\b\b\b\b\b\b\b\b\b\b\b\b\b\b\b\b\b\b\b\b\b\b\b\b\b\b\b\b\b\b\b\b\b\b\b\b\b\b\b\b\b\b\b\b\b\b\b\b\b\b\b\b\b\b\b\b\b\b\b\b\b\b\b\b\b\b\b\b\b\b\b\b\b\b\b\b\b\b\b\b\b\b\b\b\b\b\b\b\b\b\b\b\b\b\b\b\b\b\b\b\b\b\b\b\b\b\b\b\b\b\b\b\b\b\b\b\b\b\b\b\b\b\b\b\b\b\b\b\b\b\b\b\b\b\b\b\b\b\b\b\b\b\b\b\b\b\b\b\b\b\b\b\b\b\b\b\b\b\b\b\b\b\b\b\b\b\b\b\b\b\b\b\b\b\b\b\b\b\b\b\b\b\b\b\b\b\b\b\b\b\b\b\b\b\b\b\b\b\b\b\b\b\b\b\b\b\b\b\b\b\b\b\b\b\b\b\b\b\b\b\b\b\b\b\b\b\b\b\b\b\b\b\b\b\b\b\b\b\b\b\b\b\b\b\b\b\b\b\b\b\b\b\b\b\b\b\b\b\b\b\b\b\b\b\b\b\b\b\b\b\b\b\b\b\b\b\b\b\b\b\b\b\b\b\b\b\b\b\b\b\b\b\b\b\b\b\b\b\b\b\b\b\b\b\b\b\b\b\b\b\b\b\b\b\b\b\b\b\b\b\b\b\b\b\b\b\b\b\b\b\b\b\b\b\b\b\b\b\b\b\b\b\b\b\b\b\b\b\b\b\b\b\b\b\b\b\b\b\b\b\b\b\b\b\b\b\b\b\b\b\b\b\b\b\b\b\b\b\b\b\b\b\b\b\b\b\b\b\b\b\b\b\b\b\b\b\b\b\b\b\b\b\b\b\b\b\b\b\b\b\b\b\b\b\b\b\b\b\b\b\b\b\b\b\b\b\b\b\b\b\b\b\b\b\b\b\b\b\b\b\b\b\b\b\b\b\b\b\b\b\b\b\b\b\b\b\b\b\b\b\b\b\b\b\b\b\b\b\b\b\b\b\b\b\b\b\b\b\b\b\b\b\b\b\b\b\b\b\b\b\b\b\b\b\b\b\b\b\b\b\b\b\b\b\b\b\b\b\b\b\b\b\b\b\b\b\b\b\b\b\b\b\b\b\b\b\b\b\b\b\b\b\b\b\b\b\b\b\b\b\b\b\b\b\b\b\b\b\b\b\b\b\b\b\b\b\b\b\b\b\b\b\b\b\b\b\b\b\b\b\b\b\b\b\b\b\b\b\b\b\b\b\b\b\b\b\b\b\b\b\b\b\b\b\b\b\b\b\b\b\b\b\b\b\b\b\b\b\b\b\b\b\b\b\b\b\b\b\b\b\b\b\b\b\b\b\b\b\b\b\b\b\b\b\b\b\b\b\b\b\b\b\b\b\b\b\b\b\b\b\b\b\b\b\b\b\b\b\b\b\b\b\b\b\b\b\b\b\b\b\b\b\b\b\b\b\b\b\b\b\b\b\b\b\b\b\b\b\b\b\b\b\b\b\b\b\b\b\b\b\b\b\b\b\b\b\b\b\b\b\b\b\b\b\b\b\b\b\b\b\b\b\b\b\b\b\b\b\b\b\b\b\b\b\b\b\b\b\b\b\b\b\b\b\b\b\b\b\b\b\b\b\b\b\b\b\b\b\b\b\b\b\b\b\b\b\b\b\b\b\b\b\b\b\b\b\b\b\b\b\b\b\b\b\b\b\b\b\b\b\b\b\b\b\b\b\b\b\b\b\b\b\b\b\b\b\b\b\b\b\b\b\b\b\b\b\b\b\b\b\b\b\b\b\b\b\b\b\b\b\b\b\b\b\b\b\b\b\b\b\b\b\b\b\b\b\b\b\b\b\b\b\b\b\b\b\b\b\b\b\b\b\b\b\b\b\b\b\b\b\b\b\b\b\b\b\b\b\b\b\b\b\b\b\b\b\b\b\b\b\b\b\b\b\b\b\b\b\b\b\b\b\b\b\b\b\b\b\b\b\b\b\b\b\b\b\b\b\b\b\b\b\b\b\b\b\b\b\b\b\b\b\b\b\b\b\b\b\b\b\b\b\b\b\b\b\b\b\b\b\b\b\b\b\b\b\b\b\b\b\b\b\b\b\b\b\b\b\b\b\b\b\b\b\b\b\b\b\b\b\b\b\b\b\b\b\b\b\b\b\b\b\b\b\b\b\b\b\b\b\b\b\b\b\b\b\b\b\b\b\b\b\b\b\b\b\b\b\b\b\b\b\b\b\b\b\b\b\b\b\b\b\b\b\b\b\b\b\b\b\b\b\b\b\b\b\b\b\b\b\b\b\b\b\b\b\b\b\b\b\b\b\b\b\b\b\b\b\b\b\b\b\b\b\b\b\b\b\b\b\b\b\b\b\b\b\b\b\b\b\b\b\b\b\b\b\b\b\b\b\b\b\b\b\b\b\b\b\b\b\b\b\b\b\b\b\b\b\b\b\b\b\b\b\b\b\b\b\b\b\b\b\b\b\b\b\b\b\b\b\b\b\b\b\b\b\b\b\b\b\b\b\b\b\b\b\b\b\b\b\b\b\b\b\b\b\b\b\b\b\b\b\b\b\b\b\b\b\b\b\b\b\b\b\b\b\b\b\b\b\b\b\b\b\b\b\b\b\b\b\b\b\b\b\b\b\b\b\b\b\b\b\b\b\b\b\b\b\b\b\b\b\b\b\b\b\b\b\b\b\b\b\b\b\b\b\b\b\b\b\b\b\b\b\b\b\b\b\b\b\b\b\b\b\b\b\b\b\b\b\b\b\b\b\b\b\b\b\b\b\b\b\b\b\b\b\b\b\b\b\b\b\b\b\b\b\b\b\b\b\b\b\b\b\b\b\b\b\b\b\b\b\b\b\b\b\b\b\b\b\b\b\b\b\b\b\b\b\b\b\b\b\b\b\b\b\b\b\b\b\b\b\b\b\b\b\b\b\b\b\b\b\b\b\b\b\b\b\b\b\b\b\b\b\b\b\b\b\b\b\b\b\b\b\b\b\b\b\b\b\b\b\b\b\b\b\b\b\b\b\b\b\b\b\b\b\b\b\b\b\b\b\b\b\b\b\b\b\b\b\b\b\b\b\b\b\b\b\b\b\b\b\b\b\b\b\b\b\b\b\b\b\b\b\b\b\b\b\b\b\b\b\b\b\b\b\b\b\b\b\b\b\b\b\b\b\b\b\b\b\b\b\b\b\b\b\b\b\b\b\b\b\b\b\b\b\b\b\b\b\b\b\b\b\b\b\b\b\b\b\b\b\b\b\b\b\b\b\b\b\b\b\b\b\b\b\b\b\b\b\b\b\b\b\b\b\b\b\b\b\b\b\b\b\b\b\b\b\b\b\b\b\b\b\b\b\b\b\b\b\b\b\b\b\b\b\b\b\b\b\b\b\b\b\b\b\b\b\b\b\b\b\b\b\b\b\b\b\b\b\b\b\b\b\b\b\b\b\b\b\b\b\b\b\b\b\b\b\b\b\b\b\b\b\b\b\b\b\b\b\b\b\b\b\b\b\b\b\b\b\b\b\b\b\b\b\b\b\b\b\b\b\b\b\b\b\b\b\b\b\b\b\b\b\b\b\b\b\b\b\b\b\b\b\b\b\b\b\b\b\b\b\b\b\b\b\b\b\b\b\b\b\b\b\b\b\b\b\b\b\b\b\b\b\b\b\b\b\b\b\b\b\b\b\b\b\b\b\b\b\b\b\b\b\b\b\b\b\b\b\b\b\b\b\b\b\b\b\b\b\b\b\b\b\b\b\b\b\b\b\b\b\b\b\b\b\b\b\b\b\b\b\b\b\b\b\b\b\b\b\b\b\b\b\b\b\b\b\b\b\b\b\b\b\b\b\b\b\b\b\b\b\b\b\b\b\b\b\b\b\b\b\b\b\b\b\b\b\b\b\b\b\b\b\b\b\b\b\b\b\b\b\b\b\b\b\b\b\b\b\b\b\b\b\b\b\b\b\b\b\b\b\b\b\b\b\b\b\b\b\b\b\b\b\b\b\b\b\b\b\b\b\b\b\b\b\b\b\b\b\b\b\b\b\b\b\b\b\b\b\b\b\b\b\b\b\b\b\b\b\b\b\b\b\b\b\b\b\b\b\b\b\b\b\b\b\b\b\b\b\b\b\b\b\b\b\b\b\b\b\b\b\b\b\n"
     ]
    }
   ],
   "source": [
    "vgg = VGG19(input_shape=(224, 224, 3), weights='imagenet', include_top=False)"
   ],
   "metadata": {
    "collapsed": false,
    "pycharm": {
     "name": "#%%\n"
    }
   }
  },
  {
   "cell_type": "code",
   "execution_count": 76,
   "outputs": [],
   "source": [
    "#do not train the pre-trained layers of VGG-19\n",
    "for layer in vgg.layers:\n",
    "    layer.trainable = False\n",
    "x = Flatten()(vgg.output)\n",
    "\n",
    "#adding output layer.sigmoid classifier is used as it is binary classification\n",
    "prediction = Dense(3, activation='sigmoid')(x)\n",
    "\n",
    "model = Model(inputs=vgg.input, outputs=prediction)\n"
   ],
   "metadata": {
    "collapsed": false,
    "pycharm": {
     "name": "#%%\n"
    }
   }
  },
  {
   "cell_type": "code",
   "execution_count": 77,
   "outputs": [
    {
     "name": "stdout",
     "output_type": "stream",
     "text": [
      "Model: \"model_3\"\n",
      "_________________________________________________________________\n",
      " Layer (type)                Output Shape              Param #   \n",
      "=================================================================\n",
      " input_1 (InputLayer)        [(None, 224, 224, 3)]     0         \n",
      "                                                                 \n",
      " block1_conv1 (Conv2D)       (None, 224, 224, 64)      1792      \n",
      "                                                                 \n",
      " block1_conv2 (Conv2D)       (None, 224, 224, 64)      36928     \n",
      "                                                                 \n",
      " block1_pool (MaxPooling2D)  (None, 112, 112, 64)      0         \n",
      "                                                                 \n",
      " block2_conv1 (Conv2D)       (None, 112, 112, 128)     73856     \n",
      "                                                                 \n",
      " block2_conv2 (Conv2D)       (None, 112, 112, 128)     147584    \n",
      "                                                                 \n",
      " block2_pool (MaxPooling2D)  (None, 56, 56, 128)       0         \n",
      "                                                                 \n",
      " block3_conv1 (Conv2D)       (None, 56, 56, 256)       295168    \n",
      "                                                                 \n",
      " block3_conv2 (Conv2D)       (None, 56, 56, 256)       590080    \n",
      "                                                                 \n",
      " block3_conv3 (Conv2D)       (None, 56, 56, 256)       590080    \n",
      "                                                                 \n",
      " block3_conv4 (Conv2D)       (None, 56, 56, 256)       590080    \n",
      "                                                                 \n",
      " block3_pool (MaxPooling2D)  (None, 28, 28, 256)       0         \n",
      "                                                                 \n",
      " block4_conv1 (Conv2D)       (None, 28, 28, 512)       1180160   \n",
      "                                                                 \n",
      " block4_conv2 (Conv2D)       (None, 28, 28, 512)       2359808   \n",
      "                                                                 \n",
      " block4_conv3 (Conv2D)       (None, 28, 28, 512)       2359808   \n",
      "                                                                 \n",
      " block4_conv4 (Conv2D)       (None, 28, 28, 512)       2359808   \n",
      "                                                                 \n",
      " block4_pool (MaxPooling2D)  (None, 14, 14, 512)       0         \n",
      "                                                                 \n",
      " block5_conv1 (Conv2D)       (None, 14, 14, 512)       2359808   \n",
      "                                                                 \n",
      " block5_conv2 (Conv2D)       (None, 14, 14, 512)       2359808   \n",
      "                                                                 \n",
      " block5_conv3 (Conv2D)       (None, 14, 14, 512)       2359808   \n",
      "                                                                 \n",
      " block5_conv4 (Conv2D)       (None, 14, 14, 512)       2359808   \n",
      "                                                                 \n",
      " block5_pool (MaxPooling2D)  (None, 7, 7, 512)         0         \n",
      "                                                                 \n",
      " flatten_4 (Flatten)         (None, 25088)             0         \n",
      "                                                                 \n",
      " dense_3 (Dense)             (None, 3)                 75267     \n",
      "                                                                 \n",
      "=================================================================\n",
      "Total params: 20,099,651\n",
      "Trainable params: 75,267\n",
      "Non-trainable params: 20,024,384\n",
      "_________________________________________________________________\n"
     ]
    }
   ],
   "source": [
    "# view the structure of the model\n",
    "model.summary()"
   ],
   "metadata": {
    "collapsed": false,
    "pycharm": {
     "name": "#%%\n"
    }
   }
  },
  {
   "cell_type": "code",
   "execution_count": 78,
   "outputs": [],
   "source": [
    "model.compile(\n",
    "  loss='sparse_categorical_crossentropy',\n",
    "  optimizer=\"adam\",\n",
    "  metrics=['accuracy']\n",
    ")"
   ],
   "metadata": {
    "collapsed": false,
    "pycharm": {
     "name": "#%%\n"
    }
   }
  },
  {
   "cell_type": "code",
   "execution_count": 93,
   "outputs": [],
   "source": [
    "from keras.callbacks import ModelCheckpoint, EarlyStopping, TensorBoard\n",
    "import shutil\n",
    "\n",
    "checkpoint = ModelCheckpoint(\"P_R_classifier\", monitor='accuracy', verbose=1, save_best_only=True, save_weights_only=False, mode='auto', save_freq=1)\n",
    "early_stop=EarlyStopping(monitor='accuracy',mode='min',verbose=1,patience=50)\n",
    "#Early stopping to avoid overfitting of model\n",
    "tensorboard = TensorBoard()\n",
    "\n",
    "folder = 'logs/'\n",
    "for filename in os.listdir(folder):\n",
    "    file_path = os.path.join(folder, filename)\n",
    "    try:\n",
    "        if os.path.isfile(file_path) or os.path.islink(file_path):\n",
    "            os.unlink(file_path)\n",
    "        elif os.path.isdir(file_path):\n",
    "            shutil.rmtree(file_path)\n",
    "    except Exception as e:\n",
    "        print('Failed to delete %s. Reason: %s' % (file_path, e))"
   ],
   "metadata": {
    "collapsed": false,
    "pycharm": {
     "name": "#%%\n"
    }
   }
  },
  {
   "cell_type": "code",
   "execution_count": 84,
   "outputs": [
    {
     "name": "stdout",
     "output_type": "stream",
     "text": [
      "Epoch 1/150\n",
      "\n",
      "Epoch 1: accuracy improved from -inf to 0.68750, saving model to P_R_classifier\n"
     ]
    },
    {
     "name": "stderr",
     "output_type": "stream",
     "text": [
      "WARNING:absl:Found untraced functions such as _jit_compiled_convolution_op, _jit_compiled_convolution_op, _jit_compiled_convolution_op, _jit_compiled_convolution_op, _jit_compiled_convolution_op while saving (showing 5 of 16). These functions will not be directly callable after loading.\n"
     ]
    },
    {
     "name": "stdout",
     "output_type": "stream",
     "text": [
      "INFO:tensorflow:Assets written to: P_R_classifier\\assets\n"
     ]
    },
    {
     "name": "stderr",
     "output_type": "stream",
     "text": [
      "INFO:tensorflow:Assets written to: P_R_classifier\\assets\n"
     ]
    },
    {
     "name": "stdout",
     "output_type": "stream",
     "text": [
      "1/3 [=========>....................] - ETA: 4s - loss: 0.6381 - accuracy: 0.6875\n",
      "Epoch 1: accuracy did not improve from 0.68750\n",
      "2/3 [===================>..........] - ETA: 0s - loss: 0.6852 - accuracy: 0.5938\n",
      "Epoch 1: accuracy did not improve from 0.68750\n",
      "3/3 [==============================] - 2s 119ms/step - loss: 0.6499 - accuracy: 0.6494 - val_loss: 0.6935 - val_accuracy: 0.6000\n",
      "Epoch 2/150\n",
      "\n",
      "Epoch 2: accuracy improved from 0.68750 to 0.78125, saving model to P_R_classifier\n"
     ]
    },
    {
     "name": "stderr",
     "output_type": "stream",
     "text": [
      "WARNING:absl:Found untraced functions such as _jit_compiled_convolution_op, _jit_compiled_convolution_op, _jit_compiled_convolution_op, _jit_compiled_convolution_op, _jit_compiled_convolution_op while saving (showing 5 of 16). These functions will not be directly callable after loading.\n"
     ]
    },
    {
     "name": "stdout",
     "output_type": "stream",
     "text": [
      "INFO:tensorflow:Assets written to: P_R_classifier\\assets\n"
     ]
    },
    {
     "name": "stderr",
     "output_type": "stream",
     "text": [
      "INFO:tensorflow:Assets written to: P_R_classifier\\assets\n"
     ]
    },
    {
     "name": "stdout",
     "output_type": "stream",
     "text": [
      "1/3 [=========>....................] - ETA: 3s - loss: 0.5450 - accuracy: 0.7812\n",
      "Epoch 2: accuracy did not improve from 0.78125\n",
      "2/3 [===================>..........] - ETA: 0s - loss: 0.6187 - accuracy: 0.7031\n",
      "Epoch 2: accuracy did not improve from 0.78125\n",
      "3/3 [==============================] - 2s 104ms/step - loss: 0.6816 - accuracy: 0.6494 - val_loss: 0.7308 - val_accuracy: 0.6000\n",
      "Epoch 3/150\n",
      "\n",
      "Epoch 3: accuracy did not improve from 0.78125\n",
      "1/3 [=========>....................] - ETA: 0s - loss: 0.8078 - accuracy: 0.5312\n",
      "Epoch 3: accuracy did not improve from 0.78125\n",
      "2/3 [===================>..........] - ETA: 0s - loss: 0.6861 - accuracy: 0.6406\n",
      "Epoch 3: accuracy did not improve from 0.78125\n",
      "3/3 [==============================] - 0s 98ms/step - loss: 0.6746 - accuracy: 0.6494 - val_loss: 0.6866 - val_accuracy: 0.6000\n",
      "Epoch 4/150\n",
      "\n",
      "Epoch 4: accuracy did not improve from 0.78125\n",
      "1/3 [=========>....................] - ETA: 0s - loss: 0.6681 - accuracy: 0.6250\n",
      "Epoch 4: accuracy did not improve from 0.78125\n",
      "2/3 [===================>..........] - ETA: 0s - loss: 0.6466 - accuracy: 0.6562\n",
      "Epoch 4: accuracy did not improve from 0.78125\n",
      "3/3 [==============================] - 0s 97ms/step - loss: 0.6501 - accuracy: 0.6494 - val_loss: 0.6737 - val_accuracy: 0.6000\n",
      "Epoch 5/150\n",
      "\n",
      "Epoch 5: accuracy did not improve from 0.78125\n",
      "1/3 [=========>....................] - ETA: 0s - loss: 0.6763 - accuracy: 0.5938\n",
      "Epoch 5: accuracy did not improve from 0.78125\n",
      "2/3 [===================>..........] - ETA: 0s - loss: 0.6605 - accuracy: 0.6406\n",
      "Epoch 5: accuracy did not improve from 0.78125\n",
      "3/3 [==============================] - 0s 100ms/step - loss: 0.6582 - accuracy: 0.6494 - val_loss: 0.6743 - val_accuracy: 0.6000\n",
      "Epoch 6/150\n",
      "\n",
      "Epoch 6: accuracy did not improve from 0.78125\n",
      "1/3 [=========>....................] - ETA: 0s - loss: 0.6349 - accuracy: 0.7188\n",
      "Epoch 6: accuracy did not improve from 0.78125\n",
      "2/3 [===================>..........] - ETA: 0s - loss: 0.6556 - accuracy: 0.6562\n",
      "Epoch 6: accuracy did not improve from 0.78125\n",
      "3/3 [==============================] - 0s 102ms/step - loss: 0.6575 - accuracy: 0.6494 - val_loss: 0.6763 - val_accuracy: 0.6000\n",
      "Epoch 7/150\n",
      "\n",
      "Epoch 7: accuracy did not improve from 0.78125\n",
      "1/3 [=========>....................] - ETA: 0s - loss: 0.6798 - accuracy: 0.5938\n",
      "Epoch 7: accuracy did not improve from 0.78125\n",
      "2/3 [===================>..........] - ETA: 0s - loss: 0.6435 - accuracy: 0.6562\n",
      "Epoch 7: accuracy did not improve from 0.78125\n",
      "3/3 [==============================] - 0s 97ms/step - loss: 0.6482 - accuracy: 0.6494 - val_loss: 0.6841 - val_accuracy: 0.6000\n",
      "Epoch 8/150\n",
      "\n",
      "Epoch 8: accuracy did not improve from 0.78125\n",
      "1/3 [=========>....................] - ETA: 0s - loss: 0.6224 - accuracy: 0.6875\n",
      "Epoch 8: accuracy did not improve from 0.78125\n",
      "2/3 [===================>..........] - ETA: 0s - loss: 0.6456 - accuracy: 0.6562\n",
      "Epoch 8: accuracy did not improve from 0.78125\n",
      "3/3 [==============================] - 0s 97ms/step - loss: 0.6509 - accuracy: 0.6494 - val_loss: 0.6875 - val_accuracy: 0.6000\n",
      "Epoch 9/150\n",
      "\n",
      "Epoch 9: accuracy did not improve from 0.78125\n",
      "1/3 [=========>....................] - ETA: 0s - loss: 0.7625 - accuracy: 0.5000\n",
      "Epoch 9: accuracy did not improve from 0.78125\n",
      "2/3 [===================>..........] - ETA: 0s - loss: 0.6830 - accuracy: 0.6094\n",
      "Epoch 9: accuracy did not improve from 0.78125\n",
      "3/3 [==============================] - 0s 97ms/step - loss: 0.6575 - accuracy: 0.6494 - val_loss: 0.6796 - val_accuracy: 0.6000\n",
      "Epoch 10/150\n",
      "\n",
      "Epoch 10: accuracy did not improve from 0.78125\n",
      "1/3 [=========>....................] - ETA: 0s - loss: 0.6441 - accuracy: 0.6562\n",
      "Epoch 10: accuracy did not improve from 0.78125\n",
      "2/3 [===================>..........] - ETA: 0s - loss: 0.6546 - accuracy: 0.6406\n",
      "Epoch 10: accuracy did not improve from 0.78125\n",
      "3/3 [==============================] - 0s 106ms/step - loss: 0.6486 - accuracy: 0.6494 - val_loss: 0.6848 - val_accuracy: 0.6000\n",
      "Epoch 11/150\n",
      "\n",
      "Epoch 11: accuracy did not improve from 0.78125\n",
      "1/3 [=========>....................] - ETA: 0s - loss: 0.6222 - accuracy: 0.6875\n",
      "Epoch 11: accuracy did not improve from 0.78125\n",
      "2/3 [===================>..........] - ETA: 0s - loss: 0.6454 - accuracy: 0.6562\n",
      "Epoch 11: accuracy did not improve from 0.78125\n",
      "3/3 [==============================] - 0s 99ms/step - loss: 0.6506 - accuracy: 0.6494 - val_loss: 0.6856 - val_accuracy: 0.6000\n",
      "Epoch 12/150\n",
      "\n",
      "Epoch 12: accuracy did not improve from 0.78125\n",
      "1/3 [=========>....................] - ETA: 0s - loss: 0.6447 - accuracy: 0.6562\n",
      "Epoch 12: accuracy did not improve from 0.78125\n",
      "2/3 [===================>..........] - ETA: 0s - loss: 0.6554 - accuracy: 0.6406\n",
      "Epoch 12: accuracy did not improve from 0.78125\n",
      "3/3 [==============================] - 0s 97ms/step - loss: 0.6495 - accuracy: 0.6494 - val_loss: 0.6789 - val_accuracy: 0.6000\n",
      "Epoch 13/150\n",
      "\n",
      "Epoch 13: accuracy did not improve from 0.78125\n",
      "1/3 [=========>....................] - ETA: 0s - loss: 0.7214 - accuracy: 0.5312\n",
      "Epoch 13: accuracy did not improve from 0.78125\n",
      "2/3 [===================>..........] - ETA: 0s - loss: 0.6918 - accuracy: 0.5781\n",
      "Epoch 13: accuracy did not improve from 0.78125\n",
      "3/3 [==============================] - 0s 103ms/step - loss: 0.6577 - accuracy: 0.6494 - val_loss: 0.6769 - val_accuracy: 0.6000\n",
      "Epoch 14/150\n",
      "\n",
      "Epoch 14: accuracy did not improve from 0.78125\n",
      "1/3 [=========>....................] - ETA: 0s - loss: 0.6267 - accuracy: 0.6875\n",
      "Epoch 14: accuracy did not improve from 0.78125\n",
      "2/3 [===================>..........] - ETA: 0s - loss: 0.6464 - accuracy: 0.6562\n",
      "Epoch 14: accuracy did not improve from 0.78125\n",
      "3/3 [==============================] - 0s 96ms/step - loss: 0.6519 - accuracy: 0.6494 - val_loss: 0.6956 - val_accuracy: 0.6000\n",
      "Epoch 15/150\n",
      "\n",
      "Epoch 15: accuracy did not improve from 0.78125\n",
      "1/3 [=========>....................] - ETA: 0s - loss: 0.6483 - accuracy: 0.6562\n",
      "Epoch 15: accuracy did not improve from 0.78125\n",
      "2/3 [===================>..........] - ETA: 0s - loss: 0.6488 - accuracy: 0.6562\n",
      "Epoch 15: accuracy did not improve from 0.78125\n",
      "3/3 [==============================] - 0s 98ms/step - loss: 0.6548 - accuracy: 0.6494 - val_loss: 0.6938 - val_accuracy: 0.6000\n",
      "Epoch 16/150\n",
      "\n",
      "Epoch 16: accuracy did not improve from 0.78125\n",
      "1/3 [=========>....................] - ETA: 0s - loss: 0.6217 - accuracy: 0.6875\n",
      "Epoch 16: accuracy did not improve from 0.78125\n",
      "2/3 [===================>..........] - ETA: 0s - loss: 0.6339 - accuracy: 0.6719\n",
      "Epoch 16: accuracy did not improve from 0.78125\n",
      "3/3 [==============================] - 0s 97ms/step - loss: 0.6503 - accuracy: 0.6494 - val_loss: 0.6789 - val_accuracy: 0.6000\n",
      "Epoch 17/150\n",
      "\n",
      "Epoch 17: accuracy did not improve from 0.78125\n",
      "1/3 [=========>....................] - ETA: 0s - loss: 0.6054 - accuracy: 0.7188\n",
      "Epoch 17: accuracy did not improve from 0.78125\n",
      "2/3 [===================>..........] - ETA: 0s - loss: 0.6080 - accuracy: 0.7188\n",
      "Epoch 17: accuracy did not improve from 0.78125\n",
      "3/3 [==============================] - 0s 100ms/step - loss: 0.6456 - accuracy: 0.6494 - val_loss: 0.6738 - val_accuracy: 0.6000\n",
      "Epoch 18/150\n",
      "\n",
      "Epoch 18: accuracy did not improve from 0.78125\n",
      "1/3 [=========>....................] - ETA: 0s - loss: 0.7100 - accuracy: 0.5000\n",
      "Epoch 18: accuracy did not improve from 0.78125\n",
      "2/3 [===================>..........] - ETA: 0s - loss: 0.6773 - accuracy: 0.6562\n",
      "Epoch 18: accuracy did not improve from 0.78125\n",
      "3/3 [==============================] - 0s 102ms/step - loss: 0.6781 - accuracy: 0.6494 - val_loss: 0.6836 - val_accuracy: 0.6000\n",
      "Epoch 19/150\n",
      "\n",
      "Epoch 19: accuracy did not improve from 0.78125\n",
      "1/3 [=========>....................] - ETA: 0s - loss: 0.6661 - accuracy: 0.7500\n",
      "Epoch 19: accuracy did not improve from 0.78125\n",
      "2/3 [===================>..........] - ETA: 0s - loss: 0.6794 - accuracy: 0.6406\n",
      "Epoch 19: accuracy did not improve from 0.78125\n",
      "3/3 [==============================] - 0s 97ms/step - loss: 0.6741 - accuracy: 0.6494 - val_loss: 0.6735 - val_accuracy: 0.6000\n",
      "Epoch 20/150\n",
      "\n",
      "Epoch 20: accuracy did not improve from 0.78125\n",
      "1/3 [=========>....................] - ETA: 0s - loss: 0.6762 - accuracy: 0.5938\n",
      "Epoch 20: accuracy did not improve from 0.78125\n",
      "2/3 [===================>..........] - ETA: 0s - loss: 0.6609 - accuracy: 0.6250\n",
      "Epoch 20: accuracy did not improve from 0.78125\n",
      "3/3 [==============================] - 0s 97ms/step - loss: 0.6458 - accuracy: 0.6494 - val_loss: 0.6909 - val_accuracy: 0.6000\n",
      "Epoch 21/150\n",
      "\n",
      "Epoch 21: accuracy did not improve from 0.78125\n",
      "1/3 [=========>....................] - ETA: 0s - loss: 0.6464 - accuracy: 0.6562\n",
      "Epoch 21: accuracy did not improve from 0.78125\n",
      "2/3 [===================>..........] - ETA: 0s - loss: 0.6491 - accuracy: 0.6562\n",
      "Epoch 21: accuracy did not improve from 0.78125\n",
      "3/3 [==============================] - 0s 102ms/step - loss: 0.6574 - accuracy: 0.6494 - val_loss: 0.7166 - val_accuracy: 0.6000\n",
      "Epoch 22/150\n",
      "\n",
      "Epoch 22: accuracy did not improve from 0.78125\n",
      "1/3 [=========>....................] - ETA: 0s - loss: 0.6911 - accuracy: 0.6250\n",
      "Epoch 22: accuracy did not improve from 0.78125\n",
      "2/3 [===================>..........] - ETA: 0s - loss: 0.7203 - accuracy: 0.5938\n",
      "Epoch 22: accuracy did not improve from 0.78125\n",
      "3/3 [==============================] - 0s 98ms/step - loss: 0.6686 - accuracy: 0.6494 - val_loss: 0.7004 - val_accuracy: 0.6000\n",
      "Epoch 23/150\n",
      "\n",
      "Epoch 23: accuracy did not improve from 0.78125\n",
      "1/3 [=========>....................] - ETA: 0s - loss: 0.6782 - accuracy: 0.6250\n",
      "Epoch 23: accuracy did not improve from 0.78125\n",
      "2/3 [===================>..........] - ETA: 0s - loss: 0.6768 - accuracy: 0.6250\n",
      "Epoch 23: accuracy did not improve from 0.78125\n",
      "3/3 [==============================] - 0s 102ms/step - loss: 0.6566 - accuracy: 0.6494 - val_loss: 0.6887 - val_accuracy: 0.6000\n",
      "Epoch 24/150\n",
      "\n",
      "Epoch 24: accuracy did not improve from 0.78125\n",
      "1/3 [=========>....................] - ETA: 0s - loss: 0.6695 - accuracy: 0.6250\n",
      "Epoch 24: accuracy did not improve from 0.78125\n",
      "2/3 [===================>..........] - ETA: 0s - loss: 0.6458 - accuracy: 0.6562\n",
      "Epoch 24: accuracy did not improve from 0.78125\n",
      "3/3 [==============================] - 0s 101ms/step - loss: 0.6502 - accuracy: 0.6494 - val_loss: 0.6794 - val_accuracy: 0.6000\n",
      "Epoch 25/150\n",
      "\n",
      "Epoch 25: accuracy did not improve from 0.78125\n",
      "1/3 [=========>....................] - ETA: 0s - loss: 0.5652 - accuracy: 0.7812\n",
      "Epoch 25: accuracy did not improve from 0.78125\n",
      "2/3 [===================>..........] - ETA: 0s - loss: 0.6647 - accuracy: 0.6250\n",
      "Epoch 25: accuracy did not improve from 0.78125\n",
      "3/3 [==============================] - 0s 97ms/step - loss: 0.6506 - accuracy: 0.6494 - val_loss: 0.6762 - val_accuracy: 0.6000\n",
      "Epoch 26/150\n",
      "\n",
      "Epoch 26: accuracy did not improve from 0.78125\n",
      "1/3 [=========>....................] - ETA: 0s - loss: 0.6101 - accuracy: 0.7188\n",
      "Epoch 26: accuracy did not improve from 0.78125\n",
      "2/3 [===================>..........] - ETA: 0s - loss: 0.6456 - accuracy: 0.6562\n",
      "Epoch 26: accuracy did not improve from 0.78125\n",
      "3/3 [==============================] - 0s 96ms/step - loss: 0.6495 - accuracy: 0.6494 - val_loss: 0.6773 - val_accuracy: 0.6000\n",
      "Epoch 27/150\n",
      "\n",
      "Epoch 27: accuracy did not improve from 0.78125\n",
      "1/3 [=========>....................] - ETA: 0s - loss: 0.5895 - accuracy: 0.7500\n",
      "Epoch 27: accuracy did not improve from 0.78125\n",
      "2/3 [===================>..........] - ETA: 0s - loss: 0.6167 - accuracy: 0.7031\n",
      "Epoch 27: accuracy did not improve from 0.78125\n",
      "3/3 [==============================] - 0s 102ms/step - loss: 0.6520 - accuracy: 0.6494 - val_loss: 0.6769 - val_accuracy: 0.6000\n",
      "Epoch 28/150\n",
      "\n",
      "Epoch 28: accuracy did not improve from 0.78125\n",
      "1/3 [=========>....................] - ETA: 0s - loss: 0.6445 - accuracy: 0.6562\n",
      "Epoch 28: accuracy did not improve from 0.78125\n",
      "2/3 [===================>..........] - ETA: 0s - loss: 0.6454 - accuracy: 0.6562\n",
      "Epoch 28: accuracy did not improve from 0.78125\n",
      "3/3 [==============================] - 0s 101ms/step - loss: 0.6490 - accuracy: 0.6494 - val_loss: 0.6735 - val_accuracy: 0.6000\n",
      "Epoch 29/150\n",
      "\n",
      "Epoch 29: accuracy did not improve from 0.78125\n",
      "1/3 [=========>....................] - ETA: 0s - loss: 0.7012 - accuracy: 0.5312\n",
      "Epoch 29: accuracy did not improve from 0.78125\n",
      "2/3 [===================>..........] - ETA: 0s - loss: 0.6732 - accuracy: 0.6094\n",
      "Epoch 29: accuracy did not improve from 0.78125\n",
      "3/3 [==============================] - 0s 98ms/step - loss: 0.6603 - accuracy: 0.6494 - val_loss: 0.6735 - val_accuracy: 0.6000\n",
      "Epoch 30/150\n",
      "\n",
      "Epoch 30: accuracy did not improve from 0.78125\n",
      "1/3 [=========>....................] - ETA: 0s - loss: 0.6629 - accuracy: 0.6250\n",
      "Epoch 30: accuracy did not improve from 0.78125\n",
      "2/3 [===================>..........] - ETA: 0s - loss: 0.6541 - accuracy: 0.6406\n",
      "Epoch 30: accuracy did not improve from 0.78125\n",
      "3/3 [==============================] - 0s 96ms/step - loss: 0.6485 - accuracy: 0.6494 - val_loss: 0.6881 - val_accuracy: 0.6000\n",
      "Epoch 31/150\n",
      "\n",
      "Epoch 31: accuracy did not improve from 0.78125\n",
      "1/3 [=========>....................] - ETA: 0s - loss: 0.6216 - accuracy: 0.6875\n",
      "Epoch 31: accuracy did not improve from 0.78125\n",
      "2/3 [===================>..........] - ETA: 0s - loss: 0.6626 - accuracy: 0.6406\n",
      "Epoch 31: accuracy did not improve from 0.78125\n",
      "3/3 [==============================] - 0s 98ms/step - loss: 0.6552 - accuracy: 0.6494 - val_loss: 0.7067 - val_accuracy: 0.6000\n",
      "Epoch 32/150\n",
      "\n",
      "Epoch 32: accuracy did not improve from 0.78125\n",
      "1/3 [=========>....................] - ETA: 0s - loss: 0.6536 - accuracy: 0.6562\n",
      "Epoch 32: accuracy did not improve from 0.78125\n",
      "2/3 [===================>..........] - ETA: 0s - loss: 0.6388 - accuracy: 0.6719\n",
      "Epoch 32: accuracy did not improve from 0.78125\n",
      "3/3 [==============================] - 0s 97ms/step - loss: 0.6595 - accuracy: 0.6494 - val_loss: 0.6941 - val_accuracy: 0.6000\n",
      "Epoch 33/150\n",
      "\n",
      "Epoch 33: accuracy did not improve from 0.78125\n",
      "1/3 [=========>....................] - ETA: 0s - loss: 0.5958 - accuracy: 0.7188\n",
      "Epoch 33: accuracy did not improve from 0.78125\n",
      "2/3 [===================>..........] - ETA: 0s - loss: 0.6322 - accuracy: 0.6719\n",
      "Epoch 33: accuracy did not improve from 0.78125\n",
      "3/3 [==============================] - 0s 96ms/step - loss: 0.6471 - accuracy: 0.6494 - val_loss: 0.6747 - val_accuracy: 0.6000\n",
      "Epoch 34/150\n",
      "\n",
      "Epoch 34: accuracy did not improve from 0.78125\n",
      "1/3 [=========>....................] - ETA: 0s - loss: 0.6460 - accuracy: 0.6562\n",
      "Epoch 34: accuracy did not improve from 0.78125\n",
      "2/3 [===================>..........] - ETA: 0s - loss: 0.6610 - accuracy: 0.6250\n",
      "Epoch 34: accuracy did not improve from 0.78125\n",
      "3/3 [==============================] - 0s 101ms/step - loss: 0.6550 - accuracy: 0.6494 - val_loss: 0.6750 - val_accuracy: 0.6000\n",
      "Epoch 35/150\n",
      "\n",
      "Epoch 35: accuracy did not improve from 0.78125\n",
      "1/3 [=========>....................] - ETA: 0s - loss: 0.6677 - accuracy: 0.6250\n",
      "Epoch 35: accuracy did not improve from 0.78125\n",
      "2/3 [===================>..........] - ETA: 0s - loss: 0.6573 - accuracy: 0.6562\n",
      "Epoch 35: accuracy did not improve from 0.78125\n",
      "3/3 [==============================] - 0s 98ms/step - loss: 0.6590 - accuracy: 0.6494 - val_loss: 0.6738 - val_accuracy: 0.6000\n",
      "Epoch 36/150\n",
      "\n",
      "Epoch 36: accuracy did not improve from 0.78125\n",
      "1/3 [=========>....................] - ETA: 0s - loss: 0.6188 - accuracy: 0.7188\n",
      "Epoch 36: accuracy did not improve from 0.78125\n",
      "2/3 [===================>..........] - ETA: 0s - loss: 0.6588 - accuracy: 0.6406\n",
      "Epoch 36: accuracy did not improve from 0.78125\n",
      "3/3 [==============================] - 0s 99ms/step - loss: 0.6523 - accuracy: 0.6494 - val_loss: 0.6856 - val_accuracy: 0.6000\n",
      "Epoch 37/150\n",
      "\n",
      "Epoch 37: accuracy did not improve from 0.78125\n",
      "1/3 [=========>....................] - ETA: 0s - loss: 0.5991 - accuracy: 0.7188\n",
      "Epoch 37: accuracy did not improve from 0.78125\n",
      "2/3 [===================>..........] - ETA: 0s - loss: 0.6360 - accuracy: 0.6719\n",
      "Epoch 37: accuracy did not improve from 0.78125\n",
      "3/3 [==============================] - 0s 98ms/step - loss: 0.6555 - accuracy: 0.6494 - val_loss: 0.6948 - val_accuracy: 0.6000\n",
      "Epoch 38/150\n",
      "\n",
      "Epoch 38: accuracy did not improve from 0.78125\n",
      "1/3 [=========>....................] - ETA: 0s - loss: 0.7001 - accuracy: 0.5938\n",
      "Epoch 38: accuracy did not improve from 0.78125\n",
      "2/3 [===================>..........] - ETA: 0s - loss: 0.6372 - accuracy: 0.6719\n",
      "Epoch 38: accuracy did not improve from 0.78125\n",
      "3/3 [==============================] - 0s 97ms/step - loss: 0.6527 - accuracy: 0.6494 - val_loss: 0.6787 - val_accuracy: 0.6000\n",
      "Epoch 39/150\n",
      "\n",
      "Epoch 39: accuracy did not improve from 0.78125\n",
      "1/3 [=========>....................] - ETA: 0s - loss: 0.6054 - accuracy: 0.7188\n",
      "Epoch 39: accuracy did not improve from 0.78125\n",
      "2/3 [===================>..........] - ETA: 0s - loss: 0.6250 - accuracy: 0.6875\n",
      "Epoch 39: accuracy did not improve from 0.78125\n",
      "3/3 [==============================] - 0s 97ms/step - loss: 0.6456 - accuracy: 0.6494 - val_loss: 0.6734 - val_accuracy: 0.6000\n",
      "Epoch 40/150\n",
      "\n",
      "Epoch 40: accuracy did not improve from 0.78125\n",
      "1/3 [=========>....................] - ETA: 0s - loss: 0.6128 - accuracy: 0.7500\n",
      "Epoch 40: accuracy did not improve from 0.78125\n",
      "2/3 [===================>..........] - ETA: 0s - loss: 0.6443 - accuracy: 0.6719\n",
      "Epoch 40: accuracy did not improve from 0.78125\n",
      "3/3 [==============================] - 0s 97ms/step - loss: 0.6529 - accuracy: 0.6494 - val_loss: 0.6749 - val_accuracy: 0.6000\n",
      "Epoch 41/150\n",
      "\n",
      "Epoch 41: accuracy did not improve from 0.78125\n",
      "1/3 [=========>....................] - ETA: 0s - loss: 0.6398 - accuracy: 0.7188\n",
      "Epoch 41: accuracy did not improve from 0.78125\n",
      "2/3 [===================>..........] - ETA: 0s - loss: 0.6580 - accuracy: 0.6562\n",
      "Epoch 41: accuracy did not improve from 0.78125\n",
      "3/3 [==============================] - 0s 96ms/step - loss: 0.6598 - accuracy: 0.6494 - val_loss: 0.6734 - val_accuracy: 0.6000\n",
      "Epoch 42/150\n",
      "\n",
      "Epoch 42: accuracy did not improve from 0.78125\n",
      "1/3 [=========>....................] - ETA: 0s - loss: 0.6882 - accuracy: 0.5625\n",
      "Epoch 42: accuracy did not improve from 0.78125\n",
      "2/3 [===================>..........] - ETA: 0s - loss: 0.6433 - accuracy: 0.6719\n",
      "Epoch 42: accuracy did not improve from 0.78125\n",
      "3/3 [==============================] - 0s 98ms/step - loss: 0.6540 - accuracy: 0.6494 - val_loss: 0.6766 - val_accuracy: 0.6000\n",
      "Epoch 43/150\n",
      "\n",
      "Epoch 43: accuracy did not improve from 0.78125\n",
      "1/3 [=========>....................] - ETA: 0s - loss: 0.6445 - accuracy: 0.6562\n",
      "Epoch 43: accuracy did not improve from 0.78125\n",
      "2/3 [===================>..........] - ETA: 0s - loss: 0.6540 - accuracy: 0.6406\n",
      "Epoch 43: accuracy did not improve from 0.78125\n",
      "3/3 [==============================] - 0s 99ms/step - loss: 0.6483 - accuracy: 0.6494 - val_loss: 0.6843 - val_accuracy: 0.6000\n",
      "Epoch 44/150\n",
      "\n",
      "Epoch 44: accuracy did not improve from 0.78125\n",
      "1/3 [=========>....................] - ETA: 0s - loss: 0.6221 - accuracy: 0.6875\n",
      "Epoch 44: accuracy did not improve from 0.78125\n",
      "2/3 [===================>..........] - ETA: 0s - loss: 0.6576 - accuracy: 0.6406\n",
      "Epoch 44: accuracy did not improve from 0.78125\n",
      "3/3 [==============================] - 0s 97ms/step - loss: 0.6509 - accuracy: 0.6494 - val_loss: 0.6894 - val_accuracy: 0.6000\n",
      "Epoch 45/150\n",
      "\n",
      "Epoch 45: accuracy did not improve from 0.78125\n",
      "1/3 [=========>....................] - ETA: 0s - loss: 0.6942 - accuracy: 0.5938\n",
      "Epoch 45: accuracy did not improve from 0.78125\n",
      "2/3 [===================>..........] - ETA: 0s - loss: 0.6695 - accuracy: 0.6250\n",
      "Epoch 45: accuracy did not improve from 0.78125\n",
      "3/3 [==============================] - 0s 97ms/step - loss: 0.6520 - accuracy: 0.6494 - val_loss: 0.6841 - val_accuracy: 0.6000\n",
      "Epoch 46/150\n",
      "\n",
      "Epoch 46: accuracy did not improve from 0.78125\n",
      "1/3 [=========>....................] - ETA: 0s - loss: 0.6885 - accuracy: 0.5938\n",
      "Epoch 46: accuracy did not improve from 0.78125\n",
      "2/3 [===================>..........] - ETA: 0s - loss: 0.6556 - accuracy: 0.6406\n",
      "Epoch 46: accuracy did not improve from 0.78125\n",
      "3/3 [==============================] - 0s 98ms/step - loss: 0.6496 - accuracy: 0.6494 - val_loss: 0.6816 - val_accuracy: 0.6000\n",
      "Epoch 47/150\n",
      "\n",
      "Epoch 47: accuracy did not improve from 0.78125\n",
      "1/3 [=========>....................] - ETA: 0s - loss: 0.6649 - accuracy: 0.6250\n",
      "Epoch 47: accuracy did not improve from 0.78125\n",
      "2/3 [===================>..........] - ETA: 0s - loss: 0.6646 - accuracy: 0.6250\n",
      "Epoch 47: accuracy did not improve from 0.78125\n",
      "3/3 [==============================] - 0s 97ms/step - loss: 0.6492 - accuracy: 0.6494 - val_loss: 0.6808 - val_accuracy: 0.6000\n",
      "Epoch 48/150\n",
      "\n",
      "Epoch 48: accuracy did not improve from 0.78125\n",
      "1/3 [=========>....................] - ETA: 0s - loss: 0.6850 - accuracy: 0.5938\n",
      "Epoch 48: accuracy did not improve from 0.78125\n",
      "2/3 [===================>..........] - ETA: 0s - loss: 0.6644 - accuracy: 0.6250\n",
      "Epoch 48: accuracy did not improve from 0.78125\n",
      "3/3 [==============================] - 0s 101ms/step - loss: 0.6485 - accuracy: 0.6494 - val_loss: 0.6836 - val_accuracy: 0.6000\n",
      "Epoch 49/150\n",
      "\n",
      "Epoch 49: accuracy did not improve from 0.78125\n",
      "1/3 [=========>....................] - ETA: 0s - loss: 0.6880 - accuracy: 0.5938\n",
      "Epoch 49: accuracy did not improve from 0.78125\n",
      "2/3 [===================>..........] - ETA: 0s - loss: 0.6550 - accuracy: 0.6406\n",
      "Epoch 49: accuracy did not improve from 0.78125\n",
      "3/3 [==============================] - 0s 96ms/step - loss: 0.6488 - accuracy: 0.6494 - val_loss: 0.6873 - val_accuracy: 0.6000\n",
      "Epoch 50/150\n",
      "\n",
      "Epoch 50: accuracy did not improve from 0.78125\n",
      "1/3 [=========>....................] - ETA: 0s - loss: 0.6451 - accuracy: 0.6562\n",
      "Epoch 50: accuracy did not improve from 0.78125\n",
      "2/3 [===================>..........] - ETA: 0s - loss: 0.6214 - accuracy: 0.6875\n",
      "Epoch 50: accuracy did not improve from 0.78125\n",
      "3/3 [==============================] - 0s 98ms/step - loss: 0.6515 - accuracy: 0.6494 - val_loss: 0.6837 - val_accuracy: 0.6000\n",
      "Epoch 51/150\n",
      "\n",
      "Epoch 51: accuracy did not improve from 0.78125\n",
      "1/3 [=========>....................] - ETA: 0s - loss: 0.6881 - accuracy: 0.5938\n",
      "Epoch 51: accuracy did not improve from 0.78125\n",
      "2/3 [===================>..........] - ETA: 0s - loss: 0.6202 - accuracy: 0.7031\n",
      "Epoch 51: accuracy did not improve from 0.78125\n",
      "3/3 [==============================] - 0s 97ms/step - loss: 0.6504 - accuracy: 0.6494 - val_loss: 0.6734 - val_accuracy: 0.6000\n",
      "Epoch 51: early stopping\n"
     ]
    }
   ],
   "source": [
    "# fit the model\n",
    "history = model.fit(\n",
    "  train_x,\n",
    "  train_y,\n",
    "  validation_data=(val_x,val_y),\n",
    "  epochs=150,\n",
    "  callbacks=[early_stop, tensorboard, checkpoint],\n",
    "  batch_size=32,shuffle=True)"
   ],
   "metadata": {
    "collapsed": false,
    "pycharm": {
     "name": "#%%\n"
    }
   }
  },
  {
   "cell_type": "code",
   "execution_count": 85,
   "outputs": [
    {
     "data": {
      "text/plain": "<Figure size 432x288 with 1 Axes>",
      "image/png": "[encoded data removed]"
     },
     "metadata": {
      "needs_background": "light"
     },
     "output_type": "display_data"
    }
   ],
   "source": [
    "# accuracies\n",
    "\n",
    "plt.plot(history.history['accuracy'], label='train acc')\n",
    "\n",
    "plt.plot(history.history['val_accuracy'], label='val acc')\n",
    "\n",
    "plt.legend()\n",
    "\n",
    "plt.savefig('vgg-acc-rps-1.png')\n",
    "\n",
    "plt.show()"
   ],
   "metadata": {
    "collapsed": false,
    "pycharm": {
     "name": "#%%\n"
    }
   }
  },
  {
   "cell_type": "code",
   "execution_count": 86,
   "outputs": [
    {
     "data": {
      "text/plain": "<Figure size 432x288 with 1 Axes>",
      "image/png": "[encoded data removed]"
     },
     "metadata": {
      "needs_background": "light"
     },
     "output_type": "display_data"
    }
   ],
   "source": [
    "# loss\n",
    "plt.plot(history.history['loss'], label='train loss')\n",
    "plt.plot(history.history['val_loss'], label='val loss')\n",
    "plt.legend()\n",
    "plt.savefig('vgg-loss-rps-1.png')\n",
    "plt.show()"
   ],
   "metadata": {
    "collapsed": false,
    "pycharm": {
     "name": "#%%\n"
    }
   }
  },
  {
   "cell_type": "code",
   "execution_count": 87,
   "outputs": [
    {
     "name": "stdout",
     "output_type": "stream",
     "text": [
      "2/2 [==============================] - 0s 38ms/step - loss: 0.6734 - accuracy: 0.6000\b\b\b\b\b\b\b\b\b\b\b\b\b\b\b\b\b\b\b\b\b\b\b\b\b\b\b\b\b\b\b\b\b\b\b\b\b\b\b\b\b\b\b\b\b\b\b\b\b\b\b\b\b\b\b\b\b\b\b\b\b\b\b\b\b\b\b\b\b\b\b\b\b\b\b\n"
     ]
    },
    {
     "data": {
      "text/plain": "[0.6733912229537964, 0.6000000238418579]"
     },
     "execution_count": 87,
     "metadata": {},
     "output_type": "execute_result"
    }
   ],
   "source": [
    "model.evaluate(val_x,val_y,batch_size=10)"
   ],
   "metadata": {
    "collapsed": false,
    "pycharm": {
     "name": "#%%\n"
    }
   }
  },
  {
   "cell_type": "code",
   "execution_count": 89,
   "outputs": [
    {
     "name": "stdout",
     "output_type": "stream",
     "text": [
      "1/1 [==============================] - 0s 28ms/step\b\b\b\b\b\b\b\b\b\b\b\b\b\b\b\b\b\b\b\b\b\b\b\b\b\b\b\b\b\b\b\b\b\b\b\b\b\b\b\b\b\n",
      "              precision    recall  f1-score   support\n",
      "\n",
      "           0       0.00      0.00      0.00         0\n",
      "           1       1.00      0.60      0.75        20\n",
      "\n",
      "    accuracy                           0.60        20\n",
      "   macro avg       0.50      0.30      0.37        20\n",
      "weighted avg       1.00      0.60      0.75        20\n",
      "\n",
      "[[ 0  0]\n",
      " [ 8 12]]\n"
     ]
    },
    {
     "name": "stderr",
     "output_type": "stream",
     "text": [
      "C:\\Users\\sathy\\OneDrive\\Documents\\GitHub\\Glioblastoma_analysis\\venv\\lib\\site-packages\\sklearn\\metrics\\_classification.py:1327: UndefinedMetricWarning: Recall and F-score are ill-defined and being set to 0.0 in labels with no true samples. Use `zero_division` parameter to control this behavior.\n",
      "  _warn_prf(average, modifier, msg_start, len(result))\n",
      "C:\\Users\\sathy\\OneDrive\\Documents\\GitHub\\Glioblastoma_analysis\\venv\\lib\\site-packages\\sklearn\\metrics\\_classification.py:1327: UndefinedMetricWarning: Recall and F-score are ill-defined and being set to 0.0 in labels with no true samples. Use `zero_division` parameter to control this behavior.\n",
      "  _warn_prf(average, modifier, msg_start, len(result))\n",
      "C:\\Users\\sathy\\OneDrive\\Documents\\GitHub\\Glioblastoma_analysis\\venv\\lib\\site-packages\\sklearn\\metrics\\_classification.py:1327: UndefinedMetricWarning: Recall and F-score are ill-defined and being set to 0.0 in labels with no true samples. Use `zero_division` parameter to control this behavior.\n",
      "  _warn_prf(average, modifier, msg_start, len(result))\n"
     ]
    }
   ],
   "source": [
    "from sklearn.metrics import accuracy_score,classification_report,confusion_matrix\n",
    "import numpy as np\n",
    "#predict\n",
    "y_pred=model.predict(val_x)\n",
    "y_pred=np.argmax(y_pred,axis=1)\n",
    "#get classification report\n",
    "print(classification_report(y_pred,val_y))\n",
    "#get confusion matrix\n",
    "print(confusion_matrix(y_pred,val_y))"
   ],
   "metadata": {
    "collapsed": false,
    "pycharm": {
     "name": "#%%\n"
    }
   }
  }
 ],
 "metadata": {
  "kernelspec": {
   "display_name": "Python 3",
   "language": "python",
   "name": "python3"
  },
  "language_info": {
   "codemirror_mode": {
    "name": "ipython",
    "version": 2
   },
   "file_extension": ".py",
   "mimetype": "text/x-python",
   "name": "python",
   "nbconvert_exporter": "python",
   "pygments_lexer": "ipython2",
   "version": "2.7.6"
  }
 },
 "nbformat": 4,
 "nbformat_minor": 0
}