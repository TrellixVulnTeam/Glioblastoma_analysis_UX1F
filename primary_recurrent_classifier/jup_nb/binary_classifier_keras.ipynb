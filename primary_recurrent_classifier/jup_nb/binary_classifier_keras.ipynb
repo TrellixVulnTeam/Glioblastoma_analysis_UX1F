{
 "cells": [
  {
   "cell_type": "code",
   "execution_count": 688,
   "metadata": {
    "collapsed": true
   },
   "outputs": [],
   "source": [
    "import pandas as pd\n",
    "import numpy as np\n",
    "pd.set_option('display.max_rows', None)\n",
    "import numpy  as np\n",
    "from tensorflow import keras\n",
    "import matplotlib.pyplot as plt\n",
    "from sklearn.preprocessing import MinMaxScaler\n",
    "from sklearn.model_selection import train_test_split\n",
    "from imblearn.over_sampling import SMOTE"
   ]
  },
  {
   "cell_type": "code",
   "execution_count": 689,
   "outputs": [
    {
     "name": "stdout",
     "output_type": "stream",
     "text": [
      "                                Sample  ID\n",
      "0  TMA 27 R1 | 001 | Geometric Segment   0\n",
      "1  TMA 27 R1 | 002 | Geometric Segment   0\n",
      "2  TMA 27 R1 | 003 | Geometric Segment   0\n",
      "3  TMA 27 R1 | 004 | Geometric Segment   0\n",
      "4  TMA 27 R1 | 005 | Geometric Segment   0\n"
     ]
    }
   ],
   "source": [
    "\n",
    "\n",
    "# Read in the csv data using pandas\n",
    "\n",
    "df  = pd.read_csv('../../data/tables/X_trainGBM.csv', index_col=0)\n",
    "\n",
    "label = pd.read_csv('../../data/tables/Y_trainGBM.csv')\n",
    "\n",
    "print(label.head())"
   ],
   "metadata": {
    "collapsed": false,
    "pycharm": {
     "name": "#%%\n"
    }
   }
  },
  {
   "cell_type": "code",
   "execution_count": 690,
   "outputs": [
    {
     "name": "stdout",
     "output_type": "stream",
     "text": [
      "            TMA 27 R1 | 001 | Geometric Segment  \\\n",
      "TargetName                                        \n",
      "ATP7B                                 49.983944   \n",
      "ERN1                                  60.775932   \n",
      "KRT74                                 31.239965   \n",
      "SPECC1L                               46.007948   \n",
      "FOXJ1                                 45.439949   \n",
      "\n",
      "            TMA 27 R1 | 002 | Geometric Segment  \\\n",
      "TargetName                                        \n",
      "ATP7B                                 46.519148   \n",
      "ERN1                                  49.501144   \n",
      "KRT74                                 34.591161   \n",
      "SPECC1L                               47.115547   \n",
      "FOXJ1                                 54.272339   \n",
      "\n",
      "            TMA 27 R1 | 003 | Geometric Segment  \\\n",
      "TargetName                                        \n",
      "ATP7B                                 51.213741   \n",
      "ERN1                                  42.021531   \n",
      "KRT74                                 26.920043   \n",
      "SPECC1L                               43.991290   \n",
      "FOXJ1                                 55.153259   \n",
      "\n",
      "            TMA 27 R1 | 004 | Geometric Segment  \\\n",
      "TargetName                                        \n",
      "ATP7B                                 45.655397   \n",
      "ERN1                                  50.591115   \n",
      "KRT74                                 44.421467   \n",
      "SPECC1L                               33.316100   \n",
      "FOXJ1                                 59.228623   \n",
      "\n",
      "            TMA 27 R1 | 005 | Geometric Segment  \\\n",
      "TargetName                                        \n",
      "ATP7B                                 60.557470   \n",
      "ERN1                                  49.547021   \n",
      "KRT74                                 39.637617   \n",
      "SPECC1L                               45.142842   \n",
      "FOXJ1                                 67.163740   \n",
      "\n",
      "            TMA 27 R1 | 006 | Geometric Segment  \\\n",
      "TargetName                                        \n",
      "ATP7B                                 49.202945   \n",
      "ERN1                                  53.675940   \n",
      "KRT74                                 32.801963   \n",
      "SPECC1L                               38.765956   \n",
      "FOXJ1                                 38.765956   \n",
      "\n",
      "            TMA 27 R1 | 007 | Geometric Segment  \\\n",
      "TargetName                                        \n",
      "ATP7B                                 71.567919   \n",
      "ERN1                                  51.119942   \n",
      "KRT74                                 71.567919   \n",
      "SPECC1L                               30.671965   \n",
      "FOXJ1                                 40.895954   \n",
      "\n",
      "            TMA 27 R1 | 008 | Geometric Segment  \\\n",
      "TargetName                                        \n",
      "ATP7B                                 63.148164   \n",
      "ERN1                                  75.777797   \n",
      "KRT74                                 54.728409   \n",
      "SPECC1L                               42.098776   \n",
      "FOXJ1                                 25.259266   \n",
      "\n",
      "            TMA 27 R1 | 009 | Geometric Segment  \\\n",
      "TargetName                                        \n",
      "ATP7B                                 39.246924   \n",
      "ERN1                                  41.555566   \n",
      "KRT74                                 39.246924   \n",
      "SPECC1L                               32.320996   \n",
      "FOXJ1                                 50.790136   \n",
      "\n",
      "            TMA 27 R1 | 010 | Geometric Segment  ...  \\\n",
      "TargetName                                       ...   \n",
      "ATP7B                                 43.167951  ...   \n",
      "ERN1                                  65.887926  ...   \n",
      "KRT74                                 45.439949  ...   \n",
      "SPECC1L                               34.079962  ...   \n",
      "FOXJ1                                 43.167951  ...   \n",
      "\n",
      "            TMA 27 R4 (1) | 047 | Geometric Segment  \\\n",
      "TargetName                                            \n",
      "ATP7B                                     59.639933   \n",
      "ERN1                                      67.393124   \n",
      "KRT74                                     50.097544   \n",
      "SPECC1L                                   48.904745   \n",
      "FOXJ1                                     50.693943   \n",
      "\n",
      "            TMA 27 R4 (1) | 048 | Geometric Segment  \\\n",
      "TargetName                                            \n",
      "ATP7B                                     65.177927   \n",
      "ERN1                                      85.625904   \n",
      "KRT74                                     58.787934   \n",
      "SPECC1L                                   56.870936   \n",
      "FOXJ1                                     53.036940   \n",
      "\n",
      "            TMA 27 R4 (1) | 049 | Geometric Segment  \\\n",
      "TargetName                                            \n",
      "ATP7B                                     51.553162   \n",
      "ERN1                                      61.257287   \n",
      "KRT74                                     48.520623   \n",
      "SPECC1L                                   53.979193   \n",
      "FOXJ1                                     57.011732   \n",
      "\n",
      "            TMA 27 R4 (1) | 050 | Geometric Segment  \\\n",
      "TargetName                                            \n",
      "ATP7B                                     53.868326   \n",
      "ERN1                                      56.176969   \n",
      "KRT74                                     40.016471   \n",
      "SPECC1L                                   44.633756   \n",
      "FOXJ1                                     53.098779   \n",
      "\n",
      "            TMA 27 R4 (1) | 051 | Geometric Segment  \\\n",
      "TargetName                                            \n",
      "ATP7B                                     47.937003   \n",
      "ERN1                                      51.312848   \n",
      "KRT74                                     52.663186   \n",
      "SPECC1L                                   46.586665   \n",
      "FOXJ1                                     49.287341   \n",
      "\n",
      "            TMA 27 R4 (1) | 052 | Geometric Segment  \\\n",
      "TargetName                                            \n",
      "ATP7B                                     56.538656   \n",
      "ERN1                                      69.420882   \n",
      "KRT74                                     47.234827   \n",
      "SPECC1L                                   51.528902   \n",
      "FOXJ1                                     52.960260   \n",
      "\n",
      "            TMA 27 R4 (1) | 053 | Geometric Segment  \\\n",
      "TargetName                                            \n",
      "ATP7B                                     63.872444   \n",
      "ERN1                                      59.255159   \n",
      "KRT74                                     56.176969   \n",
      "SPECC1L                                   54.637874   \n",
      "FOXJ1                                     44.633756   \n",
      "\n",
      "            TMA 27 R4 (1) | 054 | Geometric Segment  \\\n",
      "TargetName                                            \n",
      "ATP7B                                     55.789166   \n",
      "ERN1                                      62.551489   \n",
      "KRT74                                     48.463316   \n",
      "SPECC1L                                   53.535058   \n",
      "FOXJ1                                     56.352692   \n",
      "\n",
      "            TMA 27 R4 (1) | 055 | Geometric Segment  \\\n",
      "TargetName                                            \n",
      "ATP7B                                     55.107298   \n",
      "ERN1                                      52.960260   \n",
      "KRT74                                     30.774205   \n",
      "SPECC1L                                   52.960260   \n",
      "FOXJ1                                     20.754697   \n",
      "\n",
      "            TMA 27 R4 (1) | 056 | Geometric Segment  \n",
      "TargetName                                           \n",
      "ATP7B                                     46.889327  \n",
      "ERN1                                      48.123256  \n",
      "KRT74                                     40.719678  \n",
      "SPECC1L                                   62.313447  \n",
      "FOXJ1                                     27.763417  \n",
      "\n",
      "[5 rows x 272 columns]\n"
     ]
    }
   ],
   "source": [
    "last_row = df.index[-1]\n",
    "df_nonull = df.drop(last_row)\n",
    "print(df_nonull.head())"
   ],
   "metadata": {
    "collapsed": false,
    "pycharm": {
     "name": "#%%\n"
    }
   }
  },
  {
   "cell_type": "code",
   "execution_count": 691,
   "outputs": [
    {
     "name": "stdout",
     "output_type": "stream",
     "text": [
      "TargetName                               ATP7B       ERN1      KRT74  \\\n",
      "TMA 27 R1 | 001 | Geometric Segment  49.983944  60.775932  31.239965   \n",
      "TMA 27 R1 | 002 | Geometric Segment  46.519148  49.501144  34.591161   \n",
      "TMA 27 R1 | 003 | Geometric Segment  51.213741  42.021531  26.920043   \n",
      "TMA 27 R1 | 004 | Geometric Segment  45.655397  50.591115  44.421467   \n",
      "TMA 27 R1 | 005 | Geometric Segment  60.557470  49.547021  39.637617   \n",
      "\n",
      "TargetName                             SPECC1L      FOXJ1     OR4K15  \\\n",
      "TMA 27 R1 | 001 | Geometric Segment  46.007948  45.439949  58.503934   \n",
      "TMA 27 R1 | 002 | Geometric Segment  47.115547  54.272339  58.447134   \n",
      "TMA 27 R1 | 003 | Geometric Segment  43.991290  55.153259  51.870327   \n",
      "TMA 27 R1 | 004 | Geometric Segment  33.316100  59.228623  53.058975   \n",
      "TMA 27 R1 | 005 | Geometric Segment  45.142842  67.163740  56.153291   \n",
      "\n",
      "TargetName                                 PDC      MUC15   C1orf189  \\\n",
      "TMA 27 R1 | 001 | Geometric Segment  40.327955  24.991972  58.503934   \n",
      "TMA 27 R1 | 002 | Geometric Segment  40.555154  22.066775  48.904745   \n",
      "TMA 27 R1 | 003 | Geometric Segment  38.082012  25.606870  45.304463   \n",
      "TMA 27 R1 | 004 | Geometric Segment  50.591115  28.380382  49.357186   \n",
      "TMA 27 R1 | 005 | Geometric Segment  48.445976  27.526123  37.435527   \n",
      "\n",
      "TargetName                                 ZXDC  ...       EIF3F       MAT2A  \\\n",
      "TMA 27 R1 | 001 | Geometric Segment   98.263889  ...  206.183768  163.015816   \n",
      "TMA 27 R1 | 002 | Geometric Segment   99.002289  ...  209.336164  171.763007   \n",
      "TMA 27 R1 | 003 | Geometric Segment  102.427481  ...  225.209141  212.733999   \n",
      "TMA 27 R1 | 004 | Geometric Segment   80.205427  ...  220.873407  146.837628   \n",
      "TMA 27 R1 | 005 | Geometric Segment   89.184638  ...  188.278680  140.933749   \n",
      "\n",
      "TargetName                              C2CD4C       M1AP       IQCD  \\\n",
      "TMA 27 R1 | 001 | Geometric Segment  29.535967  34.647961  36.919958   \n",
      "TMA 27 R1 | 002 | Geometric Segment  33.994762  29.223567  33.994762   \n",
      "TMA 27 R1 | 003 | Geometric Segment  27.576630  30.202975  31.516148   \n",
      "TMA 27 R1 | 004 | Geometric Segment  22.210734  24.678593  29.614311   \n",
      "TMA 27 R1 | 005 | Geometric Segment  39.637617  28.627168  33.031347   \n",
      "\n",
      "TargetName                               OR2H1    C1QTNF3      RAB42  \\\n",
      "TMA 27 R1 | 001 | Geometric Segment  31.807964  44.303950  53.391940   \n",
      "TMA 27 R1 | 002 | Geometric Segment  29.819966  36.380359  53.079540   \n",
      "TMA 27 R1 | 003 | Geometric Segment  32.172734  46.617636  40.051771   \n",
      "TMA 27 R1 | 004 | Geometric Segment  25.912523  27.146452  62.930412   \n",
      "TMA 27 R1 | 005 | Geometric Segment  19.818808  33.031347  42.940752   \n",
      "\n",
      "TargetName                               PTPRJ       GPX7  \n",
      "TMA 27 R1 | 001 | Geometric Segment  45.439949  42.599952  \n",
      "TMA 27 R1 | 002 | Geometric Segment  56.657936  41.151554  \n",
      "TMA 27 R1 | 003 | Geometric Segment  46.617636  45.961049  \n",
      "TMA 27 R1 | 004 | Geometric Segment  38.251819  48.123256  \n",
      "TMA 27 R1 | 005 | Geometric Segment  53.951201  45.142842  \n",
      "\n",
      "[5 rows x 18670 columns]\n"
     ]
    }
   ],
   "source": [
    "df_transposed = df_nonull.transpose()\n",
    "print(df_transposed.head())"
   ],
   "metadata": {
    "collapsed": false,
    "pycharm": {
     "name": "#%%\n"
    }
   }
  },
  {
   "cell_type": "code",
   "execution_count": 692,
   "outputs": [
    {
     "name": "stdout",
     "output_type": "stream",
     "text": [
      "[0, 0, 0, 0, 0, 0, 0, 0, 0, 0, 0, 0, 0, 0, 1, 0, 0, 0, 0, 0, 0, 1, 1, 1, 1, 1, 1, 1, 1, 1, 0, 0, 0, 0, 0, 0, 0, 0, 0, 1, 1, 1, 1, 1, 0, 0, 0, 0, 0, 0, 1, 1, 1, 1, 1, 1, 1, 1, 1, 1, 1, 0, 0, 0, 1, 1, 1, 0, 0, 0, 0, 0, 0, 1, 1, 1, 1, 1, 1, 0, 0, 0, 0, 1, 1, 1, 1, 1, 1, 1, 1, 1, 0, 1, 1, 1, 1, 1, 1, 1, 1, 1, 0, 0, 0, 1, 1, 1, 0, 0, 1, 1, 1, 1, 1, 1, 1, 1, 1, 1, 1, 1, 1, 1, 1, 1, 1, 1, 1, 1, 1, 1, 1, 1, 0, 0, 1, 1, 1, 1, 1, 0, 0, 0, 1, 1, 1, 1, 1, 1, 1, 1, 1, 1, 1, 1, 1, 1, 1, 1, 1, 1, 1, 1, 1, 1, 1, 1, 1, 1, 1, 1, 1, 1, 1, 1, 1, 1, 1, 1, 1, 1, 1, 0, 0, 0, 1, 1, 1, 1, 1, 1, 0, 0, 0, 1, 1, 1, 0, 0, 0, 1, 1, 1, 1, 1, 0, 0, 0, 1, 1, 1, 0, 0, 0, 1, 1, 1, 0, 0, 0, 0, 0, 0, 0, 0, 0, 0, 0, 0, 0, 0, 0, 0, 0, 0, 0, 1, 1, 1, 0, 0, 0, 0, 0, 0, 1, 1, 0, 0, 0, 1, 1, 1, 0, 0, 0, 1, 1, 1, 1, 1, 1, 1, 1, 1, 1, 1, 1, 1, 1, 1]\n",
      "length of ID list is: 272\n"
     ]
    }
   ],
   "source": [
    "df_transposed.to_csv(\"../../data/table_out/train_transposed.csv\")\n",
    "\n",
    "ID_list = label['ID'].tolist()\n",
    "print(ID_list)\n",
    "print(\"length of ID list is: {}\".format(len(ID_list)))"
   ],
   "metadata": {
    "collapsed": false,
    "pycharm": {
     "name": "#%%\n"
    }
   }
  },
  {
   "cell_type": "code",
   "execution_count": 693,
   "outputs": [
    {
     "name": "stdout",
     "output_type": "stream",
     "text": [
      "TargetName                               ATP7B       ERN1      KRT74  \\\n",
      "TMA 27 R1 | 001 | Geometric Segment  49.983944  60.775932  31.239965   \n",
      "TMA 27 R1 | 002 | Geometric Segment  46.519148  49.501144  34.591161   \n",
      "TMA 27 R1 | 003 | Geometric Segment  51.213741  42.021531  26.920043   \n",
      "TMA 27 R1 | 004 | Geometric Segment  45.655397  50.591115  44.421467   \n",
      "TMA 27 R1 | 005 | Geometric Segment  60.557470  49.547021  39.637617   \n",
      "\n",
      "TargetName                             SPECC1L      FOXJ1     OR4K15  \\\n",
      "TMA 27 R1 | 001 | Geometric Segment  46.007948  45.439949  58.503934   \n",
      "TMA 27 R1 | 002 | Geometric Segment  47.115547  54.272339  58.447134   \n",
      "TMA 27 R1 | 003 | Geometric Segment  43.991290  55.153259  51.870327   \n",
      "TMA 27 R1 | 004 | Geometric Segment  33.316100  59.228623  53.058975   \n",
      "TMA 27 R1 | 005 | Geometric Segment  45.142842  67.163740  56.153291   \n",
      "\n",
      "TargetName                                 PDC      MUC15   C1orf189  \\\n",
      "TMA 27 R1 | 001 | Geometric Segment  40.327955  24.991972  58.503934   \n",
      "TMA 27 R1 | 002 | Geometric Segment  40.555154  22.066775  48.904745   \n",
      "TMA 27 R1 | 003 | Geometric Segment  38.082012  25.606870  45.304463   \n",
      "TMA 27 R1 | 004 | Geometric Segment  50.591115  28.380382  49.357186   \n",
      "TMA 27 R1 | 005 | Geometric Segment  48.445976  27.526123  37.435527   \n",
      "\n",
      "TargetName                                 ZXDC  ...       MAT2A     C2CD4C  \\\n",
      "TMA 27 R1 | 001 | Geometric Segment   98.263889  ...  163.015816  29.535967   \n",
      "TMA 27 R1 | 002 | Geometric Segment   99.002289  ...  171.763007  33.994762   \n",
      "TMA 27 R1 | 003 | Geometric Segment  102.427481  ...  212.733999  27.576630   \n",
      "TMA 27 R1 | 004 | Geometric Segment   80.205427  ...  146.837628  22.210734   \n",
      "TMA 27 R1 | 005 | Geometric Segment   89.184638  ...  140.933749  39.637617   \n",
      "\n",
      "TargetName                                M1AP       IQCD      OR2H1  \\\n",
      "TMA 27 R1 | 001 | Geometric Segment  34.647961  36.919958  31.807964   \n",
      "TMA 27 R1 | 002 | Geometric Segment  29.223567  33.994762  29.819966   \n",
      "TMA 27 R1 | 003 | Geometric Segment  30.202975  31.516148  32.172734   \n",
      "TMA 27 R1 | 004 | Geometric Segment  24.678593  29.614311  25.912523   \n",
      "TMA 27 R1 | 005 | Geometric Segment  28.627168  33.031347  19.818808   \n",
      "\n",
      "TargetName                             C1QTNF3      RAB42      PTPRJ  \\\n",
      "TMA 27 R1 | 001 | Geometric Segment  44.303950  53.391940  45.439949   \n",
      "TMA 27 R1 | 002 | Geometric Segment  36.380359  53.079540  56.657936   \n",
      "TMA 27 R1 | 003 | Geometric Segment  46.617636  40.051771  46.617636   \n",
      "TMA 27 R1 | 004 | Geometric Segment  27.146452  62.930412  38.251819   \n",
      "TMA 27 R1 | 005 | Geometric Segment  33.031347  42.940752  53.951201   \n",
      "\n",
      "TargetName                                GPX7  ID  \n",
      "TMA 27 R1 | 001 | Geometric Segment  42.599952   0  \n",
      "TMA 27 R1 | 002 | Geometric Segment  41.151554   0  \n",
      "TMA 27 R1 | 003 | Geometric Segment  45.961049   0  \n",
      "TMA 27 R1 | 004 | Geometric Segment  48.123256   0  \n",
      "TMA 27 R1 | 005 | Geometric Segment  45.142842   0  \n",
      "\n",
      "[5 rows x 18671 columns]\n"
     ]
    }
   ],
   "source": [
    "df_transposed[\"ID\"] = ID_list\n",
    "print(df_transposed.head())"
   ],
   "metadata": {
    "collapsed": false,
    "pycharm": {
     "name": "#%%\n"
    }
   }
  },
  {
   "cell_type": "code",
   "execution_count": 694,
   "outputs": [
    {
     "data": {
      "text/plain": "float64    18670\nint64          1\ndtype: int64"
     },
     "execution_count": 694,
     "metadata": {},
     "output_type": "execute_result"
    }
   ],
   "source": [
    "df_transposed.dtypes.value_counts()"
   ],
   "metadata": {
    "collapsed": false,
    "pycharm": {
     "name": "#%%\n"
    }
   }
  },
  {
   "cell_type": "code",
   "execution_count": 695,
   "outputs": [],
   "source": [
    "df_transposed.to_csv(\"../../data/table_out/train_transposed_with_ID.csv\")\n",
    "df_transposed_no_ID = pd.read_csv('../../data/table_out/train_transposed.csv')"
   ],
   "metadata": {
    "collapsed": false,
    "pycharm": {
     "name": "#%%\n"
    }
   }
  },
  {
   "cell_type": "code",
   "execution_count": 696,
   "outputs": [],
   "source": [
    "mask = np.random.rand(len(df_transposed_no_ID)) <= 0.9\n",
    "train = df_transposed_no_ID[mask]\n",
    "test = df_transposed_no_ID[~mask]"
   ],
   "metadata": {
    "collapsed": false,
    "pycharm": {
     "name": "#%%\n"
    }
   }
  },
  {
   "cell_type": "code",
   "execution_count": 697,
   "outputs": [
    {
     "name": "stdout",
     "output_type": "stream",
     "text": [
      "No. of training examples: 244\n",
      "No. of testing examples: 28\n"
     ]
    }
   ],
   "source": [
    "test.to_csv('../../data/table_out/test_transposed_split.csv')\n",
    "train.to_csv('../../data/table_out/train_transposed_split.csv')\n",
    "print(f\"No. of training examples: {train.shape[0]}\")\n",
    "print(f\"No. of testing examples: {test.shape[0]}\")"
   ],
   "metadata": {
    "collapsed": false,
    "pycharm": {
     "name": "#%%\n"
    }
   }
  },
  {
   "cell_type": "code",
   "execution_count": 698,
   "outputs": [
    {
     "data": {
      "text/plain": "False"
     },
     "execution_count": 698,
     "metadata": {},
     "output_type": "execute_result"
    }
   ],
   "source": [
    "train_transposed_split = pd.read_csv('../../data/table_out/train_transposed_split.csv')\n",
    "train_transposed_split.isnull().values.any()\n",
    "test_transposed_split = pd.read_csv('../../data/table_out/test_transposed_split.csv')\n",
    "test_transposed_split.isnull().values.any()"
   ],
   "metadata": {
    "collapsed": false,
    "pycharm": {
     "name": "#%%\n"
    }
   }
  },
  {
   "cell_type": "code",
   "execution_count": 699,
   "outputs": [
    {
     "name": "stdout",
     "output_type": "stream",
     "text": [
      "   Unnamed: 0.1      ATP7B       ERN1      KRT74    SPECC1L      FOXJ1  \\\n",
      "0             0  49.983944  60.775932  31.239965  46.007948  45.439949   \n",
      "1             1  46.519148  49.501144  34.591161  47.115547  54.272339   \n",
      "2             2  51.213741  42.021531  26.920043  43.991290  55.153259   \n",
      "3             3  45.655397  50.591115  44.421467  33.316100  59.228623   \n",
      "4             4  60.557470  49.547021  39.637617  45.142842  67.163740   \n",
      "\n",
      "      OR4K15        PDC      MUC15   C1orf189  ...       EIF3F       MAT2A  \\\n",
      "0  58.503934  40.327955  24.991972  58.503934  ...  206.183768  163.015816   \n",
      "1  58.447134  40.555154  22.066775  48.904745  ...  209.336164  171.763007   \n",
      "2  51.870327  38.082012  25.606870  45.304463  ...  225.209141  212.733999   \n",
      "3  53.058975  50.591115  28.380382  49.357186  ...  220.873407  146.837628   \n",
      "4  56.153291  48.445976  27.526123  37.435527  ...  188.278680  140.933749   \n",
      "\n",
      "      C2CD4C       M1AP       IQCD      OR2H1    C1QTNF3      RAB42  \\\n",
      "0  29.535967  34.647961  36.919958  31.807964  44.303950  53.391940   \n",
      "1  33.994762  29.223567  33.994762  29.819966  36.380359  53.079540   \n",
      "2  27.576630  30.202975  31.516148  32.172734  46.617636  40.051771   \n",
      "3  22.210734  24.678593  29.614311  25.912523  27.146452  62.930412   \n",
      "4  39.637617  28.627168  33.031347  19.818808  33.031347  42.940752   \n",
      "\n",
      "       PTPRJ       GPX7  \n",
      "0  45.439949  42.599952  \n",
      "1  56.657936  41.151554  \n",
      "2  46.617636  45.961049  \n",
      "3  38.251819  48.123256  \n",
      "4  53.951201  45.142842  \n",
      "\n",
      "[5 rows x 18671 columns]\n",
      "   Unnamed: 0.1      ATP7B       ERN1      KRT74    SPECC1L      FOXJ1  \\\n",
      "0            25  67.801187  54.617623  41.434059  35.783960  45.200791   \n",
      "1            27  47.711946  83.495906  59.639933  23.855973  59.639933   \n",
      "2            31  42.940752  71.567919  38.169557  38.169557  52.483141   \n",
      "3            62  53.408895  76.908809  53.408895  43.795294  32.045337   \n",
      "4            70  81.533073  81.533073  62.508689  39.860613  54.355382   \n",
      "\n",
      "      OR4K15        PDC      MUC15   C1orf189  ...       EIF3F       MAT2A  \\\n",
      "0  50.850890  62.151088  41.434059  67.801187  ...  103.585147   79.101385   \n",
      "1  23.855973  11.927987  23.855973  59.639933  ...   47.711946   23.855973   \n",
      "2  57.254336  33.398362  33.398362  62.025530  ...  157.449423  262.415705   \n",
      "3  72.636097  38.454404  44.863472  71.567919  ...  126.044993  161.294863   \n",
      "4  71.567919  59.790920  36.236921  74.285689  ...   98.745610   92.404149   \n",
      "\n",
      "      C2CD4C       M1AP       IQCD      OR2H1    C1QTNF3      RAB42  \\\n",
      "0  58.384355  50.850890  47.084158  39.550692  39.550692  52.734256   \n",
      "1  59.639933  47.711946  23.855973  47.711946  23.855973  47.711946   \n",
      "2  33.398362  19.084779  38.169557  23.855973  42.940752  38.169557   \n",
      "3  43.795294  46.999828  42.727116  41.658938  53.408895  52.340717   \n",
      "4  46.202075  46.202075  49.825767  44.390229  47.107998  54.355382   \n",
      "\n",
      "       PTPRJ       GPX7  \n",
      "0  48.967524  39.550692  \n",
      "1  59.639933  71.567919  \n",
      "2  81.110309  42.940752  \n",
      "3  44.863472  51.272539  \n",
      "4  61.602766  38.954690  \n",
      "\n",
      "[5 rows x 18671 columns]\n"
     ]
    }
   ],
   "source": [
    "col = [1]\n",
    "train_transposed_split.drop(train_transposed_split.columns[col], axis=1, inplace=True)\n",
    "test_transposed_split.drop(test_transposed_split.columns[col], axis=1, inplace=True)\n",
    "\n",
    "train_transposed_split.to_csv('../../data/table_out/train_transposed_split_nostr.csv')\n",
    "test_transposed_split.to_csv('../../data/table_out/test_transposed_split_nostr.csv')\n",
    "print(train_transposed_split.head())\n",
    "print(test_transposed_split.head())"
   ],
   "metadata": {
    "collapsed": false,
    "pycharm": {
     "name": "#%%\n"
    }
   }
  },
  {
   "cell_type": "code",
   "execution_count": 700,
   "outputs": [
    {
     "ename": "KeyError",
     "evalue": "'ID'",
     "output_type": "error",
     "traceback": [
      "\u001B[1;31m---------------------------------------------------------------------------\u001B[0m",
      "\u001B[1;31mKeyError\u001B[0m                                  Traceback (most recent call last)",
      "File \u001B[1;32m~\\OneDrive\\Documents\\GitHub\\Glioblastoma_analysis\\venv\\lib\\site-packages\\pandas\\core\\indexes\\base.py:3621\u001B[0m, in \u001B[0;36mIndex.get_loc\u001B[1;34m(self, key, method, tolerance)\u001B[0m\n\u001B[0;32m   3620\u001B[0m \u001B[38;5;28;01mtry\u001B[39;00m:\n\u001B[1;32m-> 3621\u001B[0m     \u001B[38;5;28;01mreturn\u001B[39;00m \u001B[38;5;28;43mself\u001B[39;49m\u001B[38;5;241;43m.\u001B[39;49m\u001B[43m_engine\u001B[49m\u001B[38;5;241;43m.\u001B[39;49m\u001B[43mget_loc\u001B[49m\u001B[43m(\u001B[49m\u001B[43mcasted_key\u001B[49m\u001B[43m)\u001B[49m\n\u001B[0;32m   3622\u001B[0m \u001B[38;5;28;01mexcept\u001B[39;00m \u001B[38;5;167;01mKeyError\u001B[39;00m \u001B[38;5;28;01mas\u001B[39;00m err:\n",
      "File \u001B[1;32m~\\OneDrive\\Documents\\GitHub\\Glioblastoma_analysis\\venv\\lib\\site-packages\\pandas\\_libs\\index.pyx:136\u001B[0m, in \u001B[0;36mpandas._libs.index.IndexEngine.get_loc\u001B[1;34m()\u001B[0m\n",
      "File \u001B[1;32m~\\OneDrive\\Documents\\GitHub\\Glioblastoma_analysis\\venv\\lib\\site-packages\\pandas\\_libs\\index.pyx:163\u001B[0m, in \u001B[0;36mpandas._libs.index.IndexEngine.get_loc\u001B[1;34m()\u001B[0m\n",
      "File \u001B[1;32mpandas\\_libs\\hashtable_class_helper.pxi:5198\u001B[0m, in \u001B[0;36mpandas._libs.hashtable.PyObjectHashTable.get_item\u001B[1;34m()\u001B[0m\n",
      "File \u001B[1;32mpandas\\_libs\\hashtable_class_helper.pxi:5206\u001B[0m, in \u001B[0;36mpandas._libs.hashtable.PyObjectHashTable.get_item\u001B[1;34m()\u001B[0m\n",
      "\u001B[1;31mKeyError\u001B[0m: 'ID'",
      "\nThe above exception was the direct cause of the following exception:\n",
      "\u001B[1;31mKeyError\u001B[0m                                  Traceback (most recent call last)",
      "Input \u001B[1;32mIn [700]\u001B[0m, in \u001B[0;36m<cell line: 5>\u001B[1;34m()\u001B[0m\n\u001B[0;32m      3\u001B[0m test_transposed_split_nostr\u001B[38;5;241m.\u001B[39mdrop(test_transposed_split_nostr\u001B[38;5;241m.\u001B[39mcolumns[col], axis\u001B[38;5;241m=\u001B[39m\u001B[38;5;241m1\u001B[39m, inplace\u001B[38;5;241m=\u001B[39m\u001B[38;5;28;01mTrue\u001B[39;00m)\n\u001B[0;32m      4\u001B[0m X \u001B[38;5;241m=\u001B[39m train_transposed_split_nostr\u001B[38;5;241m.\u001B[39miloc[:,:\u001B[38;5;241m-\u001B[39m\u001B[38;5;241m1\u001B[39m]\n\u001B[1;32m----> 5\u001B[0m y \u001B[38;5;241m=\u001B[39m \u001B[43mtrain_transposed_split_nostr\u001B[49m\u001B[43m[\u001B[49m\u001B[38;5;124;43m'\u001B[39;49m\u001B[38;5;124;43mID\u001B[39;49m\u001B[38;5;124;43m'\u001B[39;49m\u001B[43m]\u001B[49m\n",
      "File \u001B[1;32m~\\OneDrive\\Documents\\GitHub\\Glioblastoma_analysis\\venv\\lib\\site-packages\\pandas\\core\\frame.py:3505\u001B[0m, in \u001B[0;36mDataFrame.__getitem__\u001B[1;34m(self, key)\u001B[0m\n\u001B[0;32m   3503\u001B[0m \u001B[38;5;28;01mif\u001B[39;00m \u001B[38;5;28mself\u001B[39m\u001B[38;5;241m.\u001B[39mcolumns\u001B[38;5;241m.\u001B[39mnlevels \u001B[38;5;241m>\u001B[39m \u001B[38;5;241m1\u001B[39m:\n\u001B[0;32m   3504\u001B[0m     \u001B[38;5;28;01mreturn\u001B[39;00m \u001B[38;5;28mself\u001B[39m\u001B[38;5;241m.\u001B[39m_getitem_multilevel(key)\n\u001B[1;32m-> 3505\u001B[0m indexer \u001B[38;5;241m=\u001B[39m \u001B[38;5;28;43mself\u001B[39;49m\u001B[38;5;241;43m.\u001B[39;49m\u001B[43mcolumns\u001B[49m\u001B[38;5;241;43m.\u001B[39;49m\u001B[43mget_loc\u001B[49m\u001B[43m(\u001B[49m\u001B[43mkey\u001B[49m\u001B[43m)\u001B[49m\n\u001B[0;32m   3506\u001B[0m \u001B[38;5;28;01mif\u001B[39;00m is_integer(indexer):\n\u001B[0;32m   3507\u001B[0m     indexer \u001B[38;5;241m=\u001B[39m [indexer]\n",
      "File \u001B[1;32m~\\OneDrive\\Documents\\GitHub\\Glioblastoma_analysis\\venv\\lib\\site-packages\\pandas\\core\\indexes\\base.py:3623\u001B[0m, in \u001B[0;36mIndex.get_loc\u001B[1;34m(self, key, method, tolerance)\u001B[0m\n\u001B[0;32m   3621\u001B[0m     \u001B[38;5;28;01mreturn\u001B[39;00m \u001B[38;5;28mself\u001B[39m\u001B[38;5;241m.\u001B[39m_engine\u001B[38;5;241m.\u001B[39mget_loc(casted_key)\n\u001B[0;32m   3622\u001B[0m \u001B[38;5;28;01mexcept\u001B[39;00m \u001B[38;5;167;01mKeyError\u001B[39;00m \u001B[38;5;28;01mas\u001B[39;00m err:\n\u001B[1;32m-> 3623\u001B[0m     \u001B[38;5;28;01mraise\u001B[39;00m \u001B[38;5;167;01mKeyError\u001B[39;00m(key) \u001B[38;5;28;01mfrom\u001B[39;00m \u001B[38;5;21;01merr\u001B[39;00m\n\u001B[0;32m   3624\u001B[0m \u001B[38;5;28;01mexcept\u001B[39;00m \u001B[38;5;167;01mTypeError\u001B[39;00m:\n\u001B[0;32m   3625\u001B[0m     \u001B[38;5;66;03m# If we have a listlike key, _check_indexing_error will raise\u001B[39;00m\n\u001B[0;32m   3626\u001B[0m     \u001B[38;5;66;03m#  InvalidIndexError. Otherwise we fall through and re-raise\u001B[39;00m\n\u001B[0;32m   3627\u001B[0m     \u001B[38;5;66;03m#  the TypeError.\u001B[39;00m\n\u001B[0;32m   3628\u001B[0m     \u001B[38;5;28mself\u001B[39m\u001B[38;5;241m.\u001B[39m_check_indexing_error(key)\n",
      "\u001B[1;31mKeyError\u001B[0m: 'ID'"
     ]
    }
   ],
   "source": [
    "train_transposed_split_nostr = pd.read_csv('../../data/table_out/train_transposed_split_nostr.csv')\n",
    "test_transposed_split_nostr = pd.read_csv('../../data/table_out/test_transposed_split_nostr.csv')\n",
    "test_transposed_split_nostr.drop(test_transposed_split_nostr.columns[col], axis=1, inplace=True)\n",
    "X = train_transposed_split_nostr.iloc[:,:-1]\n",
    "y = train_transposed_split_nostr['ID']"
   ],
   "metadata": {
    "collapsed": false,
    "pycharm": {
     "name": "#%%\n"
    }
   }
  },
  {
   "cell_type": "code",
   "execution_count": null,
   "outputs": [],
   "source": [
    "y.value_counts().to_frame().T"
   ],
   "metadata": {
    "collapsed": false,
    "pycharm": {
     "name": "#%%\n"
    }
   }
  },
  {
   "cell_type": "code",
   "execution_count": null,
   "outputs": [],
   "source": [
    "X_resampled, y_resampled = SMOTE().fit_resample(X, y)"
   ],
   "metadata": {
    "collapsed": false,
    "pycharm": {
     "name": "#%%\n"
    }
   }
  },
  {
   "cell_type": "code",
   "execution_count": null,
   "outputs": [],
   "source": [
    "y_resampled.value_counts().to_frame().T"
   ],
   "metadata": {
    "collapsed": false,
    "pycharm": {
     "name": "#%%\n"
    }
   }
  },
  {
   "cell_type": "code",
   "execution_count": null,
   "outputs": [],
   "source": [
    "X_train, X_val, y_train, y_val = train_test_split(X_resampled, y_resampled,\n",
    "                                                  train_size=0.5,\n",
    "                                                  test_size=0.2,\n",
    "                                                  random_state=42,\n",
    "                                                  shuffle=True)"
   ],
   "metadata": {
    "collapsed": false,
    "pycharm": {
     "name": "#%%\n"
    }
   }
  },
  {
   "cell_type": "code",
   "execution_count": null,
   "outputs": [],
   "source": [
    "scaler  = MinMaxScaler()\n",
    "X_train = scaler.fit_transform(X_train)\n",
    "X_val   = scaler.transform(X_val)\n",
    "test    = scaler.transform(test_transposed_split_nostr)"
   ],
   "metadata": {
    "collapsed": false,
    "pycharm": {
     "name": "#%%\n"
    }
   }
  },
  {
   "cell_type": "code",
   "execution_count": null,
   "outputs": [],
   "source": [
    "model = keras.Sequential(\n",
    "    [\n",
    "        keras.layers.Dense(units=9, activation=\"relu\", input_shape=(X_train.shape[-1],) ),\n",
    "        # randomly delete 30% of the input units below\n",
    "        keras.layers.Dropout(0.3),\n",
    "        keras.layers.Dense(units=9, activation=\"relu\"),\n",
    "        # the output layer, with a single neuron\n",
    "        keras.layers.Dense(units=1, activation=\"sigmoid\"),\n",
    "    ]\n",
    ")\n",
    "\n",
    "# save the initial weights for later\n",
    "initial_weights = model.get_weights()\n"
   ],
   "metadata": {
    "collapsed": false,
    "pycharm": {
     "name": "#%%\n"
    }
   }
  },
  {
   "cell_type": "code",
   "execution_count": null,
   "outputs": [],
   "source": [
    "model.summary()"
   ],
   "metadata": {
    "collapsed": false,
    "pycharm": {
     "name": "#%%\n"
    }
   }
  },
  {
   "cell_type": "code",
   "execution_count": null,
   "outputs": [],
   "source": [
    "learning_rate = 0.001\n",
    "\n",
    "model.compile(optimizer=keras.optimizers.Adam,\n",
    "              loss=\"binary_crossentropy\",\n",
    "              metrics=keras.metrics.AUC()\n",
    "             )"
   ],
   "metadata": {
    "collapsed": false,
    "pycharm": {
     "name": "#%%\n"
    }
   }
  },
  {
   "cell_type": "code",
   "execution_count": null,
   "outputs": [],
   "source": [
    "model.set_weights(initial_weights)"
   ],
   "metadata": {
    "collapsed": false,
    "pycharm": {
     "name": "#%%\n"
    }
   }
  },
  {
   "cell_type": "code",
   "execution_count": null,
   "outputs": [],
   "source": [
    "history = model.fit(X_train, y_train,\n",
    "          epochs=500,\n",
    "          batch_size=1000,\n",
    "          validation_data=(X_val, y_val),\n",
    "          verbose=3,\n",
    "          # add in our early stopping callback\n",
    "          # callbacks=[early_stopping]\n",
    "        )"
   ],
   "metadata": {
    "collapsed": false,
    "pycharm": {
     "name": "#%%\n"
    }
   }
  },
  {
   "cell_type": "code",
   "execution_count": null,
   "outputs": [],
   "source": [
    "history.history\n",
    "print(history.history.keys())"
   ],
   "metadata": {
    "collapsed": false,
    "pycharm": {
     "name": "#%%\n"
    }
   }
  },
  {
   "cell_type": "code",
   "execution_count": null,
   "outputs": [],
   "source": [
    "plt.plot(history.history['loss'], label='train loss')\n",
    "plt.plot(history.history['val_loss'], label='val loss')\n",
    "plt.legend()\n",
    "# plt.savefig('vgg-loss-rps-1.png')\n",
    "plt.show()"
   ],
   "metadata": {
    "collapsed": false,
    "pycharm": {
     "name": "#%%\n"
    }
   }
  },
  {
   "cell_type": "code",
   "execution_count": null,
   "outputs": [],
   "source": [
    "plt.plot(history.history['auc_6'], label='auc_6')\n",
    "plt.plot(history.history['val_auc_6'], label='val_auc_6')\n",
    "plt.legend()\n",
    "plt.show()"
   ],
   "metadata": {
    "collapsed": false,
    "pycharm": {
     "name": "#%%\n"
    }
   }
  },
  {
   "cell_type": "code",
   "execution_count": null,
   "outputs": [],
   "source": [
    "# test_transposed_split_nostr.drop(test_transposed_split_nostr.columns\n",
    "#                                             [len(test_transposed_split_nostr.columns)-1],\n",
    "#                                             axis=1, inplace=True)\n",
    "#\n",
    "\n",
    "model.predict(test_transposed_split)\n",
    "model.evaluate(test_transposed_split)"
   ],
   "metadata": {
    "collapsed": false,
    "pycharm": {
     "name": "#%%\n"
    }
   }
  },
  {
   "cell_type": "code",
   "execution_count": null,
   "outputs": [],
   "source": [],
   "metadata": {
    "collapsed": false,
    "pycharm": {
     "name": "#%%\n"
    }
   }
  }
 ],
 "metadata": {
  "kernelspec": {
   "display_name": "Python 3",
   "language": "python",
   "name": "python3"
  },
  "language_info": {
   "codemirror_mode": {
    "name": "ipython",
    "version": 2
   },
   "file_extension": ".py",
   "mimetype": "text/x-python",
   "name": "python",
   "nbconvert_exporter": "python",
   "pygments_lexer": "ipython2",
   "version": "2.7.6"
  }
 },
 "nbformat": 4,
 "nbformat_minor": 0
}