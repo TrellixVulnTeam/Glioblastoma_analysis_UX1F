{
 "cells": [
  {
   "cell_type": "code",
   "execution_count": 326,
   "metadata": {
    "collapsed": true,
    "pycharm": {
     "name": "#%%\n"
    }
   },
   "outputs": [],
   "source": [
    "import csv\n",
    "\n",
    "import pandas as pd\n",
    "import numpy as np\n",
    "pd.set_option('display.max_rows', None)\n",
    "import numpy  as np\n",
    "from tensorflow import keras\n",
    "import matplotlib.pyplot as plt\n",
    "from sklearn.preprocessing import MinMaxScaler\n",
    "from sklearn.model_selection import train_test_split\n",
    "from imblearn.over_sampling import SMOTE"
   ]
  },
  {
   "cell_type": "code",
   "execution_count": 327,
   "outputs": [
    {
     "name": "stdout",
     "output_type": "stream",
     "text": [
      "                                Sample  ID\n",
      "0  TMA 27 R1 | 001 | Geometric Segment   0\n",
      "1  TMA 27 R1 | 002 | Geometric Segment   0\n",
      "2  TMA 27 R1 | 003 | Geometric Segment   0\n",
      "3  TMA 27 R1 | 004 | Geometric Segment   0\n",
      "4  TMA 27 R1 | 005 | Geometric Segment   0\n"
     ]
    }
   ],
   "source": [
    "# Read in the csv data using pandas\n",
    "df  = pd.read_csv('../../data/tables/X_trainGBM.csv', index_col=0)\n",
    "label = pd.read_csv('../../data/tables/Y_trainGBM.csv')\n",
    "print(label.head())"
   ],
   "metadata": {
    "collapsed": false,
    "pycharm": {
     "name": "#%%\n"
    }
   }
  },
  {
   "cell_type": "code",
   "execution_count": 328,
   "outputs": [],
   "source": [
    "import os, shutil\n",
    "folder = '../../data/table_out/'\n",
    "for filename in os.listdir(folder):\n",
    "    file_path = os.path.join(folder, filename)\n",
    "    try:\n",
    "        if os.path.isfile(file_path) or os.path.islink(file_path):\n",
    "            os.unlink(file_path)\n",
    "        elif os.path.isdir(file_path):\n",
    "            shutil.rmtree(file_path)\n",
    "    except Exception as e:\n",
    "        print('Failed to delete %s. Reason: %s' % (file_path, e))"
   ],
   "metadata": {
    "collapsed": false,
    "pycharm": {
     "name": "#%%\n"
    }
   }
  },
  {
   "cell_type": "code",
   "execution_count": 329,
   "outputs": [
    {
     "name": "stdout",
     "output_type": "stream",
     "text": [
      "            TMA 27 R1 | 001 | Geometric Segment  \\\n",
      "TargetName                                        \n",
      "ATP7B                                 49.983944   \n",
      "ERN1                                  60.775932   \n",
      "KRT74                                 31.239965   \n",
      "SPECC1L                               46.007948   \n",
      "FOXJ1                                 45.439949   \n",
      "\n",
      "            TMA 27 R1 | 002 | Geometric Segment  \\\n",
      "TargetName                                        \n",
      "ATP7B                                 46.519148   \n",
      "ERN1                                  49.501144   \n",
      "KRT74                                 34.591161   \n",
      "SPECC1L                               47.115547   \n",
      "FOXJ1                                 54.272339   \n",
      "\n",
      "            TMA 27 R1 | 003 | Geometric Segment  \\\n",
      "TargetName                                        \n",
      "ATP7B                                 51.213741   \n",
      "ERN1                                  42.021531   \n",
      "KRT74                                 26.920043   \n",
      "SPECC1L                               43.991290   \n",
      "FOXJ1                                 55.153259   \n",
      "\n",
      "            TMA 27 R1 | 004 | Geometric Segment  \\\n",
      "TargetName                                        \n",
      "ATP7B                                 45.655397   \n",
      "ERN1                                  50.591115   \n",
      "KRT74                                 44.421467   \n",
      "SPECC1L                               33.316100   \n",
      "FOXJ1                                 59.228623   \n",
      "\n",
      "            TMA 27 R1 | 005 | Geometric Segment  \\\n",
      "TargetName                                        \n",
      "ATP7B                                 60.557470   \n",
      "ERN1                                  49.547021   \n",
      "KRT74                                 39.637617   \n",
      "SPECC1L                               45.142842   \n",
      "FOXJ1                                 67.163740   \n",
      "\n",
      "            TMA 27 R1 | 006 | Geometric Segment  \\\n",
      "TargetName                                        \n",
      "ATP7B                                 49.202945   \n",
      "ERN1                                  53.675940   \n",
      "KRT74                                 32.801963   \n",
      "SPECC1L                               38.765956   \n",
      "FOXJ1                                 38.765956   \n",
      "\n",
      "            TMA 27 R1 | 007 | Geometric Segment  \\\n",
      "TargetName                                        \n",
      "ATP7B                                 71.567919   \n",
      "ERN1                                  51.119942   \n",
      "KRT74                                 71.567919   \n",
      "SPECC1L                               30.671965   \n",
      "FOXJ1                                 40.895954   \n",
      "\n",
      "            TMA 27 R1 | 008 | Geometric Segment  \\\n",
      "TargetName                                        \n",
      "ATP7B                                 63.148164   \n",
      "ERN1                                  75.777797   \n",
      "KRT74                                 54.728409   \n",
      "SPECC1L                               42.098776   \n",
      "FOXJ1                                 25.259266   \n",
      "\n",
      "            TMA 27 R1 | 009 | Geometric Segment  \\\n",
      "TargetName                                        \n",
      "ATP7B                                 39.246924   \n",
      "ERN1                                  41.555566   \n",
      "KRT74                                 39.246924   \n",
      "SPECC1L                               32.320996   \n",
      "FOXJ1                                 50.790136   \n",
      "\n",
      "            TMA 27 R1 | 010 | Geometric Segment  ...  \\\n",
      "TargetName                                       ...   \n",
      "ATP7B                                 43.167951  ...   \n",
      "ERN1                                  65.887926  ...   \n",
      "KRT74                                 45.439949  ...   \n",
      "SPECC1L                               34.079962  ...   \n",
      "FOXJ1                                 43.167951  ...   \n",
      "\n",
      "            TMA 27 R4 (1) | 047 | Geometric Segment  \\\n",
      "TargetName                                            \n",
      "ATP7B                                     59.639933   \n",
      "ERN1                                      67.393124   \n",
      "KRT74                                     50.097544   \n",
      "SPECC1L                                   48.904745   \n",
      "FOXJ1                                     50.693943   \n",
      "\n",
      "            TMA 27 R4 (1) | 048 | Geometric Segment  \\\n",
      "TargetName                                            \n",
      "ATP7B                                     65.177927   \n",
      "ERN1                                      85.625904   \n",
      "KRT74                                     58.787934   \n",
      "SPECC1L                                   56.870936   \n",
      "FOXJ1                                     53.036940   \n",
      "\n",
      "            TMA 27 R4 (1) | 049 | Geometric Segment  \\\n",
      "TargetName                                            \n",
      "ATP7B                                     51.553162   \n",
      "ERN1                                      61.257287   \n",
      "KRT74                                     48.520623   \n",
      "SPECC1L                                   53.979193   \n",
      "FOXJ1                                     57.011732   \n",
      "\n",
      "            TMA 27 R4 (1) | 050 | Geometric Segment  \\\n",
      "TargetName                                            \n",
      "ATP7B                                     53.868326   \n",
      "ERN1                                      56.176969   \n",
      "KRT74                                     40.016471   \n",
      "SPECC1L                                   44.633756   \n",
      "FOXJ1                                     53.098779   \n",
      "\n",
      "            TMA 27 R4 (1) | 051 | Geometric Segment  \\\n",
      "TargetName                                            \n",
      "ATP7B                                     47.937003   \n",
      "ERN1                                      51.312848   \n",
      "KRT74                                     52.663186   \n",
      "SPECC1L                                   46.586665   \n",
      "FOXJ1                                     49.287341   \n",
      "\n",
      "            TMA 27 R4 (1) | 052 | Geometric Segment  \\\n",
      "TargetName                                            \n",
      "ATP7B                                     56.538656   \n",
      "ERN1                                      69.420882   \n",
      "KRT74                                     47.234827   \n",
      "SPECC1L                                   51.528902   \n",
      "FOXJ1                                     52.960260   \n",
      "\n",
      "            TMA 27 R4 (1) | 053 | Geometric Segment  \\\n",
      "TargetName                                            \n",
      "ATP7B                                     63.872444   \n",
      "ERN1                                      59.255159   \n",
      "KRT74                                     56.176969   \n",
      "SPECC1L                                   54.637874   \n",
      "FOXJ1                                     44.633756   \n",
      "\n",
      "            TMA 27 R4 (1) | 054 | Geometric Segment  \\\n",
      "TargetName                                            \n",
      "ATP7B                                     55.789166   \n",
      "ERN1                                      62.551489   \n",
      "KRT74                                     48.463316   \n",
      "SPECC1L                                   53.535058   \n",
      "FOXJ1                                     56.352692   \n",
      "\n",
      "            TMA 27 R4 (1) | 055 | Geometric Segment  \\\n",
      "TargetName                                            \n",
      "ATP7B                                     55.107298   \n",
      "ERN1                                      52.960260   \n",
      "KRT74                                     30.774205   \n",
      "SPECC1L                                   52.960260   \n",
      "FOXJ1                                     20.754697   \n",
      "\n",
      "            TMA 27 R4 (1) | 056 | Geometric Segment  \n",
      "TargetName                                           \n",
      "ATP7B                                     46.889327  \n",
      "ERN1                                      48.123256  \n",
      "KRT74                                     40.719678  \n",
      "SPECC1L                                   62.313447  \n",
      "FOXJ1                                     27.763417  \n",
      "\n",
      "[5 rows x 272 columns]\n"
     ]
    }
   ],
   "source": [
    "#remove last row of weird formatting from file to prevent NaNs\n",
    "last_row = df.index[-1]\n",
    "df_nonull = df.drop(last_row)\n",
    "print(df_nonull.head())"
   ],
   "metadata": {
    "collapsed": false,
    "pycharm": {
     "name": "#%%\n"
    }
   }
  },
  {
   "cell_type": "code",
   "execution_count": 330,
   "outputs": [
    {
     "name": "stdout",
     "output_type": "stream",
     "text": [
      "TargetName                               ATP7B       ERN1      KRT74  \\\n",
      "TMA 27 R1 | 001 | Geometric Segment  49.983944  60.775932  31.239965   \n",
      "TMA 27 R1 | 002 | Geometric Segment  46.519148  49.501144  34.591161   \n",
      "TMA 27 R1 | 003 | Geometric Segment  51.213741  42.021531  26.920043   \n",
      "TMA 27 R1 | 004 | Geometric Segment  45.655397  50.591115  44.421467   \n",
      "TMA 27 R1 | 005 | Geometric Segment  60.557470  49.547021  39.637617   \n",
      "\n",
      "TargetName                             SPECC1L      FOXJ1     OR4K15  \\\n",
      "TMA 27 R1 | 001 | Geometric Segment  46.007948  45.439949  58.503934   \n",
      "TMA 27 R1 | 002 | Geometric Segment  47.115547  54.272339  58.447134   \n",
      "TMA 27 R1 | 003 | Geometric Segment  43.991290  55.153259  51.870327   \n",
      "TMA 27 R1 | 004 | Geometric Segment  33.316100  59.228623  53.058975   \n",
      "TMA 27 R1 | 005 | Geometric Segment  45.142842  67.163740  56.153291   \n",
      "\n",
      "TargetName                                 PDC      MUC15   C1orf189  \\\n",
      "TMA 27 R1 | 001 | Geometric Segment  40.327955  24.991972  58.503934   \n",
      "TMA 27 R1 | 002 | Geometric Segment  40.555154  22.066775  48.904745   \n",
      "TMA 27 R1 | 003 | Geometric Segment  38.082012  25.606870  45.304463   \n",
      "TMA 27 R1 | 004 | Geometric Segment  50.591115  28.380382  49.357186   \n",
      "TMA 27 R1 | 005 | Geometric Segment  48.445976  27.526123  37.435527   \n",
      "\n",
      "TargetName                                 ZXDC  ...       EIF3F       MAT2A  \\\n",
      "TMA 27 R1 | 001 | Geometric Segment   98.263889  ...  206.183768  163.015816   \n",
      "TMA 27 R1 | 002 | Geometric Segment   99.002289  ...  209.336164  171.763007   \n",
      "TMA 27 R1 | 003 | Geometric Segment  102.427481  ...  225.209141  212.733999   \n",
      "TMA 27 R1 | 004 | Geometric Segment   80.205427  ...  220.873407  146.837628   \n",
      "TMA 27 R1 | 005 | Geometric Segment   89.184638  ...  188.278680  140.933749   \n",
      "\n",
      "TargetName                              C2CD4C       M1AP       IQCD  \\\n",
      "TMA 27 R1 | 001 | Geometric Segment  29.535967  34.647961  36.919958   \n",
      "TMA 27 R1 | 002 | Geometric Segment  33.994762  29.223567  33.994762   \n",
      "TMA 27 R1 | 003 | Geometric Segment  27.576630  30.202975  31.516148   \n",
      "TMA 27 R1 | 004 | Geometric Segment  22.210734  24.678593  29.614311   \n",
      "TMA 27 R1 | 005 | Geometric Segment  39.637617  28.627168  33.031347   \n",
      "\n",
      "TargetName                               OR2H1    C1QTNF3      RAB42  \\\n",
      "TMA 27 R1 | 001 | Geometric Segment  31.807964  44.303950  53.391940   \n",
      "TMA 27 R1 | 002 | Geometric Segment  29.819966  36.380359  53.079540   \n",
      "TMA 27 R1 | 003 | Geometric Segment  32.172734  46.617636  40.051771   \n",
      "TMA 27 R1 | 004 | Geometric Segment  25.912523  27.146452  62.930412   \n",
      "TMA 27 R1 | 005 | Geometric Segment  19.818808  33.031347  42.940752   \n",
      "\n",
      "TargetName                               PTPRJ       GPX7  \n",
      "TMA 27 R1 | 001 | Geometric Segment  45.439949  42.599952  \n",
      "TMA 27 R1 | 002 | Geometric Segment  56.657936  41.151554  \n",
      "TMA 27 R1 | 003 | Geometric Segment  46.617636  45.961049  \n",
      "TMA 27 R1 | 004 | Geometric Segment  38.251819  48.123256  \n",
      "TMA 27 R1 | 005 | Geometric Segment  53.951201  45.142842  \n",
      "\n",
      "[5 rows x 18670 columns]\n"
     ]
    }
   ],
   "source": [
    "#transpose to make concatting easier with the ID's\n",
    "df_transposed = df_nonull.transpose()\n",
    "df_transposed.to_csv('../../data/tables/X_trainGBM_transposed.csv')\n",
    "print(df_transposed.head())"
   ],
   "metadata": {
    "collapsed": false,
    "pycharm": {
     "name": "#%%\n"
    }
   }
  },
  {
   "cell_type": "code",
   "execution_count": 331,
   "outputs": [],
   "source": [
    "#split the transposed DS into 90/10 split for training/testing\n",
    "mask = np.random.rand(len(df_transposed)) <= 0.9\n",
    "train = df_transposed[mask]\n",
    "label_train = label[mask]\n",
    "test = df_transposed[~mask]"
   ],
   "metadata": {
    "collapsed": false,
    "pycharm": {
     "name": "#%%\n"
    }
   }
  },
  {
   "cell_type": "code",
   "execution_count": 332,
   "outputs": [
    {
     "name": "stdout",
     "output_type": "stream",
     "text": [
      "No. of training examples: 242\n",
      "No. of testing examples: 30\n"
     ]
    }
   ],
   "source": [
    "#check how many in each cohort\n",
    "test.to_csv('../../data/table_out/test.csv')\n",
    "train.to_csv('../../data/table_out/train.csv')\n",
    "print(f\"No. of training examples: {train.shape[0]}\")\n",
    "print(f\"No. of testing examples: {test.shape[0]}\")\n",
    "test_number = test.shape[0]"
   ],
   "metadata": {
    "collapsed": false,
    "pycharm": {
     "name": "#%%\n"
    }
   }
  },
  {
   "cell_type": "code",
   "execution_count": 333,
   "outputs": [
    {
     "data": {
      "text/plain": "False"
     },
     "execution_count": 333,
     "metadata": {},
     "output_type": "execute_result"
    }
   ],
   "source": [
    "#check to make sure no NaNs\n",
    "train_transposed = pd.read_csv('../../data/table_out/train.csv')\n",
    "train_transposed.isnull().values.any()"
   ],
   "metadata": {
    "collapsed": false,
    "pycharm": {
     "name": "#%%\n"
    }
   }
  },
  {
   "cell_type": "code",
   "execution_count": 334,
   "outputs": [
    {
     "name": "stdout",
     "output_type": "stream",
     "text": [
      "[0, 0, 0, 0, 0, 0, 0, 0, 0, 0, 0, 0, 1, 0, 0, 0, 0, 0, 1, 1, 1, 1, 1, 1, 1, 1, 0, 0, 0, 0, 0, 0, 0, 1, 1, 1, 1, 1, 0, 0, 0, 0, 0, 0, 1, 1, 1, 1, 1, 1, 1, 1, 1, 1, 0, 0, 1, 1, 1, 0, 0, 0, 0, 0, 1, 1, 1, 1, 1, 1, 0, 0, 0, 0, 1, 1, 1, 1, 1, 1, 0, 1, 1, 1, 1, 1, 1, 1, 1, 0, 0, 0, 1, 1, 1, 0, 0, 1, 1, 1, 1, 1, 1, 1, 1, 1, 1, 1, 1, 1, 1, 1, 1, 1, 1, 1, 1, 1, 0, 0, 1, 1, 1, 1, 1, 0, 0, 0, 1, 1, 1, 1, 1, 1, 1, 1, 1, 1, 1, 1, 1, 1, 1, 1, 1, 1, 1, 1, 1, 1, 1, 1, 1, 1, 1, 1, 1, 1, 1, 1, 1, 1, 1, 0, 0, 1, 1, 1, 1, 1, 1, 0, 0, 0, 1, 1, 1, 0, 0, 0, 1, 1, 1, 1, 1, 0, 1, 1, 1, 0, 0, 0, 1, 1, 1, 0, 0, 0, 0, 0, 0, 0, 0, 0, 0, 0, 0, 0, 0, 0, 0, 0, 1, 1, 0, 0, 0, 0, 0, 1, 1, 0, 0, 1, 1, 1, 0, 0, 0, 1, 1, 1, 1, 1, 1, 1, 1, 1, 1, 1, 1, 1]\n",
      "length of ID list is: 242\n"
     ]
    }
   ],
   "source": [
    "ID_list = label_train['ID'].tolist()\n",
    "print(ID_list)\n",
    "print(\"length of ID list is: {}\".format(len(ID_list)))"
   ],
   "metadata": {
    "collapsed": false,
    "pycharm": {
     "name": "#%%\n"
    }
   }
  },
  {
   "cell_type": "code",
   "execution_count": 335,
   "outputs": [
    {
     "name": "stdout",
     "output_type": "stream",
     "text": [
      "                            Unnamed: 0      ATP7B       ERN1      KRT74  \\\n",
      "0  TMA 27 R1 | 001 | Geometric Segment  49.983944  60.775932  31.239965   \n",
      "1  TMA 27 R1 | 002 | Geometric Segment  46.519148  49.501144  34.591161   \n",
      "2  TMA 27 R1 | 003 | Geometric Segment  51.213741  42.021531  26.920043   \n",
      "3  TMA 27 R1 | 004 | Geometric Segment  45.655397  50.591115  44.421467   \n",
      "4  TMA 27 R1 | 006 | Geometric Segment  49.202945  53.675940  32.801963   \n",
      "\n",
      "     SPECC1L      FOXJ1     OR4K15        PDC      MUC15   C1orf189  ...  \\\n",
      "0  46.007948  45.439949  58.503934  40.327955  24.991972  58.503934  ...   \n",
      "1  47.115547  54.272339  58.447134  40.555154  22.066775  48.904745  ...   \n",
      "2  43.991290  55.153259  51.870327  38.082012  25.606870  45.304463  ...   \n",
      "3  33.316100  59.228623  53.058975  50.591115  28.380382  49.357186  ...   \n",
      "4  38.765956  38.765956  38.765956  34.292961  31.310965  53.675940  ...   \n",
      "\n",
      "        MAT2A     C2CD4C       M1AP       IQCD      OR2H1    C1QTNF3  \\\n",
      "0  163.015816  29.535967  34.647961  36.919958  31.807964  44.303950   \n",
      "1  171.763007  33.994762  29.223567  33.994762  29.819966  36.380359   \n",
      "2  212.733999  27.576630  30.202975  31.516148  32.172734  46.617636   \n",
      "3  146.837628  22.210734  24.678593  29.614311  25.912523  27.146452   \n",
      "4  162.518817  35.783960  31.310965  35.783960  31.310965  41.747953   \n",
      "\n",
      "       RAB42      PTPRJ       GPX7  ID  \n",
      "0  53.391940  45.439949  42.599952   0  \n",
      "1  53.079540  56.657936  41.151554   0  \n",
      "2  40.051771  46.617636  45.961049   0  \n",
      "3  62.930412  38.251819  48.123256   0  \n",
      "4  47.711946  53.675940  44.729950   0  \n",
      "\n",
      "[5 rows x 18672 columns]\n"
     ]
    }
   ],
   "source": [
    "train_transposed[\"ID\"] = ID_list\n",
    "print(train_transposed.head())"
   ],
   "metadata": {
    "collapsed": false,
    "pycharm": {
     "name": "#%%\n"
    }
   }
  },
  {
   "cell_type": "code",
   "execution_count": 336,
   "outputs": [
    {
     "data": {
      "text/plain": "False"
     },
     "execution_count": 336,
     "metadata": {},
     "output_type": "execute_result"
    }
   ],
   "source": [
    "test_transposed = pd.read_csv('../../data/table_out/test.csv')\n",
    "test_transposed.isnull().values.any()"
   ],
   "metadata": {
    "collapsed": false,
    "pycharm": {
     "name": "#%%\n"
    }
   }
  },
  {
   "cell_type": "code",
   "execution_count": 337,
   "outputs": [
    {
     "name": "stdout",
     "output_type": "stream",
     "text": [
      "       ATP7B       ERN1      KRT74    SPECC1L      FOXJ1     OR4K15  \\\n",
      "0  49.983944  60.775932  31.239965  46.007948  45.439949  58.503934   \n",
      "1  46.519148  49.501144  34.591161  47.115547  54.272339  58.447134   \n",
      "2  51.213741  42.021531  26.920043  43.991290  55.153259  51.870327   \n",
      "3  45.655397  50.591115  44.421467  33.316100  59.228623  53.058975   \n",
      "4  49.202945  53.675940  32.801963  38.765956  38.765956  38.765956   \n",
      "\n",
      "         PDC      MUC15   C1orf189        ZXDC  ...       MAT2A     C2CD4C  \\\n",
      "0  40.327955  24.991972  58.503934   98.263889  ...  163.015816  29.535967   \n",
      "1  40.555154  22.066775  48.904745   99.002289  ...  171.763007  33.994762   \n",
      "2  38.082012  25.606870  45.304463  102.427481  ...  212.733999  27.576630   \n",
      "3  50.591115  28.380382  49.357186   80.205427  ...  146.837628  22.210734   \n",
      "4  34.292961  31.310965  53.675940   76.040914  ...  162.518817  35.783960   \n",
      "\n",
      "        M1AP       IQCD      OR2H1    C1QTNF3      RAB42      PTPRJ  \\\n",
      "0  34.647961  36.919958  31.807964  44.303950  53.391940  45.439949   \n",
      "1  29.223567  33.994762  29.819966  36.380359  53.079540  56.657936   \n",
      "2  30.202975  31.516148  32.172734  46.617636  40.051771  46.617636   \n",
      "3  24.678593  29.614311  25.912523  27.146452  62.930412  38.251819   \n",
      "4  31.310965  35.783960  31.310965  41.747953  47.711946  53.675940   \n",
      "\n",
      "        GPX7  ID  \n",
      "0  42.599952   0  \n",
      "1  41.151554   0  \n",
      "2  45.961049   0  \n",
      "3  48.123256   0  \n",
      "4  44.729950   0  \n",
      "\n",
      "[5 rows x 18671 columns]\n",
      "       ATP7B       ERN1      KRT74    SPECC1L      FOXJ1     OR4K15  \\\n",
      "0  60.557470  49.547021  39.637617  45.142842  67.163740  56.153291   \n",
      "1  43.167951  65.887926  45.439949  34.079962  43.167951  46.575948   \n",
      "2  39.138706  55.912437  44.729950  59.267183  52.557691  48.084696   \n",
      "3  37.667326  42.940752  32.393900  54.994296  74.581306  39.174019   \n",
      "4  50.290970  56.093775  31.915424  44.488166  44.488166  41.586764   \n",
      "\n",
      "         PDC      MUC15   C1orf189       ZXDC  ...       EIF3F       MAT2A  \\\n",
      "0  48.445976  27.526123  37.435527  89.184638  ...  188.278680  140.933749   \n",
      "1  32.943963  23.855973  63.615928  92.015896  ...  199.935775  153.359827   \n",
      "2  43.611701  22.364975  53.675940  64.858427  ...  206.876017  599.381325   \n",
      "3  36.160633  23.353742  33.900593  85.881503  ...  306.612034  259.151203   \n",
      "4  30.948289  15.474145  41.586764  85.107796  ...  213.736624  389.755021   \n",
      "\n",
      "      C2CD4C       M1AP       IQCD      OR2H1    C1QTNF3      RAB42  \\\n",
      "0  39.637617  28.627168  33.031347  19.818808  33.031347  42.940752   \n",
      "1  44.303950  34.079962  35.215960  30.671965  36.351959  35.215960   \n",
      "2  48.084696  35.783960  22.364975  35.783960  36.902208  42.493452   \n",
      "3  32.393900  29.380514  24.107089  26.367128  23.353742  39.927366   \n",
      "4  34.816826  30.948289  23.211217  33.849692  27.079753  38.685362   \n",
      "\n",
      "       PTPRJ       GPX7  \n",
      "0  53.951201  45.142842  \n",
      "1  48.847945  46.575948  \n",
      "2  55.912437  35.783960  \n",
      "3  70.061226  40.680712  \n",
      "4  35.783960  34.816826  \n",
      "\n",
      "[5 rows x 18670 columns]\n"
     ]
    }
   ],
   "source": [
    "#drop second column to remove the string Id's (ex. TMA 27 R1 | 001 | Geometric Segment)\n",
    "\n",
    "col = [0]\n",
    "train_transposed.drop(train_transposed.columns[col], axis=1, inplace=True)\n",
    "test_transposed.drop(test_transposed.columns[col], axis=1, inplace=True)\n",
    "\n",
    "train_transposed.to_csv('../../data/table_out/train_transposed_nostr.csv')\n",
    "test_transposed.to_csv('../../data/table_out/test_transposed_nostr.csv')\n",
    "\n",
    "print(train_transposed.head())\n",
    "print(test_transposed.head())\n"
   ],
   "metadata": {
    "collapsed": false,
    "pycharm": {
     "name": "#%%\n"
    }
   }
  },
  {
   "cell_type": "code",
   "execution_count": 338,
   "outputs": [],
   "source": [
    "train_transposed_nostr = pd.read_csv('../../data/table_out/train_transposed_nostr.csv')\n",
    "test_transposed_nostr = pd.read_csv('../../data/table_out/test_transposed_nostr.csv')\n",
    "X = train_transposed_nostr.iloc[:,:-1]\n",
    "y = train_transposed_nostr['ID']"
   ],
   "metadata": {
    "collapsed": false,
    "pycharm": {
     "name": "#%%\n"
    }
   }
  },
  {
   "cell_type": "code",
   "execution_count": 339,
   "outputs": [
    {
     "data": {
      "text/plain": "      1   0\nID  151  91",
      "text/html": "<div>\n<style scoped>\n    .dataframe tbody tr th:only-of-type {\n        vertical-align: middle;\n    }\n\n    .dataframe tbody tr th {\n        vertical-align: top;\n    }\n\n    .dataframe thead th {\n        text-align: right;\n    }\n</style>\n<table border=\"1\" class=\"dataframe\">\n  <thead>\n    <tr style=\"text-align: right;\">\n      <th></th>\n      <th>1</th>\n      <th>0</th>\n    </tr>\n  </thead>\n  <tbody>\n    <tr>\n      <th>ID</th>\n      <td>151</td>\n      <td>91</td>\n    </tr>\n  </tbody>\n</table>\n</div>"
     },
     "execution_count": 339,
     "metadata": {},
     "output_type": "execute_result"
    }
   ],
   "source": [
    "y.value_counts().to_frame().T"
   ],
   "metadata": {
    "collapsed": false,
    "pycharm": {
     "name": "#%%\n"
    }
   }
  },
  {
   "cell_type": "code",
   "execution_count": 340,
   "outputs": [],
   "source": [
    "X_resampled, y_resampled = SMOTE().fit_resample(X, y)"
   ],
   "metadata": {
    "collapsed": false,
    "pycharm": {
     "name": "#%%\n"
    }
   }
  },
  {
   "cell_type": "code",
   "execution_count": 341,
   "outputs": [
    {
     "data": {
      "text/plain": "      0    1\nID  151  151",
      "text/html": "<div>\n<style scoped>\n    .dataframe tbody tr th:only-of-type {\n        vertical-align: middle;\n    }\n\n    .dataframe tbody tr th {\n        vertical-align: top;\n    }\n\n    .dataframe thead th {\n        text-align: right;\n    }\n</style>\n<table border=\"1\" class=\"dataframe\">\n  <thead>\n    <tr style=\"text-align: right;\">\n      <th></th>\n      <th>0</th>\n      <th>1</th>\n    </tr>\n  </thead>\n  <tbody>\n    <tr>\n      <th>ID</th>\n      <td>151</td>\n      <td>151</td>\n    </tr>\n  </tbody>\n</table>\n</div>"
     },
     "execution_count": 341,
     "metadata": {},
     "output_type": "execute_result"
    }
   ],
   "source": [
    "y_resampled.value_counts().to_frame().T"
   ],
   "metadata": {
    "collapsed": false,
    "pycharm": {
     "name": "#%%\n"
    }
   }
  },
  {
   "cell_type": "code",
   "execution_count": 342,
   "outputs": [],
   "source": [
    "X_train, X_val, y_train, y_val = train_test_split(X_resampled, y_resampled,\n",
    "                                                  train_size=0.5,\n",
    "                                                  test_size=0.2,\n",
    "                                                  random_state=123,\n",
    "                                                  shuffle=True)"
   ],
   "metadata": {
    "collapsed": false,
    "pycharm": {
     "name": "#%%\n"
    }
   }
  },
  {
   "cell_type": "code",
   "execution_count": 343,
   "outputs": [],
   "source": [
    "scaler  = MinMaxScaler()\n",
    "X_train = scaler.fit_transform(X_train)\n",
    "X_val   = scaler.transform(X_val)\n",
    "test    = scaler.transform(test_transposed_nostr)"
   ],
   "metadata": {
    "collapsed": false,
    "pycharm": {
     "name": "#%%\n"
    }
   }
  },
  {
   "cell_type": "code",
   "execution_count": 344,
   "outputs": [],
   "source": [
    "model = keras.Sequential(\n",
    "    [\n",
    "        keras.layers.Dense(units=9, activation=\"relu\", input_shape=(X_train.shape[-1],) ),\n",
    "        # randomly delete 30% of the input units below\n",
    "        keras.layers.Dropout(0.3),\n",
    "        keras.layers.Dense(units=9, activation=\"relu\"),\n",
    "        # the output layer, with a single neuron\n",
    "        keras.layers.Dense(units=1, activation=\"sigmoid\"),\n",
    "    ]\n",
    ")\n",
    "\n",
    "# save the initial weights for later\n",
    "initial_weights = model.get_weights()"
   ],
   "metadata": {
    "collapsed": false,
    "pycharm": {
     "name": "#%%\n"
    }
   }
  },
  {
   "cell_type": "code",
   "execution_count": 345,
   "outputs": [
    {
     "name": "stdout",
     "output_type": "stream",
     "text": [
      "Model: \"sequential_6\"\n",
      "_________________________________________________________________\n",
      " Layer (type)                Output Shape              Param #   \n",
      "=================================================================\n",
      " dense_18 (Dense)            (None, 9)                 168048    \n",
      "                                                                 \n",
      " dropout_6 (Dropout)         (None, 9)                 0         \n",
      "                                                                 \n",
      " dense_19 (Dense)            (None, 9)                 90        \n",
      "                                                                 \n",
      " dense_20 (Dense)            (None, 1)                 10        \n",
      "                                                                 \n",
      "=================================================================\n",
      "Total params: 168,148\n",
      "Trainable params: 168,148\n",
      "Non-trainable params: 0\n",
      "_________________________________________________________________\n"
     ]
    }
   ],
   "source": [
    "model.summary()"
   ],
   "metadata": {
    "collapsed": false,
    "pycharm": {
     "name": "#%%\n"
    }
   }
  },
  {
   "cell_type": "code",
   "execution_count": 346,
   "outputs": [],
   "source": [
    "learning_rate = 0.001\n",
    "\n",
    "model.compile(optimizer=keras.optimizers.Adam(),\n",
    "              loss=\"binary_crossentropy\",\n",
    "              metrics=keras.metrics.AUC()\n",
    "             )"
   ],
   "metadata": {
    "collapsed": false,
    "pycharm": {
     "name": "#%%\n"
    }
   }
  },
  {
   "cell_type": "code",
   "execution_count": 347,
   "outputs": [
    {
     "name": "stdout",
     "output_type": "stream",
     "text": [
      "Epoch 1/500\n",
      "Epoch 2/500\n",
      "Epoch 3/500\n",
      "Epoch 4/500\n",
      "Epoch 5/500\n",
      "Epoch 6/500\n",
      "Epoch 7/500\n",
      "Epoch 8/500\n",
      "Epoch 9/500\n",
      "Epoch 10/500\n",
      "Epoch 11/500\n",
      "Epoch 12/500\n",
      "Epoch 13/500\n",
      "Epoch 14/500\n",
      "Epoch 15/500\n",
      "Epoch 16/500\n",
      "Epoch 17/500\n",
      "Epoch 18/500\n",
      "Epoch 19/500\n",
      "Epoch 20/500\n",
      "Epoch 21/500\n",
      "Epoch 22/500\n",
      "Epoch 23/500\n",
      "Epoch 24/500\n",
      "Epoch 25/500\n",
      "Epoch 26/500\n",
      "Epoch 27/500\n",
      "Epoch 28/500\n",
      "Epoch 29/500\n",
      "Epoch 30/500\n",
      "Epoch 31/500\n",
      "Epoch 32/500\n",
      "Epoch 33/500\n",
      "Epoch 34/500\n",
      "Epoch 35/500\n",
      "Epoch 36/500\n",
      "Epoch 37/500\n",
      "Epoch 38/500\n",
      "Epoch 39/500\n",
      "Epoch 40/500\n",
      "Epoch 41/500\n",
      "Epoch 42/500\n",
      "Epoch 43/500\n",
      "Epoch 44/500\n",
      "Epoch 45/500\n",
      "Epoch 46/500\n",
      "Epoch 47/500\n",
      "Epoch 48/500\n",
      "Epoch 49/500\n",
      "Epoch 50/500\n",
      "Epoch 51/500\n",
      "Epoch 52/500\n",
      "Epoch 53/500\n",
      "Epoch 54/500\n",
      "Epoch 55/500\n",
      "Epoch 56/500\n",
      "Epoch 57/500\n",
      "Epoch 58/500\n",
      "Epoch 59/500\n",
      "Epoch 60/500\n",
      "Epoch 61/500\n",
      "Epoch 62/500\n",
      "Epoch 63/500\n",
      "Epoch 64/500\n",
      "Epoch 65/500\n",
      "Epoch 66/500\n",
      "Epoch 67/500\n",
      "Epoch 68/500\n",
      "Epoch 69/500\n",
      "Epoch 70/500\n",
      "Epoch 71/500\n",
      "Epoch 72/500\n",
      "Epoch 73/500\n",
      "Epoch 74/500\n",
      "Epoch 75/500\n",
      "Epoch 76/500\n",
      "Epoch 77/500\n",
      "Epoch 78/500\n",
      "Epoch 79/500\n",
      "Epoch 80/500\n",
      "Epoch 81/500\n",
      "Epoch 82/500\n",
      "Epoch 83/500\n",
      "Epoch 84/500\n",
      "Epoch 85/500\n",
      "Epoch 86/500\n",
      "Epoch 87/500\n",
      "Epoch 88/500\n",
      "Epoch 89/500\n",
      "Epoch 90/500\n",
      "Epoch 91/500\n",
      "Epoch 92/500\n",
      "Epoch 93/500\n",
      "Epoch 94/500\n",
      "Epoch 95/500\n",
      "Epoch 96/500\n",
      "Epoch 97/500\n",
      "Epoch 98/500\n",
      "Epoch 99/500\n",
      "Epoch 100/500\n",
      "Epoch 101/500\n",
      "Epoch 102/500\n",
      "Epoch 103/500\n",
      "Epoch 104/500\n",
      "Epoch 105/500\n",
      "Epoch 106/500\n",
      "Epoch 107/500\n",
      "Epoch 108/500\n",
      "Epoch 109/500\n",
      "Epoch 110/500\n",
      "Epoch 111/500\n",
      "Epoch 112/500\n",
      "Epoch 113/500\n",
      "Epoch 114/500\n",
      "Epoch 115/500\n",
      "Epoch 116/500\n",
      "Epoch 117/500\n",
      "Epoch 118/500\n",
      "Epoch 119/500\n",
      "Epoch 120/500\n",
      "Epoch 121/500\n",
      "Epoch 122/500\n",
      "Epoch 123/500\n",
      "Epoch 124/500\n",
      "Epoch 125/500\n",
      "Epoch 126/500\n",
      "Epoch 127/500\n",
      "Epoch 128/500\n",
      "Epoch 129/500\n",
      "Epoch 130/500\n",
      "Epoch 131/500\n",
      "Epoch 132/500\n",
      "Epoch 133/500\n",
      "Epoch 134/500\n",
      "Epoch 135/500\n",
      "Epoch 136/500\n",
      "Epoch 137/500\n",
      "Epoch 138/500\n",
      "Epoch 139/500\n",
      "Epoch 140/500\n",
      "Epoch 141/500\n",
      "Epoch 142/500\n",
      "Epoch 143/500\n",
      "Epoch 144/500\n",
      "Epoch 145/500\n",
      "Epoch 146/500\n",
      "Epoch 147/500\n",
      "Epoch 148/500\n",
      "Epoch 149/500\n",
      "Epoch 150/500\n",
      "Epoch 151/500\n",
      "Epoch 152/500\n",
      "Epoch 153/500\n",
      "Epoch 154/500\n",
      "Epoch 155/500\n",
      "Epoch 156/500\n",
      "Epoch 157/500\n",
      "Epoch 158/500\n",
      "Epoch 159/500\n",
      "Epoch 160/500\n",
      "Epoch 161/500\n",
      "Epoch 162/500\n",
      "Epoch 163/500\n",
      "Epoch 164/500\n",
      "Epoch 165/500\n",
      "Epoch 166/500\n",
      "Epoch 167/500\n",
      "Epoch 168/500\n",
      "Epoch 169/500\n",
      "Epoch 170/500\n",
      "Epoch 171/500\n",
      "Epoch 172/500\n",
      "Epoch 173/500\n",
      "Epoch 174/500\n",
      "Epoch 175/500\n",
      "Epoch 176/500\n",
      "Epoch 177/500\n",
      "Epoch 178/500\n",
      "Epoch 179/500\n",
      "Epoch 180/500\n",
      "Epoch 181/500\n",
      "Epoch 182/500\n",
      "Epoch 183/500\n",
      "Epoch 184/500\n",
      "Epoch 185/500\n",
      "Epoch 186/500\n",
      "Epoch 187/500\n",
      "Epoch 188/500\n",
      "Epoch 189/500\n",
      "Epoch 190/500\n",
      "Epoch 191/500\n",
      "Epoch 192/500\n",
      "Epoch 193/500\n",
      "Epoch 194/500\n",
      "Epoch 195/500\n",
      "Epoch 196/500\n",
      "Epoch 197/500\n",
      "Epoch 198/500\n",
      "Epoch 199/500\n",
      "Epoch 200/500\n",
      "Epoch 201/500\n",
      "Epoch 202/500\n",
      "Epoch 203/500\n",
      "Epoch 204/500\n",
      "Epoch 205/500\n",
      "Epoch 206/500\n",
      "Epoch 207/500\n",
      "Epoch 208/500\n",
      "Epoch 209/500\n",
      "Epoch 210/500\n",
      "Epoch 211/500\n",
      "Epoch 212/500\n",
      "Epoch 213/500\n",
      "Epoch 214/500\n",
      "Epoch 215/500\n",
      "Epoch 216/500\n",
      "Epoch 217/500\n",
      "Epoch 218/500\n",
      "Epoch 219/500\n",
      "Epoch 220/500\n",
      "Epoch 221/500\n",
      "Epoch 222/500\n",
      "Epoch 223/500\n",
      "Epoch 224/500\n",
      "Epoch 225/500\n",
      "Epoch 226/500\n",
      "Epoch 227/500\n",
      "Epoch 228/500\n",
      "Epoch 229/500\n",
      "Epoch 230/500\n",
      "Epoch 231/500\n",
      "Epoch 232/500\n",
      "Epoch 233/500\n",
      "Epoch 234/500\n",
      "Epoch 235/500\n",
      "Epoch 236/500\n",
      "Epoch 237/500\n",
      "Epoch 238/500\n",
      "Epoch 239/500\n",
      "Epoch 240/500\n",
      "Epoch 241/500\n",
      "Epoch 242/500\n",
      "Epoch 243/500\n",
      "Epoch 244/500\n",
      "Epoch 245/500\n",
      "Epoch 246/500\n",
      "Epoch 247/500\n",
      "Epoch 248/500\n",
      "Epoch 249/500\n",
      "Epoch 250/500\n",
      "Epoch 251/500\n",
      "Epoch 252/500\n",
      "Epoch 253/500\n",
      "Epoch 254/500\n",
      "Epoch 255/500\n",
      "Epoch 256/500\n",
      "Epoch 257/500\n",
      "Epoch 258/500\n",
      "Epoch 259/500\n",
      "Epoch 260/500\n",
      "Epoch 261/500\n",
      "Epoch 262/500\n",
      "Epoch 263/500\n",
      "Epoch 264/500\n",
      "Epoch 265/500\n",
      "Epoch 266/500\n",
      "Epoch 267/500\n",
      "Epoch 268/500\n",
      "Epoch 269/500\n",
      "Epoch 270/500\n",
      "Epoch 271/500\n",
      "Epoch 272/500\n",
      "Epoch 273/500\n",
      "Epoch 274/500\n",
      "Epoch 275/500\n",
      "Epoch 276/500\n",
      "Epoch 277/500\n",
      "Epoch 278/500\n",
      "Epoch 279/500\n",
      "Epoch 280/500\n",
      "Epoch 281/500\n",
      "Epoch 282/500\n",
      "Epoch 283/500\n",
      "Epoch 284/500\n",
      "Epoch 285/500\n",
      "Epoch 286/500\n",
      "Epoch 287/500\n",
      "Epoch 288/500\n",
      "Epoch 289/500\n",
      "Epoch 290/500\n",
      "Epoch 291/500\n",
      "Epoch 292/500\n",
      "Epoch 293/500\n",
      "Epoch 294/500\n",
      "Epoch 295/500\n",
      "Epoch 296/500\n",
      "Epoch 297/500\n",
      "Epoch 298/500\n",
      "Epoch 299/500\n",
      "Epoch 300/500\n",
      "Epoch 301/500\n",
      "Epoch 302/500\n",
      "Epoch 303/500\n",
      "Epoch 304/500\n",
      "Epoch 305/500\n",
      "Epoch 306/500\n",
      "Epoch 307/500\n",
      "Epoch 308/500\n",
      "Epoch 309/500\n",
      "Epoch 310/500\n",
      "Epoch 311/500\n",
      "Epoch 312/500\n",
      "Epoch 313/500\n",
      "Epoch 314/500\n",
      "Epoch 315/500\n",
      "Epoch 316/500\n",
      "Epoch 317/500\n",
      "Epoch 318/500\n",
      "Epoch 319/500\n",
      "Epoch 320/500\n",
      "Epoch 321/500\n",
      "Epoch 322/500\n",
      "Epoch 323/500\n",
      "Epoch 324/500\n",
      "Epoch 325/500\n",
      "Epoch 326/500\n",
      "Epoch 327/500\n",
      "Epoch 328/500\n",
      "Epoch 329/500\n",
      "Epoch 330/500\n",
      "Epoch 331/500\n",
      "Epoch 332/500\n",
      "Epoch 333/500\n",
      "Epoch 334/500\n",
      "Epoch 335/500\n",
      "Epoch 336/500\n",
      "Epoch 337/500\n",
      "Epoch 338/500\n",
      "Epoch 339/500\n",
      "Epoch 340/500\n",
      "Epoch 341/500\n",
      "Epoch 342/500\n",
      "Epoch 343/500\n",
      "Epoch 344/500\n",
      "Epoch 345/500\n",
      "Epoch 346/500\n",
      "Epoch 347/500\n",
      "Epoch 348/500\n",
      "Epoch 349/500\n",
      "Epoch 350/500\n",
      "Epoch 351/500\n",
      "Epoch 352/500\n",
      "Epoch 353/500\n",
      "Epoch 354/500\n",
      "Epoch 355/500\n",
      "Epoch 356/500\n",
      "Epoch 357/500\n",
      "Epoch 358/500\n",
      "Epoch 359/500\n",
      "Epoch 360/500\n",
      "Epoch 361/500\n",
      "Epoch 362/500\n",
      "Epoch 363/500\n",
      "Epoch 364/500\n",
      "Epoch 365/500\n",
      "Epoch 366/500\n",
      "Epoch 367/500\n",
      "Epoch 368/500\n",
      "Epoch 369/500\n",
      "Epoch 370/500\n",
      "Epoch 371/500\n",
      "Epoch 372/500\n",
      "Epoch 373/500\n",
      "Epoch 374/500\n",
      "Epoch 375/500\n",
      "Epoch 376/500\n",
      "Epoch 377/500\n",
      "Epoch 378/500\n",
      "Epoch 379/500\n",
      "Epoch 380/500\n",
      "Epoch 381/500\n",
      "Epoch 382/500\n",
      "Epoch 383/500\n",
      "Epoch 384/500\n",
      "Epoch 385/500\n",
      "Epoch 386/500\n",
      "Epoch 387/500\n",
      "Epoch 388/500\n",
      "Epoch 389/500\n",
      "Epoch 390/500\n",
      "Epoch 391/500\n",
      "Epoch 392/500\n",
      "Epoch 393/500\n",
      "Epoch 394/500\n",
      "Epoch 395/500\n",
      "Epoch 396/500\n",
      "Epoch 397/500\n",
      "Epoch 398/500\n",
      "Epoch 399/500\n",
      "Epoch 400/500\n",
      "Epoch 401/500\n",
      "Epoch 402/500\n",
      "Epoch 403/500\n",
      "Epoch 404/500\n",
      "Epoch 405/500\n",
      "Epoch 406/500\n",
      "Epoch 407/500\n",
      "Epoch 408/500\n",
      "Epoch 409/500\n",
      "Epoch 410/500\n",
      "Epoch 411/500\n",
      "Epoch 412/500\n",
      "Epoch 413/500\n",
      "Epoch 414/500\n",
      "Epoch 415/500\n",
      "Epoch 416/500\n",
      "Epoch 417/500\n",
      "Epoch 418/500\n",
      "Epoch 419/500\n",
      "Epoch 420/500\n",
      "Epoch 421/500\n",
      "Epoch 422/500\n",
      "Epoch 423/500\n",
      "Epoch 424/500\n",
      "Epoch 425/500\n",
      "Epoch 426/500\n",
      "Epoch 427/500\n",
      "Epoch 428/500\n",
      "Epoch 429/500\n",
      "Epoch 430/500\n",
      "Epoch 431/500\n",
      "Epoch 432/500\n",
      "Epoch 433/500\n",
      "Epoch 434/500\n",
      "Epoch 435/500\n",
      "Epoch 436/500\n",
      "Epoch 437/500\n",
      "Epoch 438/500\n",
      "Epoch 439/500\n",
      "Epoch 440/500\n",
      "Epoch 441/500\n",
      "Epoch 442/500\n",
      "Epoch 443/500\n",
      "Epoch 444/500\n",
      "Epoch 445/500\n",
      "Epoch 446/500\n",
      "Epoch 447/500\n",
      "Epoch 448/500\n",
      "Epoch 449/500\n",
      "Epoch 450/500\n",
      "Epoch 451/500\n",
      "Epoch 452/500\n",
      "Epoch 453/500\n",
      "Epoch 454/500\n",
      "Epoch 455/500\n",
      "Epoch 456/500\n",
      "Epoch 457/500\n",
      "Epoch 458/500\n",
      "Epoch 459/500\n",
      "Epoch 460/500\n",
      "Epoch 461/500\n",
      "Epoch 462/500\n",
      "Epoch 463/500\n",
      "Epoch 464/500\n",
      "Epoch 465/500\n",
      "Epoch 466/500\n",
      "Epoch 467/500\n",
      "Epoch 468/500\n",
      "Epoch 469/500\n",
      "Epoch 470/500\n",
      "Epoch 471/500\n",
      "Epoch 472/500\n",
      "Epoch 473/500\n",
      "Epoch 474/500\n",
      "Epoch 475/500\n",
      "Epoch 476/500\n",
      "Epoch 477/500\n",
      "Epoch 478/500\n",
      "Epoch 479/500\n",
      "Epoch 480/500\n",
      "Epoch 481/500\n",
      "Epoch 482/500\n",
      "Epoch 483/500\n",
      "Epoch 484/500\n",
      "Epoch 485/500\n",
      "Epoch 486/500\n",
      "Epoch 487/500\n",
      "Epoch 488/500\n",
      "Epoch 489/500\n",
      "Epoch 490/500\n",
      "Epoch 491/500\n",
      "Epoch 492/500\n",
      "Epoch 493/500\n",
      "Epoch 494/500\n",
      "Epoch 495/500\n",
      "Epoch 496/500\n",
      "Epoch 497/500\n",
      "Epoch 498/500\n",
      "Epoch 499/500\n",
      "Epoch 500/500\n"
     ]
    }
   ],
   "source": [
    "history = model.fit(X_train, y_train,\n",
    "          epochs=500,\n",
    "          batch_size=1000,\n",
    "          validation_data=(X_val, y_val),\n",
    "          verbose=3,\n",
    "          # add in our early stopping callback\n",
    "          # callbacks=[early_stopping]\n",
    "        )"
   ],
   "metadata": {
    "collapsed": false,
    "pycharm": {
     "name": "#%%\n"
    }
   }
  },
  {
   "cell_type": "code",
   "execution_count": 348,
   "outputs": [
    {
     "name": "stdout",
     "output_type": "stream",
     "text": [
      "dict_keys(['loss', 'auc_7', 'val_loss', 'val_auc_7'])\n"
     ]
    }
   ],
   "source": [
    "history.history\n",
    "print(history.history.keys())"
   ],
   "metadata": {
    "collapsed": false,
    "pycharm": {
     "name": "#%%\n"
    }
   }
  },
  {
   "cell_type": "code",
   "execution_count": 349,
   "outputs": [
    {
     "data": {
      "text/plain": "<Figure size 432x288 with 1 Axes>",
      "image/png": "[encoded data removed]"
     },
     "metadata": {
      "needs_background": "light"
     },
     "output_type": "display_data"
    }
   ],
   "source": [
    "plt.plot(history.history['loss'], label='train loss')\n",
    "plt.plot(history.history['val_loss'], label='val loss')\n",
    "plt.legend()\n",
    "# plt.savefig('vgg-loss-rps-1.png')\n",
    "plt.show()"
   ],
   "metadata": {
    "collapsed": false,
    "pycharm": {
     "name": "#%%\n"
    }
   }
  },
  {
   "cell_type": "code",
   "execution_count": 352,
   "outputs": [
    {
     "data": {
      "text/plain": "<Figure size 432x288 with 1 Axes>",
      "image/png": "[encoded data removed]"
     },
     "metadata": {
      "needs_background": "light"
     },
     "output_type": "display_data"
    }
   ],
   "source": [
    "num = 7\n",
    "plt.plot(history.history['auc_'+ str(num)], label='auc_' + str(num))\n",
    "plt.plot(history.history['val_auc_' + str(num)], label='val_auc_' + str(num))\n",
    "plt.legend()\n",
    "plt.show()\n"
   ],
   "metadata": {
    "collapsed": false,
    "pycharm": {
     "name": "#%%\n"
    }
   }
  },
  {
   "cell_type": "code",
   "execution_count": 353,
   "outputs": [
    {
     "name": "stdout",
     "output_type": "stream",
     "text": [
      "['TMA 27 R1 | 001 | Geometric Segment', 'TMA 27 R1 | 002 | Geometric Segment', 'TMA 27 R1 | 003 | Geometric Segment', 'TMA 27 R1 | 004 | Geometric Segment', 'TMA 27 R1 | 006 | Geometric Segment', 'TMA 27 R1 | 007 | Geometric Segment', 'TMA 27 R1 | 008 | Geometric Segment', 'TMA 27 R1 | 009 | Geometric Segment', 'TMA 27 R1 | 011 | Geometric Segment', 'TMA 27 R1 | 012 | Geometric Segment', 'TMA 27 R1 | 013 | Geometric Segment', 'TMA 27 R1 | 014 | Geometric Segment', 'TMA 27 R1 | 015 | Geometric Segment', 'TMA 27 R1 | 016 | Geometric Segment', 'TMA 27 R1 | 017 | Geometric Segment', 'TMA 27 R1 | 018 | Geometric Segment', 'TMA 27 R1 | 020 | Geometric Segment', 'TMA 27 R1 | 021 | Geometric Segment', 'TMA 27 R1 | 022 | Geometric Segment', 'TMA 27 R1 | 024 | Geometric Segment', 'TMA 27 R1 | 025 | Geometric Segment', 'TMA 27 R1 | 026 | Geometric Segment', 'TMA 27 R1 | 027 | Geometric Segment', 'TMA 27 R1 | 028 | Geometric Segment', 'TMA 27 R1 | 029 | Geometric Segment', 'TMA 27 R1 | 030 | Geometric Segment', 'TMA 27 R1 | 031 | Geometric Segment', 'TMA 27 R1 | 032 | Geometric Segment', 'TMA 27 R1 | 033 | Geometric Segment', 'TMA 27 R1 | 034 | Geometric Segment', 'TMA 27 R1 | 037 | Geometric Segment', 'TMA 27 R1 | 038 | Geometric Segment', 'TMA 27 R1 | 039 | Geometric Segment', 'TMA 27 R1 | 040 | Geometric Segment', 'TMA 27 R1 | 041 | Geometric Segment', 'TMA 27 R1 | 042 | Geometric Segment', 'TMA 27 R1 | 043 | Geometric Segment', 'TMA 27 R1 | 044 | Geometric Segment', 'TMA 27 R1 | 045 | Geometric Segment', 'TMA 27 R1 | 046 | Geometric Segment', 'TMA 27 R1 | 047 | Geometric Segment', 'TMA 27 R1 | 048 | Geometric Segment', 'TMA 27 R1 | 049 | Geometric Segment', 'TMA 27 R1 | 050 | Geometric Segment', 'TMA 27 R1 | 051 | Geometric Segment', 'TMA 27 R1 | 052 | Geometric Segment', 'TMA 27 R1 | 053 | Geometric Segment', 'TMA 27 R1 | 054 | Geometric Segment', 'TMA 27 R1 | 055 | Geometric Segment', 'TMA 27 R1 | 056 | Geometric Segment', 'TMA 27 R1 | 058 | Geometric Segment', 'TMA 27 R1 | 059 | Geometric Segment', 'TMA 27 R1 | 060 | Geometric Segment', 'TMA 27 R1 | 061 | Geometric Segment', 'TMA 27 R1 | 063 | Geometric Segment', 'TMA 27 R1 | 064 | Geometric Segment', 'TMA 27 R1 | 065 | Geometric Segment', 'TMA 27 R1 | 066 | Geometric Segment', 'TMA 27 R1 | 067 | Geometric Segment', 'TMA 27 R2 | 001 | Geometric Segment', 'TMA 27 R2 | 002 | Geometric Segment', 'TMA 27 R2 | 003 | Geometric Segment', 'TMA 27 R2 | 004 | Geometric Segment', 'TMA 27 R2 | 006 | Geometric Segment', 'TMA 27 R2 | 007 | Geometric Segment', 'TMA 27 R2 | 008 | Geometric Segment', 'TMA 27 R2 | 009 | Geometric Segment', 'TMA 27 R2 | 010 | Geometric Segment', 'TMA 27 R2 | 011 | Geometric Segment', 'TMA 27 R2 | 012 | Geometric Segment', 'TMA 27 R2 | 013 | Geometric Segment', 'TMA 27 R2 | 014 | Geometric Segment', 'TMA 27 R2 | 015 | Geometric Segment', 'TMA 27 R2 | 016 | Geometric Segment', 'TMA 27 R2 | 017 | Geometric Segment', 'TMA 27 R2 | 020 | Geometric Segment', 'TMA 27 R2 | 022 | Geometric Segment', 'TMA 27 R2 | 023 | Geometric Segment', 'TMA 27 R2 | 024 | Geometric Segment', 'TMA 27 R2 | 025 | Geometric Segment', 'TMA 27 R2 | 026 | Geometric Segment', 'TMA 27 R2 | 027 | Geometric Segment', 'TMA 27 R2 | 028 | Geometric Segment', 'TMA 27 R2 | 030 | Geometric Segment', 'TMA 27 R2 | 031 | Geometric Segment', 'TMA 27 R2 | 032 | Geometric Segment', 'TMA 27 R2 | 033 | Geometric Segment', 'TMA 27 R2 | 034 | Geometric Segment', 'TMA 27 R2 | 035 | Geometric Segment', 'TMA 27 R2 | 036 | Geometric Segment', 'TMA 27 R2 | 037 | Geometric Segment', 'TMA 27 R2 | 038 | Geometric Segment', 'TMA 27 R2 | 039 | Geometric Segment', 'TMA 27 R2 | 040 | Geometric Segment', 'TMA 27 R2 | 041 | Geometric Segment', 'TMA 27 R2 | 042 | Geometric Segment', 'TMA 27 R2 | 043 | Geometric Segment', 'TMA 27 R2 | 044 | Geometric Segment', 'TMA 27 R2 | 045 | Geometric Segment', 'TMA 27 R2 | 046 | Geometric Segment', 'TMA 27 R2 | 047 | Geometric Segment', 'TMA 27 R2 | 048 | Geometric Segment', 'TMA 27 R2 | 049 | Geometric Segment', 'TMA 27 R2 | 051 | Geometric Segment', 'TMA 27 R2 | 052 | Geometric Segment', 'TMA 27 R2 | 053 | Geometric Segment', 'TMA 27 R2 | 054 | Geometric Segment', 'TMA 27 R2 | 055 | Geometric Segment', 'TMA 27 R2 | 057 | Geometric Segment', 'TMA 27 R2 | 058 | Geometric Segment', 'TMA 27 R2 | 059 | Geometric Segment', 'TMA 27 R2 | 060 | Geometric Segment', 'TMA 27 R2 | 062 | Geometric Segment', 'TMA 27 R2 | 063 | Geometric Segment', 'TMA 27 R2 | 064 | Geometric Segment', 'TMA 27 R2 | 065 | Geometric Segment', 'TMA 27 R2 | 066 | Geometric Segment', 'TMA 27 R2 | 067 | Geometric Segment', 'TMA 27 R2 | 068 | Geometric Segment', 'TMA 27 R2 | 070 | Geometric Segment', 'TMA 27 R2 | 071 | Geometric Segment', 'TMA 27 R2 | 072 | Geometric Segment', 'TMA 27 R2 | 073 | Geometric Segment', 'TMA 27 R2 | 074 | Geometric Segment', 'TMA 27 R2 | 075 | Geometric Segment', 'TMA 27 R2 | 076 | Geometric Segment', 'TMA 27 R2 | 077 | Geometric Segment', 'TMA 27 R2 | 078 | Geometric Segment', 'TMA 27 R2 | 079 | Geometric Segment', 'TMA 27 R2 | 080 | Geometric Segment', 'TMA 27 R2 | 081 | Geometric Segment', 'TMA 27 R2 | 082 | Geometric Segment', 'TMA 27 R2 | 083 | Geometric Segment', 'TMA 27 R2 | 084 | Geometric Segment', 'TMA 27 R2 | 085 | Geometric Segment', 'TMA 27 R2 | 087 | Geometric Segment', 'TMA 27 R3 (1) | 001 | Geometric Segment', 'TMA 27 R3 (1) | 002 | Geometric Segment', 'TMA 27 R3 (1) | 003 | Geometric Segment', 'TMA 27 R3 (1) | 004 | Geometric Segment', 'TMA 27 R3 (1) | 005 | Geometric Segment', 'TMA 27 R3 (1) | 006 | Geometric Segment', 'TMA 27 R3 (1) | 007 | Geometric Segment', 'TMA 27 R3 (1) | 008 | Geometric Segment', 'TMA 27 R3 (1) | 009 | Geometric Segment', 'TMA 27 R3 (1) | 010 | Geometric Segment', 'TMA 27 R3 (1) | 011 | Geometric Segment', 'TMA 27 R3 (1) | 012 | Geometric Segment', 'TMA 27 R3 (1) | 013 | Geometric Segment', 'TMA 27 R3 (1) | 014 | Geometric Segment', 'TMA 27 R3 (1) | 016 | Geometric Segment', 'TMA 27 R3 (1) | 017 | Geometric Segment', 'TMA 27 R3 (1) | 018 | Geometric Segment', 'TMA 27 R3 (1) | 019 | Geometric Segment', 'TMA 27 R3 (1) | 020 | Geometric Segment', 'TMA 27 R3 (1) | 021 | Geometric Segment', 'TMA 27 R3 (1) | 022 | Geometric Segment', 'TMA 27 R3 (1) | 023 | Geometric Segment', 'TMA 27 R3 (1) | 024 | Geometric Segment', 'TMA 27 R3 (1) | 025 | Geometric Segment', 'TMA 27 R3 (1) | 026 | Geometric Segment', 'TMA 27 R3 (1) | 027 | Geometric Segment', 'TMA 27 R3 (1) | 030 | Geometric Segment', 'TMA 27 R3 | 002 | Geometric Segment', 'TMA 27 R3 | 003 | Geometric Segment', 'TMA 27 R3 | 004 | Geometric Segment', 'TMA 27 R3 | 005 | Geometric Segment', 'TMA 27 R3 | 006 | Geometric Segment', 'TMA 27 R3 | 007 | Geometric Segment', 'TMA 27 R3 | 008 | Geometric Segment', 'TMA 27 R3 | 009 | Geometric Segment', 'TMA 27 R3 | 010 | Geometric Segment', 'TMA 27 R3 | 011 | Geometric Segment', 'TMA 27 R3 | 012 | Geometric Segment', 'TMA 27 R3 | 013 | Geometric Segment', 'TMA 27 R3 | 014 | Geometric Segment', 'TMA 27 R3 | 015 | Geometric Segment', 'TMA 27 R3 | 016 | Geometric Segment', 'TMA 27 R3 | 017 | Geometric Segment', 'TMA 27 R3 | 018 | Geometric Segment', 'TMA 27 R3 | 019 | Geometric Segment', 'TMA 27 R3 | 020 | Geometric Segment', 'TMA 27 R3 | 021 | Geometric Segment', 'TMA 27 R3 | 022 | Geometric Segment', 'TMA 27 R3 | 023 | Geometric Segment', 'TMA 27 R3 | 026 | Geometric Segment', 'TMA 27 R3 | 028 | Geometric Segment', 'TMA 27 R3 | 029 | Geometric Segment', 'TMA 27 R3 | 030 | Geometric Segment', 'TMA 27 R3 | 031 | Geometric Segment', 'TMA 27 R3 | 032 | Geometric Segment', 'TMA 27 R3 | 033 | Geometric Segment', 'TMA 27 R3 | 034 | Geometric Segment', 'TMA 27 R3 | 035 | Geometric Segment', 'TMA 27 R3 | 036 | Geometric Segment', 'TMA 27 R4 (1) | 001 | Geometric Segment', 'TMA 27 R4 (1) | 002 | Geometric Segment', 'TMA 27 R4 (1) | 003 | Geometric Segment', 'TMA 27 R4 (1) | 006 | Geometric Segment', 'TMA 27 R4 (1) | 007 | Geometric Segment', 'TMA 27 R4 (1) | 008 | Geometric Segment', 'TMA 27 R4 (1) | 009 | Geometric Segment', 'TMA 27 R4 (1) | 010 | Geometric Segment', 'TMA 27 R4 (1) | 012 | Geometric Segment', 'TMA 27 R4 (1) | 013 | Geometric Segment', 'TMA 27 R4 (1) | 014 | Geometric Segment', 'TMA 27 R4 (1) | 015 | Geometric Segment', 'TMA 27 R4 (1) | 016 | Geometric Segment', 'TMA 27 R4 (1) | 017 | Geometric Segment', 'TMA 27 R4 (1) | 018 | Geometric Segment', 'TMA 27 R4 (1) | 020 | Geometric Segment', 'TMA 27 R4 (1) | 021 | Geometric Segment', 'TMA 27 R4 (1) | 022 | Geometric Segment', 'TMA 27 R4 (1) | 024 | Geometric Segment', 'TMA 27 R4 (1) | 025 | Geometric Segment', 'TMA 27 R4 (1) | 026 | Geometric Segment', 'TMA 27 R4 (1) | 028 | Geometric Segment', 'TMA 27 R4 (1) | 029 | Geometric Segment', 'TMA 27 R4 (1) | 030 | Geometric Segment', 'TMA 27 R4 (1) | 031 | Geometric Segment', 'TMA 27 R4 (1) | 032 | Geometric Segment', 'TMA 27 R4 (1) | 034 | Geometric Segment', 'TMA 27 R4 (1) | 035 | Geometric Segment', 'TMA 27 R4 (1) | 036 | Geometric Segment', 'TMA 27 R4 (1) | 037 | Geometric Segment', 'TMA 27 R4 (1) | 038 | Geometric Segment', 'TMA 27 R4 (1) | 039 | Geometric Segment', 'TMA 27 R4 (1) | 040 | Geometric Segment', 'TMA 27 R4 (1) | 041 | Geometric Segment', 'TMA 27 R4 (1) | 042 | Geometric Segment', 'TMA 27 R4 (1) | 043 | Geometric Segment', 'TMA 27 R4 (1) | 044 | Geometric Segment', 'TMA 27 R4 (1) | 045 | Geometric Segment', 'TMA 27 R4 (1) | 046 | Geometric Segment', 'TMA 27 R4 (1) | 047 | Geometric Segment', 'TMA 27 R4 (1) | 048 | Geometric Segment', 'TMA 27 R4 (1) | 049 | Geometric Segment', 'TMA 27 R4 (1) | 050 | Geometric Segment', 'TMA 27 R4 (1) | 051 | Geometric Segment', 'TMA 27 R4 (1) | 052 | Geometric Segment', 'TMA 27 R4 (1) | 055 | Geometric Segment', 'TMA 27 R4 (1) | 056 | Geometric Segment']\n"
     ]
    }
   ],
   "source": [
    "import csv\n",
    "header = [\"name\", \"ID\"]\n",
    "name_list = label_train['Sample'].tolist()\n",
    "print(name_list)\n",
    "f = open('../../data/table_out/sample.csv', 'w')\n",
    "writer = csv.writer(f)\n",
    "# write the header\n",
    "writer.writerow(header)\n",
    "f.close()"
   ],
   "metadata": {
    "collapsed": false,
    "pycharm": {
     "name": "#%%\n"
    }
   }
  },
  {
   "cell_type": "code",
   "execution_count": 354,
   "outputs": [
    {
     "name": "stdout",
     "output_type": "stream",
     "text": [
      "1/1 [==============================] - 0s 40ms/step\b\b\b\b\b\b\b\b\b\b\b\b\b\b\b\b\b\b\b\b\b\b\b\b\b\b\b\b\b\b\b\b\b\b\b\b\b\b\b\b\b\n",
      "1/1 [==============================] - 0s 67ms/step - loss: 0.0000e+00 - auc_7: 0.0000e+00\b\b\b\b\b\b\b\b\b\b\b\b\b\b\b\b\b\b\b\b\b\b\b\b\b\b\b\b\b\b\b\b\b\b\b\b\b\b\b\b\b\b\b\b\b\b\b\b\b\b\b\b\b\b\b\b\b\b\b\b\b\b\b\b\b\b\b\b\b\b\b\b\b\b\b\b\b\b\b\b\n"
     ]
    }
   ],
   "source": [
    "sample = pd.read_csv('../../data/table_out/sample.csv')\n",
    "sample['ID'] = model.predict(test_transposed_nostr).tolist()\n",
    "model.evaluate(test_transposed_nostr)\n",
    "sample['name'] = name_list[:test_number]\n",
    "sample.to_csv('../../data/table_out/submission.csv', index=False)\n",
    "\n"
   ],
   "metadata": {
    "collapsed": false,
    "pycharm": {
     "name": "#%%\n"
    }
   }
  }
 ],
 "metadata": {
  "kernelspec": {
   "display_name": "Python 3",
   "language": "python",
   "name": "python3"
  },
  "language_info": {
   "codemirror_mode": {
    "name": "ipython",
    "version": 2
   },
   "file_extension": ".py",
   "mimetype": "text/x-python",
   "name": "python",
   "nbconvert_exporter": "python",
   "pygments_lexer": "ipython2",
   "version": "2.7.6"
  }
 },
 "nbformat": 4,
 "nbformat_minor": 0
}