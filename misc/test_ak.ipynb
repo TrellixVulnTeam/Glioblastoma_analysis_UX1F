{
 "cells": [
  {
   "cell_type": "code",
   "execution_count": 1,
   "metadata": {
    "collapsed": true,
    "pycharm": {
     "name": "#%%\n"
    }
   },
   "outputs": [
    {
     "name": "stdout",
     "output_type": "stream",
     "text": [
      "TargetName                               ATP7B       ERN1      KRT74  \\\n",
      "TMA 27 R1 | 001 | Geometric Segment  49.983944  60.775932  31.239965   \n",
      "TMA 27 R1 | 002 | Geometric Segment  46.519148  49.501144  34.591161   \n",
      "TMA 27 R1 | 003 | Geometric Segment  51.213741  42.021531  26.920043   \n",
      "TMA 27 R1 | 004 | Geometric Segment  45.655397  50.591115  44.421467   \n",
      "TMA 27 R1 | 005 | Geometric Segment  60.557470  49.547021  39.637617   \n",
      "\n",
      "TargetName                             SPECC1L      FOXJ1     OR4K15  \\\n",
      "TMA 27 R1 | 001 | Geometric Segment  46.007948  45.439949  58.503934   \n",
      "TMA 27 R1 | 002 | Geometric Segment  47.115547  54.272339  58.447134   \n",
      "TMA 27 R1 | 003 | Geometric Segment  43.991290  55.153259  51.870327   \n",
      "TMA 27 R1 | 004 | Geometric Segment  33.316100  59.228623  53.058975   \n",
      "TMA 27 R1 | 005 | Geometric Segment  45.142841  67.163740  56.153291   \n",
      "\n",
      "TargetName                                 PDC      MUC15   C1orf189  \\\n",
      "TMA 27 R1 | 001 | Geometric Segment  40.327955  24.991972  58.503934   \n",
      "TMA 27 R1 | 002 | Geometric Segment  40.555154  22.066775  48.904745   \n",
      "TMA 27 R1 | 003 | Geometric Segment  38.082012  25.606870  45.304463   \n",
      "TMA 27 R1 | 004 | Geometric Segment  50.591115  28.380382  49.357186   \n",
      "TMA 27 R1 | 005 | Geometric Segment  48.445976  27.526123  37.435527   \n",
      "\n",
      "TargetName                                 ZXDC  ...       EIF3F       MAT2A  \\\n",
      "TMA 27 R1 | 001 | Geometric Segment   98.263889  ...  206.183768  163.015817   \n",
      "TMA 27 R1 | 002 | Geometric Segment   99.002289  ...  209.336164  171.763007   \n",
      "TMA 27 R1 | 003 | Geometric Segment  102.427481  ...  225.209141  212.733999   \n",
      "TMA 27 R1 | 004 | Geometric Segment   80.205427  ...  220.873407  146.837628   \n",
      "TMA 27 R1 | 005 | Geometric Segment   89.184638  ...  188.278680  140.933749   \n",
      "\n",
      "TargetName                              C2CD4C       M1AP       IQCD  \\\n",
      "TMA 27 R1 | 001 | Geometric Segment  29.535967  34.647961  36.919958   \n",
      "TMA 27 R1 | 002 | Geometric Segment  33.994762  29.223567  33.994762   \n",
      "TMA 27 R1 | 003 | Geometric Segment  27.576630  30.202975  31.516148   \n",
      "TMA 27 R1 | 004 | Geometric Segment  22.210734  24.678593  29.614311   \n",
      "TMA 27 R1 | 005 | Geometric Segment  39.637617  28.627168  33.031347   \n",
      "\n",
      "TargetName                               OR2H1    C1QTNF3      RAB42  \\\n",
      "TMA 27 R1 | 001 | Geometric Segment  31.807964  44.303950  53.391940   \n",
      "TMA 27 R1 | 002 | Geometric Segment  29.819966  36.380359  53.079540   \n",
      "TMA 27 R1 | 003 | Geometric Segment  32.172734  46.617636  40.051771   \n",
      "TMA 27 R1 | 004 | Geometric Segment  25.912523  27.146452  62.930412   \n",
      "TMA 27 R1 | 005 | Geometric Segment  19.818808  33.031347  42.940752   \n",
      "\n",
      "TargetName                               PTPRJ       GPX7  \n",
      "TMA 27 R1 | 001 | Geometric Segment  45.439949  42.599952  \n",
      "TMA 27 R1 | 002 | Geometric Segment  56.657936  41.151554  \n",
      "TMA 27 R1 | 003 | Geometric Segment  46.617636  45.961049  \n",
      "TMA 27 R1 | 004 | Geometric Segment  38.251819  48.123256  \n",
      "TMA 27 R1 | 005 | Geometric Segment  53.951201  45.142841  \n",
      "\n",
      "[5 rows x 18670 columns]\n"
     ]
    }
   ],
   "source": [
    "from pyDeepInsight import ImageTransformer, LogScaler\n",
    "from sklearn.model_selection import train_test_split\n",
    "import pandas as pd\n",
    "import numpy as np\n",
    "from matplotlib import pyplot as plt\n",
    "import seaborn as sns\n",
    "import matplotlib.ticker as ticker\n",
    "import tensorflow as tf\n",
    "from tensorflow.keras.datasets import mnist\n",
    "from tensorflow.keras.models import load_model\n",
    "\n",
    "import autokeras as ak\n",
    "import keras as k\n",
    "\n",
    "X = pd.read_excel('../data/tables/X_trainGBM.xlsx', sheet_name=0, header=0, names=None, index_col=0, usecols=None, squeeze=None, dtype=None, engine=None, converters=None, true_values=None, false_values=None, skiprows=None, nrows=None, na_values=None, keep_default_na=True, na_filter=True, verbose=False, parse_dates=False, date_parser=None, thousands=None, decimal='.', comment=None, skipfooter=0, convert_float=None, mangle_dupe_cols=True, storage_options=None)\n",
    "df_tr = X.transpose()\n",
    "Y = pd.read_excel('../data/tables/Y_trainGBM.xlsx', sheet_name=0, header=0, names=None, index_col=0)\n",
    "print(df_tr.head())"
   ]
  },
  {
   "cell_type": "code",
   "execution_count": 4,
   "outputs": [
    {
     "name": "stdout",
     "output_type": "stream",
     "text": [
      "Device mapping:\n",
      "/job:localhost/replica:0/task:0/device:GPU:0 -> device: 0, name: NVIDIA GeForce RTX 2080 Ti, pci bus id: 0000:09:00.0, compute capability: 7.5\n",
      "\n"
     ]
    }
   ],
   "source": [
    "import tensorflow as tf\n",
    "sess = tf.compat.v1.Session(config=tf.compat.v1.ConfigProto(log_device_placement=True))"
   ],
   "metadata": {
    "collapsed": false,
    "pycharm": {
     "name": "#%%\n"
    }
   }
  },
  {
   "cell_type": "code",
   "execution_count": 6,
   "outputs": [],
   "source": [
    "clf = ak.StructuredDataClassifier(overwrite=True, max_trials=50)"
   ],
   "metadata": {
    "collapsed": false,
    "pycharm": {
     "name": "#%%\n"
    }
   }
  },
  {
   "cell_type": "code",
   "execution_count": null,
   "outputs": [
    {
     "name": "stdout",
     "output_type": "stream",
     "text": [
      "\n",
      "Search: Running Trial #1\n",
      "\n",
      "Value             |Best Value So Far |Hyperparameter\n",
      "True              |?                 |structured_data_block_1/normalize\n",
      "2                 |?                 |structured_data_block_1/dense_block_1/num_layers\n",
      "False             |?                 |structured_data_block_1/dense_block_1/use_batchnorm\n",
      "0                 |?                 |structured_data_block_1/dense_block_1/dropout\n",
      "32                |?                 |structured_data_block_1/dense_block_1/units_0\n",
      "32                |?                 |structured_data_block_1/dense_block_1/units_1\n",
      "0                 |?                 |classification_head_1/dropout\n",
      "adam              |?                 |optimizer\n",
      "0.001             |?                 |learning_rate\n",
      "\n",
      "Epoch 1/200\n",
      "31/31 [==============================] - ETA: 0s - loss: 1.3101 - accuracy: 0.6048"
     ]
    }
   ],
   "source": [
    "# Feed the structured data classifier with training data.\n",
    "clf.fit(df_tr, Y, epochs=200, validation_split=0.1, batch_size=8, verbose=1)"
   ],
   "metadata": {
    "collapsed": false,
    "pycharm": {
     "name": "#%%\n",
     "is_executing": true
    }
   }
  }
 ],
 "metadata": {
  "kernelspec": {
   "display_name": "Python 3",
   "language": "python",
   "name": "python3"
  },
  "language_info": {
   "codemirror_mode": {
    "name": "ipython",
    "version": 2
   },
   "file_extension": ".py",
   "mimetype": "text/x-python",
   "name": "python",
   "nbconvert_exporter": "python",
   "pygments_lexer": "ipython2",
   "version": "2.7.6"
  }
 },
 "nbformat": 4,
 "nbformat_minor": 0
}