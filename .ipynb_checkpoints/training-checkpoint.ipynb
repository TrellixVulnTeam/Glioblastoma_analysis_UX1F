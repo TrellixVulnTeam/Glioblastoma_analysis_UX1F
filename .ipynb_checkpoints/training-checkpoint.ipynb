{
 "cells": [
  {
   "cell_type": "code",
   "execution_count": 1,
   "metadata": {
    "pycharm": {
     "is_executing": true,
     "name": "#%%\n"
    }
   },
   "outputs": [
    {
     "name": "stdout",
     "output_type": "stream",
     "text": [
      "PhysicalDevice(name='/physical_device:GPU:0', device_type='GPU')\n"
     ]
    }
   ],
   "source": [
    "import tensorflow as tf\n",
    "\n",
    "gpus = tf.config.list_physical_devices('GPU')\n",
    "print(gpus[0])\n",
    "\n",
    "# Assume that you have 12GB of GPU memory and want to allocate ~4GB:\n",
    "gpu_options = tf.config.experimental.set_memory_growth(gpus[0], True)\n",
    "\n"
   ]
  },
  {
   "cell_type": "code",
   "execution_count": 2,
   "metadata": {
    "pycharm": {
     "name": "#%%\n"
    }
   },
   "outputs": [
    {
     "name": "stdout",
     "output_type": "stream",
     "text": [
      "(18048, 15104, 3)\n",
      "(7552, 6320, 3)\n",
      "(3160, 2644, 3)\n",
      "(3160, 2644, 3)\n"
     ]
    },
    {
     "data": {
      "text/plain": [
       "[PhysicalDevice(name='/physical_device:CPU:0', device_type='CPU'),\n",
       " PhysicalDevice(name='/physical_device:GPU:0', device_type='GPU')]"
      ]
     },
     "execution_count": 2,
     "metadata": {},
     "output_type": "execute_result"
    }
   ],
   "source": [
    "\n",
    "import os\n",
    "import json\n",
    "import shutil\n",
    "\n",
    "import numpy as np\n",
    "from PIL import Image\n",
    "from alive_progress import alive_bar\n",
    "from keras.callbacks import ModelCheckpoint, EarlyStopping, TensorBoard\n",
    "from matplotlib import pyplot as plt\n",
    "\n",
    "from keras.models import Sequential, load_model\n",
    "from sklearn.model_selection import train_test_split\n",
    "from keras.layers import Conv2D, Flatten, Dense, Activation, MaxPooling2D, Dropout, Input, BatchNormalization\n",
    "\n",
    "\n",
    "import os\n",
    "import json\n",
    "import numpy as np\n",
    "from PIL import Image\n",
    "from sklearn.model_selection import train_test_split\n",
    "\n",
    "\n",
    "# tensorboard --logdir logs/\n",
    "\n",
    "\n",
    "Image.MAX_IMAGE_PIXELS = None\n",
    "img = Image.open('gba_data/1_N.jpg')\n",
    "\n",
    "for i in range(3): #change here to get to lowest number that fits on GPU memory\n",
    "\n",
    "    data = np.asarray(img)\n",
    "    print(data.shape)\n",
    "    #\n",
    "    img.thumbnail((round(data.shape[0]/2), round(data.shape[1]/2)))\n",
    "    img.save('image_12.jpg')\n",
    "\n",
    "\n",
    "# img.thumbnail((round(data.shape[0]/2), round(data.shape[1]/2)))\n",
    "# img.save('image_12.jpg')\n",
    "#\n",
    "# data = np.asarray(img)\n",
    "print(data.shape)\n",
    "\n",
    "tf.config.experimental.list_physical_devices()"
   ]
  },
  {
   "cell_type": "code",
   "execution_count": 3,
   "metadata": {
    "pycharm": {
     "name": "#%%\n"
    }
   },
   "outputs": [
    {
     "name": "stdout",
     "output_type": "stream",
     "text": [
      "(3160, 2644, 3)\n",
      "Model: \"sequential\"\n",
      "_________________________________________________________________\n",
      " Layer (type)                Output Shape              Param #   \n",
      "=================================================================\n",
      " conv2d (Conv2D)             (None, 1580, 1322, 50)    3800      \n",
      "                                                                 \n",
      " dropout (Dropout)           (None, 1580, 1322, 50)    0         \n",
      "                                                                 \n",
      " conv2d_1 (Conv2D)           (None, 1580, 1322, 100)   45100     \n",
      "                                                                 \n",
      " max_pooling2d (MaxPooling2D  (None, 790, 661, 100)    0         \n",
      " )                                                               \n",
      "                                                                 \n",
      " conv2d_2 (Conv2D)           (None, 394, 330, 150)     135150    \n",
      "                                                                 \n",
      " dropout_1 (Dropout)         (None, 394, 330, 150)     0         \n",
      "                                                                 \n",
      " conv2d_3 (Conv2D)           (None, 196, 164, 200)     270200    \n",
      "                                                                 \n",
      " dropout_2 (Dropout)         (None, 196, 164, 200)     0         \n",
      "                                                                 \n",
      " conv2d_4 (Conv2D)           (None, 97, 81, 200)       360200    \n",
      "                                                                 \n",
      " dropout_3 (Dropout)         (None, 97, 81, 200)       0         \n",
      "                                                                 \n",
      " flatten (Flatten)           (None, 1571400)           0         \n",
      "                                                                 \n",
      " dense (Dense)               (None, 100)               157140100 \n",
      "                                                                 \n",
      " dropout_4 (Dropout)         (None, 100)               0         \n",
      "                                                                 \n",
      " dense_1 (Dense)             (None, 200)               20200     \n",
      "                                                                 \n",
      " dropout_5 (Dropout)         (None, 200)               0         \n",
      "                                                                 \n",
      " dense_2 (Dense)             (None, 2)                 402       \n",
      "                                                                 \n",
      "=================================================================\n",
      "Total params: 157,975,152\n",
      "Trainable params: 157,975,152\n",
      "Non-trainable params: 0\n",
      "_________________________________________________________________\n"
     ]
    }
   ],
   "source": [
    " # %reset -f\n",
    "\n",
    "\n",
    "print(data.shape)\n",
    "folder = 'logs/'\n",
    "for filename in os.listdir(folder):\n",
    "    file_path = os.path.join(folder, filename)\n",
    "    try:\n",
    "        if os.path.isfile(file_path) or os.path.islink(file_path):\n",
    "            os.unlink(file_path)\n",
    "        elif os.path.isdir(file_path):\n",
    "            shutil.rmtree(file_path)\n",
    "    except Exception as e:\n",
    "        print('Failed to delete %s. Reason: %s' % (file_path, e))\n",
    "\n",
    "with tf.device('/GPU:0'):\n",
    "    model = Sequential()\n",
    "\n",
    "    model.add(Conv2D(50, kernel_size=5, padding='same', strides=2, activation='relu', input_shape=data.shape))\n",
    "    model.add(Dropout(0.3))\n",
    "\n",
    "    model.add(Conv2D(100, padding='same', kernel_size=3, strides=1, activation='relu'))\n",
    "    model.add(MaxPooling2D(pool_size=(2, 2), strides=2))\n",
    "\n",
    "    model.add(Conv2D(150, kernel_size=3, strides=2, activation='relu'))\n",
    "    model.add(Dropout(0.3))\n",
    "\n",
    "    model.add(Conv2D(200, kernel_size=3, strides=2, activation='relu'))\n",
    "    model.add(Dropout(0.3))\n",
    "\n",
    "    model.add(Conv2D(200, kernel_size=3, strides=2, activation='relu'))\n",
    "    model.add(Dropout(0.3))\n",
    "\n",
    "    model.add(Flatten())\n",
    "\n",
    "    model.add(Dense(100, activation='relu'))\n",
    "    model.add(Dropout(0.4))\n",
    "    model.add(Dense(200, activation='relu'))\n",
    "    model.add(Dropout(0.4))\n",
    "    model.add(Dense(2, activation='linear'))\n",
    "\n",
    "    model.compile(loss='mse',optimizer='adam', metrics=['mae'])\n",
    "\n",
    "    checkpoint = ModelCheckpoint(\"rotnet_reg_model\", monitor='mae', verbose=1, save_best_only=True, save_weights_only=False, mode='auto', save_freq=1)\n",
    "    early = EarlyStopping(monitor='mae', min_delta=0.001, patience=20, verbose=2, mode='auto')\n",
    "\n",
    "    tensorboard = TensorBoard()\n",
    "\n",
    "    model.summary()\n",
    "    # model.fit(x, y, shuffle=True, workers=1, max_queue_size=1, use_multiprocessing=True, batch_size=64, epochs=50, validation_data=(x_val, y_val), callbacks=[checkpoint, early, tensorboard])\n",
    "\n"
   ]
  }
 ],
 "metadata": {
  "kernelspec": {
   "display_name": "Python 3 (ipykernel)",
   "language": "python",
   "name": "python3"
  },
  "language_info": {
   "codemirror_mode": {
    "name": "ipython",
    "version": 3
   },
   "file_extension": ".py",
   "mimetype": "text/x-python",
   "name": "python",
   "nbconvert_exporter": "python",
   "pygments_lexer": "ipython3",
   "version": "3.9.6"
  }
 },
 "nbformat": 4,
 "nbformat_minor": 1
}
